{
 "cells": [
  {
   "cell_type": "code",
   "execution_count": 1,
   "metadata": {},
   "outputs": [
    {
     "name": "stderr",
     "output_type": "stream",
     "text": [
      "C:\\Users\\User\\anaconda3\\lib\\site-packages\\statsmodels\\tsa\\base\\tsa_model.py:7: FutureWarning: pandas.Int64Index is deprecated and will be removed from pandas in a future version. Use pandas.Index with the appropriate dtype instead.\n",
      "  from pandas import (to_datetime, Int64Index, DatetimeIndex, Period,\n",
      "C:\\Users\\User\\anaconda3\\lib\\site-packages\\statsmodels\\tsa\\base\\tsa_model.py:7: FutureWarning: pandas.Float64Index is deprecated and will be removed from pandas in a future version. Use pandas.Index with the appropriate dtype instead.\n",
      "  from pandas import (to_datetime, Int64Index, DatetimeIndex, Period,\n"
     ]
    }
   ],
   "source": [
    "import pandas as pd\n",
    "import numpy as np\n",
    "import seaborn as sns\n",
    "import matplotlib.pyplot as plt\n",
    "\n",
    "#statsmodels modules for anova\n",
    "from statsmodels.formula.api import ols\n",
    "from statsmodels.graphics.api import interaction_plot, abline_plot\n",
    "from statsmodels.stats.anova import anova_lm\n",
    "\n",
    "#scikit-learn preprocessing libraries\n",
    "from sklearn.linear_model import LinearRegression\n",
    "from sklearn.preprocessing import StandardScaler,MinMaxScaler\n",
    "from sklearn.metrics import precision_score,plot_precision_recall_curve,accuracy_score,confusion_matrix,plot_confusion_matrix\n",
    "from sklearn.model_selection import GridSearchCV,RandomizedSearchCV,cross_val_score\n",
    "from sklearn.tree import DecisionTreeClassifier\n",
    "from sklearn.ensemble import RandomForestClassifier\n",
    "from sklearn.linear_model import LogisticRegression\n",
    "from sklearn.model_selection import train_test_split\n",
    "from sklearn.preprocessing import OneHotEncoder,OrdinalEncoder,LabelEncoder\n",
    "from sklearn.compose import ColumnTransformer,make_column_selector,make_column_transformer\n",
    "from sklearn.pipeline import make_pipeline,Pipeline\n",
    "from sklearn import set_config\n",
    "set_config(display = 'diagram')\n",
    "from sklearn.preprocessing import FunctionTransformer\n",
    "from sklearn.tree import plot_tree\n",
    "import sklearn\n",
    "\n",
    "\n",
    "\n",
    "#ols libraries\n",
    "import statsmodels.api as sm\n",
    "from sklearn.model_selection import train_test_split\n",
    "import statsmodels.formula.api as smf"
   ]
  },
  {
   "cell_type": "code",
   "execution_count": 2,
   "metadata": {},
   "outputs": [],
   "source": [
    "df = pd.read_csv(\"cleaned_data.xlsx\")"
   ]
  },
  {
   "cell_type": "markdown",
   "metadata": {},
   "source": [
    "# Inferencial Stats"
   ]
  },
  {
   "cell_type": "code",
   "execution_count": 3,
   "metadata": {},
   "outputs": [],
   "source": [
    "anova_ie = ols(\"i_c_t ~ C(schtype) * C(gender)\", data=df).fit()\n",
    "\n",
    "anova__ie_table = anova_lm(anova_ie,typ = 2)"
   ]
  },
  {
   "cell_type": "code",
   "execution_count": 48,
   "metadata": {},
   "outputs": [
    {
     "data": {
      "text/html": [
       "<div>\n",
       "<style scoped>\n",
       "    .dataframe tbody tr th:only-of-type {\n",
       "        vertical-align: middle;\n",
       "    }\n",
       "\n",
       "    .dataframe tbody tr th {\n",
       "        vertical-align: top;\n",
       "    }\n",
       "\n",
       "    .dataframe thead th {\n",
       "        text-align: right;\n",
       "    }\n",
       "</style>\n",
       "<table border=\"1\" class=\"dataframe\">\n",
       "  <thead>\n",
       "    <tr style=\"text-align: right;\">\n",
       "      <th></th>\n",
       "      <th>sum_sq</th>\n",
       "      <th>df</th>\n",
       "      <th>F</th>\n",
       "      <th>PR(&gt;F)</th>\n",
       "    </tr>\n",
       "  </thead>\n",
       "  <tbody>\n",
       "    <tr>\n",
       "      <th>C(schtype)</th>\n",
       "      <td>1461.338846</td>\n",
       "      <td>1.0</td>\n",
       "      <td>578.174522</td>\n",
       "      <td>2.096918e-117</td>\n",
       "    </tr>\n",
       "    <tr>\n",
       "      <th>C(gender)</th>\n",
       "      <td>70.268891</td>\n",
       "      <td>1.0</td>\n",
       "      <td>27.801685</td>\n",
       "      <td>1.435140e-07</td>\n",
       "    </tr>\n",
       "    <tr>\n",
       "      <th>C(schtype):C(gender)</th>\n",
       "      <td>3.868186</td>\n",
       "      <td>1.0</td>\n",
       "      <td>1.530437</td>\n",
       "      <td>2.161395e-01</td>\n",
       "    </tr>\n",
       "    <tr>\n",
       "      <th>Residual</th>\n",
       "      <td>7933.837386</td>\n",
       "      <td>3139.0</td>\n",
       "      <td>NaN</td>\n",
       "      <td>NaN</td>\n",
       "    </tr>\n",
       "  </tbody>\n",
       "</table>\n",
       "</div>"
      ],
      "text/plain": [
       "                           sum_sq      df           F         PR(>F)\n",
       "C(schtype)            1461.338846     1.0  578.174522  2.096918e-117\n",
       "C(gender)               70.268891     1.0   27.801685   1.435140e-07\n",
       "C(schtype):C(gender)     3.868186     1.0    1.530437   2.161395e-01\n",
       "Residual              7933.837386  3139.0         NaN            NaN"
      ]
     },
     "execution_count": 48,
     "metadata": {},
     "output_type": "execute_result"
    }
   ],
   "source": [
    "anova__ie_table"
   ]
  },
  {
   "cell_type": "code",
   "execution_count": 49,
   "metadata": {},
   "outputs": [
    {
     "ename": "NameError",
     "evalue": "name 'anova_table' is not defined",
     "output_type": "error",
     "traceback": [
      "\u001b[1;31m---------------------------------------------------------------------------\u001b[0m",
      "\u001b[1;31mNameError\u001b[0m                                 Traceback (most recent call last)",
      "\u001b[1;32mc:\\Users\\User\\Desktop\\VS-CODE\\PYTHON\\BECE-Grade-Analysis\\Inferencial_DA.ipynb Cell 6'\u001b[0m in \u001b[0;36m<cell line: 4>\u001b[1;34m()\u001b[0m\n\u001b[0;32m      <a href='vscode-notebook-cell:/c%3A/Users/User/Desktop/VS-CODE/PYTHON/BECE-Grade-Analysis/Inferencial_DA.ipynb#ch0000005?line=0'>1</a>\u001b[0m anova \u001b[39m=\u001b[39m ols(\u001b[39m\"\u001b[39m\u001b[39mi_c_t ~ C(schtype) + C(gender)\u001b[39m\u001b[39m\"\u001b[39m, data\u001b[39m=\u001b[39mdf)\u001b[39m.\u001b[39mfit()\n\u001b[0;32m      <a href='vscode-notebook-cell:/c%3A/Users/User/Desktop/VS-CODE/PYTHON/BECE-Grade-Analysis/Inferencial_DA.ipynb#ch0000005?line=2'>3</a>\u001b[0m anovatable \u001b[39m=\u001b[39m anova_lm(anova,typ \u001b[39m=\u001b[39m \u001b[39m2\u001b[39m)\n\u001b[1;32m----> <a href='vscode-notebook-cell:/c%3A/Users/User/Desktop/VS-CODE/PYTHON/BECE-Grade-Analysis/Inferencial_DA.ipynb#ch0000005?line=3'>4</a>\u001b[0m anova_table\n",
      "\u001b[1;31mNameError\u001b[0m: name 'anova_table' is not defined"
     ]
    }
   ],
   "source": [
    "anova = ols(\"i_c_t ~ C(schtype) + C(gender)\", data=df).fit()\n",
    "\n",
    "anovatable = anova_lm(anova,typ = 2)\n",
    "anova_table"
   ]
  },
  {
   "cell_type": "code",
   "execution_count": null,
   "metadata": {},
   "outputs": [],
   "source": [
    "spector_data = sm.datasets.spector.load_pandas()"
   ]
  },
  {
   "cell_type": "code",
   "execution_count": null,
   "metadata": {},
   "outputs": [
    {
     "data": {
      "text/html": [
       "<div>\n",
       "<style scoped>\n",
       "    .dataframe tbody tr th:only-of-type {\n",
       "        vertical-align: middle;\n",
       "    }\n",
       "\n",
       "    .dataframe tbody tr th {\n",
       "        vertical-align: top;\n",
       "    }\n",
       "\n",
       "    .dataframe thead th {\n",
       "        text-align: right;\n",
       "    }\n",
       "</style>\n",
       "<table border=\"1\" class=\"dataframe\">\n",
       "  <thead>\n",
       "    <tr style=\"text-align: right;\">\n",
       "      <th></th>\n",
       "      <th>GPA</th>\n",
       "      <th>TUCE</th>\n",
       "      <th>PSI</th>\n",
       "    </tr>\n",
       "  </thead>\n",
       "  <tbody>\n",
       "    <tr>\n",
       "      <th>0</th>\n",
       "      <td>2.66</td>\n",
       "      <td>20.0</td>\n",
       "      <td>0.0</td>\n",
       "    </tr>\n",
       "    <tr>\n",
       "      <th>1</th>\n",
       "      <td>2.89</td>\n",
       "      <td>22.0</td>\n",
       "      <td>0.0</td>\n",
       "    </tr>\n",
       "    <tr>\n",
       "      <th>2</th>\n",
       "      <td>3.28</td>\n",
       "      <td>24.0</td>\n",
       "      <td>0.0</td>\n",
       "    </tr>\n",
       "    <tr>\n",
       "      <th>3</th>\n",
       "      <td>2.92</td>\n",
       "      <td>12.0</td>\n",
       "      <td>0.0</td>\n",
       "    </tr>\n",
       "    <tr>\n",
       "      <th>4</th>\n",
       "      <td>4.00</td>\n",
       "      <td>21.0</td>\n",
       "      <td>0.0</td>\n",
       "    </tr>\n",
       "  </tbody>\n",
       "</table>\n",
       "</div>"
      ],
      "text/plain": [
       "    GPA  TUCE  PSI\n",
       "0  2.66  20.0  0.0\n",
       "1  2.89  22.0  0.0\n",
       "2  3.28  24.0  0.0\n",
       "3  2.92  12.0  0.0\n",
       "4  4.00  21.0  0.0"
      ]
     },
     "execution_count": 11,
     "metadata": {},
     "output_type": "execute_result"
    }
   ],
   "source": [
    "spector_data.exog.head()"
   ]
  },
  {
   "cell_type": "code",
   "execution_count": null,
   "metadata": {},
   "outputs": [],
   "source": [
    "dep = df[['mathematics',\"integrated_science\"]]"
   ]
  },
  {
   "cell_type": "code",
   "execution_count": null,
   "metadata": {},
   "outputs": [
    {
     "name": "stderr",
     "output_type": "stream",
     "text": [
      "C:\\Users\\User\\anaconda3\\lib\\site-packages\\statsmodels\\tsa\\tsatools.py:142: FutureWarning: In a future version of pandas all arguments of concat except for the argument 'objs' will be keyword-only.\n",
      "  x = pd.concat(x[::order], 1)\n"
     ]
    },
    {
     "ename": "ValueError",
     "evalue": "endog must be in the unit interval.",
     "output_type": "error",
     "traceback": [
      "\u001b[1;31m---------------------------------------------------------------------------\u001b[0m",
      "\u001b[1;31mValueError\u001b[0m                                Traceback (most recent call last)",
      "\u001b[1;32mc:\\Users\\User\\Desktop\\VS-CODE\\PYTHON\\BECE-Grade-Analysis\\inferencial_DA.ipynb Cell 9'\u001b[0m in \u001b[0;36m<cell line: 6>\u001b[1;34m()\u001b[0m\n\u001b[0;32m      <a href='vscode-notebook-cell:/c%3A/Users/User/Desktop/VS-CODE/PYTHON/BECE-Grade-Analysis/inferencial_DA.ipynb#ch0000017?line=2'>3</a>\u001b[0m dep_plus_constant \u001b[39m=\u001b[39m sm\u001b[39m.\u001b[39madd_constant(dep)\n\u001b[0;32m      <a href='vscode-notebook-cell:/c%3A/Users/User/Desktop/VS-CODE/PYTHON/BECE-Grade-Analysis/inferencial_DA.ipynb#ch0000017?line=4'>5</a>\u001b[0m \u001b[39m# Logit Model\u001b[39;00m\n\u001b[1;32m----> <a href='vscode-notebook-cell:/c%3A/Users/User/Desktop/VS-CODE/PYTHON/BECE-Grade-Analysis/inferencial_DA.ipynb#ch0000017?line=5'>6</a>\u001b[0m logit_mod \u001b[39m=\u001b[39m sm\u001b[39m.\u001b[39;49mLogit(df[\u001b[39m\"\u001b[39;49m\u001b[39mi_c_t\u001b[39;49m\u001b[39m\"\u001b[39;49m], dep_plus_constant,)\n\u001b[0;32m      <a href='vscode-notebook-cell:/c%3A/Users/User/Desktop/VS-CODE/PYTHON/BECE-Grade-Analysis/inferencial_DA.ipynb#ch0000017?line=7'>8</a>\u001b[0m logit_res \u001b[39m=\u001b[39m statsmodels\u001b[39m.\u001b[39mdiscrete\u001b[39m.\u001b[39mdiscrete_model\u001b[39m.\u001b[39mMNLogit\u001b[39m.\u001b[39mfit()\n\u001b[0;32m      <a href='vscode-notebook-cell:/c%3A/Users/User/Desktop/VS-CODE/PYTHON/BECE-Grade-Analysis/inferencial_DA.ipynb#ch0000017?line=8'>9</a>\u001b[0m \u001b[39m# Optimization terminated successfully.\u001b[39;00m\n\u001b[0;32m     <a href='vscode-notebook-cell:/c%3A/Users/User/Desktop/VS-CODE/PYTHON/BECE-Grade-Analysis/inferencial_DA.ipynb#ch0000017?line=9'>10</a>\u001b[0m \u001b[39m#          Current function value: 0.402801\u001b[39;00m\n\u001b[0;32m     <a href='vscode-notebook-cell:/c%3A/Users/User/Desktop/VS-CODE/PYTHON/BECE-Grade-Analysis/inferencial_DA.ipynb#ch0000017?line=10'>11</a>\u001b[0m \u001b[39m#          Iterations 7\u001b[39;00m\n",
      "File \u001b[1;32m~\\anaconda3\\lib\\site-packages\\statsmodels\\discrete\\discrete_model.py:461\u001b[0m, in \u001b[0;36mBinaryModel.__init__\u001b[1;34m(self, endog, exog, check_rank, **kwargs)\u001b[0m\n\u001b[0;32m    <a href='file:///c%3A/Users/User/anaconda3/lib/site-packages/statsmodels/discrete/discrete_model.py?line=458'>459</a>\u001b[0m \u001b[39mif\u001b[39;00m \u001b[39mnot\u001b[39;00m \u001b[39missubclass\u001b[39m(\u001b[39mself\u001b[39m\u001b[39m.\u001b[39m\u001b[39m__class__\u001b[39m, MultinomialModel):\n\u001b[0;32m    <a href='file:///c%3A/Users/User/anaconda3/lib/site-packages/statsmodels/discrete/discrete_model.py?line=459'>460</a>\u001b[0m     \u001b[39mif\u001b[39;00m \u001b[39mnot\u001b[39;00m np\u001b[39m.\u001b[39mall((\u001b[39mself\u001b[39m\u001b[39m.\u001b[39mendog \u001b[39m>\u001b[39m\u001b[39m=\u001b[39m \u001b[39m0\u001b[39m) \u001b[39m&\u001b[39m (\u001b[39mself\u001b[39m\u001b[39m.\u001b[39mendog \u001b[39m<\u001b[39m\u001b[39m=\u001b[39m \u001b[39m1\u001b[39m)):\n\u001b[1;32m--> <a href='file:///c%3A/Users/User/anaconda3/lib/site-packages/statsmodels/discrete/discrete_model.py?line=460'>461</a>\u001b[0m         \u001b[39mraise\u001b[39;00m \u001b[39mValueError\u001b[39;00m(\u001b[39m\"\u001b[39m\u001b[39mendog must be in the unit interval.\u001b[39m\u001b[39m\"\u001b[39m)\n\u001b[0;32m    <a href='file:///c%3A/Users/User/anaconda3/lib/site-packages/statsmodels/discrete/discrete_model.py?line=462'>463</a>\u001b[0m     \u001b[39mif\u001b[39;00m (\u001b[39mnot\u001b[39;00m \u001b[39mself\u001b[39m\u001b[39m.\u001b[39m_continuous_ok \u001b[39mand\u001b[39;00m\n\u001b[0;32m    <a href='file:///c%3A/Users/User/anaconda3/lib/site-packages/statsmodels/discrete/discrete_model.py?line=463'>464</a>\u001b[0m             np\u001b[39m.\u001b[39many(\u001b[39mself\u001b[39m\u001b[39m.\u001b[39mendog \u001b[39m!=\u001b[39m np\u001b[39m.\u001b[39mround(\u001b[39mself\u001b[39m\u001b[39m.\u001b[39mendog))):\n\u001b[0;32m    <a href='file:///c%3A/Users/User/anaconda3/lib/site-packages/statsmodels/discrete/discrete_model.py?line=464'>465</a>\u001b[0m         \u001b[39mraise\u001b[39;00m \u001b[39mValueError\u001b[39;00m(\u001b[39m\"\u001b[39m\u001b[39mendog must be binary, either 0 or 1\u001b[39m\u001b[39m\"\u001b[39m)\n",
      "\u001b[1;31mValueError\u001b[0m: endog must be in the unit interval."
     ]
    }
   ],
   "source": [
    "import statsmodels.api as sm\n",
    "\n",
    "dep_plus_constant = sm.add_constant(dep)\n",
    "\n",
    "# Logit Model\n",
    "logit_mod = sm.Logit(df[\"i_c_t\"], dep_plus_constant,)\n",
    "\n",
    "logit_res = statsmodels.discrete.discrete_model.MNLogit.fit()\n",
    "# Optimization terminated successfully.\n",
    "#          Current function value: 0.402801\n",
    "#          Iterations 7\n",
    "\n",
    "print(logit_res.summary())"
   ]
  },
  {
   "cell_type": "code",
   "execution_count": null,
   "metadata": {},
   "outputs": [
    {
     "data": {
      "text/plain": [
       "3"
      ]
     },
     "execution_count": 19,
     "metadata": {},
     "output_type": "execute_result"
    }
   ],
   "source": [
    "sns.load_dataset(\"iris\")['species'].nunique()"
   ]
  },
  {
   "cell_type": "code",
   "execution_count": 50,
   "metadata": {},
   "outputs": [
    {
     "ename": "NameError",
     "evalue": "name 'dep' is not defined",
     "output_type": "error",
     "traceback": [
      "\u001b[1;31m---------------------------------------------------------------------------\u001b[0m",
      "\u001b[1;31mNameError\u001b[0m                                 Traceback (most recent call last)",
      "\u001b[1;32mc:\\Users\\User\\Desktop\\VS-CODE\\PYTHON\\BECE-Grade-Analysis\\Inferencial_DA.ipynb Cell 12'\u001b[0m in \u001b[0;36m<cell line: 3>\u001b[1;34m()\u001b[0m\n\u001b[0;32m      <a href='vscode-notebook-cell:/c%3A/Users/User/Desktop/VS-CODE/PYTHON/BECE-Grade-Analysis/Inferencial_DA.ipynb#ch0000011?line=0'>1</a>\u001b[0m \u001b[39mimport\u001b[39;00m \u001b[39mstatsmodels\u001b[39;00m\u001b[39m.\u001b[39;00m\u001b[39mapi\u001b[39;00m \u001b[39mas\u001b[39;00m \u001b[39mst\u001b[39;00m\n\u001b[1;32m----> <a href='vscode-notebook-cell:/c%3A/Users/User/Desktop/VS-CODE/PYTHON/BECE-Grade-Analysis/Inferencial_DA.ipynb#ch0000011?line=2'>3</a>\u001b[0m dep_plus_constant \u001b[39m=\u001b[39m sm\u001b[39m.\u001b[39madd_constant(dep)\n\u001b[0;32m      <a href='vscode-notebook-cell:/c%3A/Users/User/Desktop/VS-CODE/PYTHON/BECE-Grade-Analysis/Inferencial_DA.ipynb#ch0000011?line=3'>4</a>\u001b[0m mdl \u001b[39m=\u001b[39m st\u001b[39m.\u001b[39mMNLogit(df[\u001b[39m'\u001b[39m\u001b[39mi_c_t\u001b[39m\u001b[39m'\u001b[39m], dep_plus_constant)\n\u001b[0;32m      <a href='vscode-notebook-cell:/c%3A/Users/User/Desktop/VS-CODE/PYTHON/BECE-Grade-Analysis/Inferencial_DA.ipynb#ch0000011?line=5'>6</a>\u001b[0m mdl_fit \u001b[39m=\u001b[39m mdl\u001b[39m.\u001b[39mfit()\n",
      "\u001b[1;31mNameError\u001b[0m: name 'dep' is not defined"
     ]
    }
   ],
   "source": [
    "import statsmodels.api as st\n",
    "\n",
    "dep_plus_constant = sm.add_constant(dep)\n",
    "mdl = st.MNLogit(df['i_c_t'], dep_plus_constant)\n",
    " \n",
    "mdl_fit = mdl.fit()\n",
    "mdl_fit.summary()"
   ]
  },
  {
   "cell_type": "code",
   "execution_count": null,
   "metadata": {},
   "outputs": [],
   "source": []
  },
  {
   "cell_type": "code",
   "execution_count": null,
   "metadata": {},
   "outputs": [],
   "source": []
  },
  {
   "cell_type": "code",
   "execution_count": null,
   "metadata": {},
   "outputs": [],
   "source": [
    "dummies = pd.get_dummies(df.loc[:,df.columns!='circuit'],drop_first=True)\n",
    "dummies.head()"
   ]
  },
  {
   "cell_type": "code",
   "execution_count": 51,
   "metadata": {},
   "outputs": [],
   "source": [
    "circuit = pd.get_dummies(df[\"circuit\"],drop_first=False)\n",
    "circuit = circuit.drop(columns=[\"YAMORANSA\"],axis =1) #drop YAMORANSA from the encoded columns"
   ]
  },
  {
   "cell_type": "code",
   "execution_count": 52,
   "metadata": {},
   "outputs": [
    {
     "ename": "NameError",
     "evalue": "name 'dummies' is not defined",
     "output_type": "error",
     "traceback": [
      "\u001b[1;31m---------------------------------------------------------------------------\u001b[0m",
      "\u001b[1;31mNameError\u001b[0m                                 Traceback (most recent call last)",
      "\u001b[1;32mc:\\Users\\User\\Desktop\\VS-CODE\\PYTHON\\BECE-Grade-Analysis\\Inferencial_DA.ipynb Cell 17'\u001b[0m in \u001b[0;36m<cell line: 3>\u001b[1;34m()\u001b[0m\n\u001b[0;32m      <a href='vscode-notebook-cell:/c%3A/Users/User/Desktop/VS-CODE/PYTHON/BECE-Grade-Analysis/Inferencial_DA.ipynb#ch0000016?line=0'>1</a>\u001b[0m \u001b[39m#concatenate circuit and the other encoded columns (dummies)\u001b[39;00m\n\u001b[1;32m----> <a href='vscode-notebook-cell:/c%3A/Users/User/Desktop/VS-CODE/PYTHON/BECE-Grade-Analysis/Inferencial_DA.ipynb#ch0000016?line=2'>3</a>\u001b[0m df_ols \u001b[39m=\u001b[39m pd\u001b[39m.\u001b[39mconcat([circuit,dummies],axis \u001b[39m=\u001b[39m \u001b[39m1\u001b[39m)\n\u001b[0;32m      <a href='vscode-notebook-cell:/c%3A/Users/User/Desktop/VS-CODE/PYTHON/BECE-Grade-Analysis/Inferencial_DA.ipynb#ch0000016?line=4'>5</a>\u001b[0m df_ols\u001b[39m.\u001b[39mcolumns \u001b[39m=\u001b[39m [x\u001b[39m.\u001b[39mlower() \u001b[39mfor\u001b[39;00m x \u001b[39min\u001b[39;00m df_ols\u001b[39m.\u001b[39mcolumns] \u001b[39m#change all upper case column names to lower case\u001b[39;00m\n\u001b[0;32m      <a href='vscode-notebook-cell:/c%3A/Users/User/Desktop/VS-CODE/PYTHON/BECE-Grade-Analysis/Inferencial_DA.ipynb#ch0000016?line=5'>6</a>\u001b[0m df_ols\u001b[39m.\u001b[39mcolumns \u001b[39m=\u001b[39m [column\u001b[39m.\u001b[39mreplace(\u001b[39m\"\u001b[39m\u001b[39m \u001b[39m\u001b[39m\"\u001b[39m,\u001b[39m\"\u001b[39m\u001b[39m_\u001b[39m\u001b[39m\"\u001b[39m) \u001b[39mfor\u001b[39;00m column \u001b[39min\u001b[39;00m df_ols\u001b[39m.\u001b[39mcolumns]    \u001b[39m#get rid of all whitespaces in column names\u001b[39;00m\n",
      "\u001b[1;31mNameError\u001b[0m: name 'dummies' is not defined"
     ]
    }
   ],
   "source": [
    "#concatenate circuit and the other encoded columns (dummies)\n",
    "\n",
    "df_ols = pd.concat([circuit,dummies],axis = 1)\n",
    "\n",
    "df_ols.columns = [x.lower() for x in df_ols.columns] #change all upper case column names to lower case\n",
    "df_ols.columns = [column.replace(\" \",\"_\") for column in df_ols.columns]    #get rid of all whitespaces in column names\n",
    "\n",
    "df_ols.head()"
   ]
  },
  {
   "cell_type": "code",
   "execution_count": null,
   "metadata": {},
   "outputs": [],
   "source": [
    "scaler = StandardScaler()"
   ]
  },
  {
   "cell_type": "code",
   "execution_count": null,
   "metadata": {},
   "outputs": [],
   "source": [
    "new_df = scaler.fit_transform(df_ols)"
   ]
  },
  {
   "cell_type": "code",
   "execution_count": 53,
   "metadata": {},
   "outputs": [
    {
     "ename": "NameError",
     "evalue": "name 'df_ols' is not defined",
     "output_type": "error",
     "traceback": [
      "\u001b[1;31m---------------------------------------------------------------------------\u001b[0m",
      "\u001b[1;31mNameError\u001b[0m                                 Traceback (most recent call last)",
      "\u001b[1;32mc:\\Users\\User\\Desktop\\VS-CODE\\PYTHON\\BECE-Grade-Analysis\\Inferencial_DA.ipynb Cell 20'\u001b[0m in \u001b[0;36m<cell line: 1>\u001b[1;34m()\u001b[0m\n\u001b[1;32m----> <a href='vscode-notebook-cell:/c%3A/Users/User/Desktop/VS-CODE/PYTHON/BECE-Grade-Analysis/Inferencial_DA.ipynb#ch0000019?line=0'>1</a>\u001b[0m df_ols \u001b[39m=\u001b[39m pd\u001b[39m.\u001b[39mDataFrame(new_df,columns\u001b[39m=\u001b[39mdf_ols\u001b[39m.\u001b[39mcolumns)\n",
      "\u001b[1;31mNameError\u001b[0m: name 'df_ols' is not defined"
     ]
    }
   ],
   "source": [
    "df_ols = pd.DataFrame(new_df,columns=df_ols.columns)"
   ]
  },
  {
   "cell_type": "code",
   "execution_count": null,
   "metadata": {},
   "outputs": [],
   "source": [
    "df_ols.columns"
   ]
  },
  {
   "cell_type": "code",
   "execution_count": 54,
   "metadata": {},
   "outputs": [
    {
     "ename": "NameError",
     "evalue": "name 'df_ols' is not defined",
     "output_type": "error",
     "traceback": [
      "\u001b[1;31m---------------------------------------------------------------------------\u001b[0m",
      "\u001b[1;31mNameError\u001b[0m                                 Traceback (most recent call last)",
      "\u001b[1;32mc:\\Users\\User\\Desktop\\VS-CODE\\PYTHON\\BECE-Grade-Analysis\\Inferencial_DA.ipynb Cell 22'\u001b[0m in \u001b[0;36m<cell line: 1>\u001b[1;34m()\u001b[0m\n\u001b[1;32m----> <a href='vscode-notebook-cell:/c%3A/Users/User/Desktop/VS-CODE/PYTHON/BECE-Grade-Analysis/Inferencial_DA.ipynb#ch0000021?line=0'>1</a>\u001b[0m model \u001b[39m=\u001b[39m smf\u001b[39m.\u001b[39mols(formula\u001b[39m=\u001b[39m\u001b[39m\"\u001b[39m\u001b[39mi_c_t~age+anomabo_a+anomabo_b+mankessim_a+mankessim_b+mdominase+saltpond_a+saltpond_b+schtype_public+gender_m+mathematics+english_language\u001b[39m\u001b[39m\"\u001b[39m,data \u001b[39m=\u001b[39m df_ols)\u001b[39m.\u001b[39mfit()\n",
      "\u001b[1;31mNameError\u001b[0m: name 'df_ols' is not defined"
     ]
    }
   ],
   "source": [
    "model = smf.ols(formula=\"i_c_t~age+anomabo_a+anomabo_b+mankessim_a+mankessim_b+mdominase+saltpond_a+saltpond_b+schtype_public+gender_m+mathematics+english_language\",data = df_ols).fit()"
   ]
  },
  {
   "cell_type": "code",
   "execution_count": null,
   "metadata": {},
   "outputs": [],
   "source": [
    "model.summary()"
   ]
  },
  {
   "cell_type": "code",
   "execution_count": 55,
   "metadata": {},
   "outputs": [
    {
     "ename": "NameError",
     "evalue": "name 'df_ols' is not defined",
     "output_type": "error",
     "traceback": [
      "\u001b[1;31m---------------------------------------------------------------------------\u001b[0m",
      "\u001b[1;31mNameError\u001b[0m                                 Traceback (most recent call last)",
      "\u001b[1;32mc:\\Users\\User\\Desktop\\VS-CODE\\PYTHON\\BECE-Grade-Analysis\\Inferencial_DA.ipynb Cell 24'\u001b[0m in \u001b[0;36m<cell line: 1>\u001b[1;34m()\u001b[0m\n\u001b[1;32m----> <a href='vscode-notebook-cell:/c%3A/Users/User/Desktop/VS-CODE/PYTHON/BECE-Grade-Analysis/Inferencial_DA.ipynb#ch0000023?line=0'>1</a>\u001b[0m model2 \u001b[39m=\u001b[39m smf\u001b[39m.\u001b[39mols(formula\u001b[39m=\u001b[39m\u001b[39m\"\u001b[39m\u001b[39mi_c_t~schtype_public+gender_m+mathematics+english_language\u001b[39m\u001b[39m\"\u001b[39m,data \u001b[39m=\u001b[39m df_ols)\u001b[39m.\u001b[39mfit()\n",
      "\u001b[1;31mNameError\u001b[0m: name 'df_ols' is not defined"
     ]
    }
   ],
   "source": [
    "model2 = smf.ols(formula=\"i_c_t~schtype_public+gender_m+mathematics+english_language\",data = df_ols).fit()"
   ]
  },
  {
   "cell_type": "code",
   "execution_count": null,
   "metadata": {},
   "outputs": [],
   "source": [
    "model2.summary()"
   ]
  },
  {
   "cell_type": "markdown",
   "metadata": {},
   "source": [
    "# Machine Learning Inference"
   ]
  },
  {
   "cell_type": "markdown",
   "metadata": {},
   "source": [
    "## Data Preprocessing"
   ]
  },
  {
   "cell_type": "markdown",
   "metadata": {},
   "source": []
  },
  {
   "cell_type": "code",
   "execution_count": 4,
   "metadata": {},
   "outputs": [
    {
     "data": {
      "text/html": [
       "<div>\n",
       "<style scoped>\n",
       "    .dataframe tbody tr th:only-of-type {\n",
       "        vertical-align: middle;\n",
       "    }\n",
       "\n",
       "    .dataframe tbody tr th {\n",
       "        vertical-align: top;\n",
       "    }\n",
       "\n",
       "    .dataframe thead th {\n",
       "        text-align: right;\n",
       "    }\n",
       "</style>\n",
       "<table border=\"1\" class=\"dataframe\">\n",
       "  <thead>\n",
       "    <tr style=\"text-align: right;\">\n",
       "      <th></th>\n",
       "      <th>cid</th>\n",
       "      <th>social_studies</th>\n",
       "      <th>integrated_science</th>\n",
       "      <th>i_c_t</th>\n",
       "      <th>r_m_e</th>\n",
       "      <th>fante</th>\n",
       "      <th>mathematics</th>\n",
       "      <th>english_language</th>\n",
       "      <th>b_d_t</th>\n",
       "      <th>schtype</th>\n",
       "      <th>age</th>\n",
       "      <th>gender</th>\n",
       "      <th>circuit</th>\n",
       "      <th>aggregate</th>\n",
       "    </tr>\n",
       "  </thead>\n",
       "  <tbody>\n",
       "    <tr>\n",
       "      <th>0</th>\n",
       "      <td>302063052</td>\n",
       "      <td>1</td>\n",
       "      <td>1</td>\n",
       "      <td>1</td>\n",
       "      <td>2</td>\n",
       "      <td>2</td>\n",
       "      <td>1</td>\n",
       "      <td>2</td>\n",
       "      <td>2</td>\n",
       "      <td>PRIVATE</td>\n",
       "      <td>15.0</td>\n",
       "      <td>M</td>\n",
       "      <td>SALTPOND B</td>\n",
       "      <td>8.0</td>\n",
       "    </tr>\n",
       "    <tr>\n",
       "      <th>1</th>\n",
       "      <td>302063055</td>\n",
       "      <td>1</td>\n",
       "      <td>2</td>\n",
       "      <td>4</td>\n",
       "      <td>4</td>\n",
       "      <td>4</td>\n",
       "      <td>5</td>\n",
       "      <td>3</td>\n",
       "      <td>3</td>\n",
       "      <td>PRIVATE</td>\n",
       "      <td>15.0</td>\n",
       "      <td>F</td>\n",
       "      <td>SALTPOND B</td>\n",
       "      <td>18.0</td>\n",
       "    </tr>\n",
       "    <tr>\n",
       "      <th>2</th>\n",
       "      <td>302156005</td>\n",
       "      <td>1</td>\n",
       "      <td>3</td>\n",
       "      <td>5</td>\n",
       "      <td>2</td>\n",
       "      <td>3</td>\n",
       "      <td>4</td>\n",
       "      <td>5</td>\n",
       "      <td>5</td>\n",
       "      <td>PUBLIC</td>\n",
       "      <td>19.0</td>\n",
       "      <td>M</td>\n",
       "      <td>MANKESSIM A</td>\n",
       "      <td>18.0</td>\n",
       "    </tr>\n",
       "    <tr>\n",
       "      <th>3</th>\n",
       "      <td>302063042</td>\n",
       "      <td>1</td>\n",
       "      <td>1</td>\n",
       "      <td>2</td>\n",
       "      <td>2</td>\n",
       "      <td>2</td>\n",
       "      <td>2</td>\n",
       "      <td>1</td>\n",
       "      <td>2</td>\n",
       "      <td>PRIVATE</td>\n",
       "      <td>16.0</td>\n",
       "      <td>M</td>\n",
       "      <td>SALTPOND B</td>\n",
       "      <td>9.0</td>\n",
       "    </tr>\n",
       "    <tr>\n",
       "      <th>4</th>\n",
       "      <td>302148014</td>\n",
       "      <td>1</td>\n",
       "      <td>4</td>\n",
       "      <td>6</td>\n",
       "      <td>3</td>\n",
       "      <td>2</td>\n",
       "      <td>5</td>\n",
       "      <td>4</td>\n",
       "      <td>4</td>\n",
       "      <td>PUBLIC</td>\n",
       "      <td>17.0</td>\n",
       "      <td>M</td>\n",
       "      <td>MDOMINASE</td>\n",
       "      <td>19.0</td>\n",
       "    </tr>\n",
       "  </tbody>\n",
       "</table>\n",
       "</div>"
      ],
      "text/plain": [
       "         cid  social_studies  integrated_science  i_c_t  r_m_e  fante  \\\n",
       "0  302063052               1                   1      1      2      2   \n",
       "1  302063055               1                   2      4      4      4   \n",
       "2  302156005               1                   3      5      2      3   \n",
       "3  302063042               1                   1      2      2      2   \n",
       "4  302148014               1                   4      6      3      2   \n",
       "\n",
       "   mathematics  english_language  b_d_t  schtype   age gender      circuit  \\\n",
       "0            1                 2      2  PRIVATE  15.0      M   SALTPOND B   \n",
       "1            5                 3      3  PRIVATE  15.0      F   SALTPOND B   \n",
       "2            4                 5      5   PUBLIC  19.0      M  MANKESSIM A   \n",
       "3            2                 1      2  PRIVATE  16.0      M   SALTPOND B   \n",
       "4            5                 4      4   PUBLIC  17.0      M    MDOMINASE   \n",
       "\n",
       "   aggregate  \n",
       "0        8.0  \n",
       "1       18.0  \n",
       "2       18.0  \n",
       "3        9.0  \n",
       "4       19.0  "
      ]
     },
     "execution_count": 4,
     "metadata": {},
     "output_type": "execute_result"
    }
   ],
   "source": [
    "df = df.drop(columns = df.iloc[:,[0]].columns)\n",
    "df.head()"
   ]
  },
  {
   "cell_type": "code",
   "execution_count": 5,
   "metadata": {},
   "outputs": [],
   "source": [
    "new_df = df[['mathematics',\"integrated_science\",\"english_language\",\"schtype\",\"gender\",\"circuit\",\"i_c_t\", \"age\",\"social_studies\",\"r_m_e\",\"fante\",\"b_d_t\"]]"
   ]
  },
  {
   "cell_type": "code",
   "execution_count": 6,
   "metadata": {},
   "outputs": [],
   "source": [
    "X = new_df.drop(columns = [\"i_c_t\"],axis = 1)\n",
    "y = new_df['i_c_t']"
   ]
  },
  {
   "cell_type": "code",
   "execution_count": 7,
   "metadata": {},
   "outputs": [
    {
     "data": {
      "text/html": [
       "<div>\n",
       "<style scoped>\n",
       "    .dataframe tbody tr th:only-of-type {\n",
       "        vertical-align: middle;\n",
       "    }\n",
       "\n",
       "    .dataframe tbody tr th {\n",
       "        vertical-align: top;\n",
       "    }\n",
       "\n",
       "    .dataframe thead th {\n",
       "        text-align: right;\n",
       "    }\n",
       "</style>\n",
       "<table border=\"1\" class=\"dataframe\">\n",
       "  <thead>\n",
       "    <tr style=\"text-align: right;\">\n",
       "      <th></th>\n",
       "      <th>mathematics</th>\n",
       "      <th>integrated_science</th>\n",
       "      <th>english_language</th>\n",
       "      <th>schtype</th>\n",
       "      <th>gender</th>\n",
       "      <th>circuit</th>\n",
       "      <th>age</th>\n",
       "      <th>social_studies</th>\n",
       "      <th>r_m_e</th>\n",
       "      <th>fante</th>\n",
       "      <th>b_d_t</th>\n",
       "    </tr>\n",
       "  </thead>\n",
       "  <tbody>\n",
       "    <tr>\n",
       "      <th>0</th>\n",
       "      <td>1</td>\n",
       "      <td>1</td>\n",
       "      <td>2</td>\n",
       "      <td>PRIVATE</td>\n",
       "      <td>M</td>\n",
       "      <td>SALTPOND B</td>\n",
       "      <td>15.0</td>\n",
       "      <td>1</td>\n",
       "      <td>2</td>\n",
       "      <td>2</td>\n",
       "      <td>2</td>\n",
       "    </tr>\n",
       "    <tr>\n",
       "      <th>1</th>\n",
       "      <td>5</td>\n",
       "      <td>2</td>\n",
       "      <td>3</td>\n",
       "      <td>PRIVATE</td>\n",
       "      <td>F</td>\n",
       "      <td>SALTPOND B</td>\n",
       "      <td>15.0</td>\n",
       "      <td>1</td>\n",
       "      <td>4</td>\n",
       "      <td>4</td>\n",
       "      <td>3</td>\n",
       "    </tr>\n",
       "    <tr>\n",
       "      <th>2</th>\n",
       "      <td>4</td>\n",
       "      <td>3</td>\n",
       "      <td>5</td>\n",
       "      <td>PUBLIC</td>\n",
       "      <td>M</td>\n",
       "      <td>MANKESSIM A</td>\n",
       "      <td>19.0</td>\n",
       "      <td>1</td>\n",
       "      <td>2</td>\n",
       "      <td>3</td>\n",
       "      <td>5</td>\n",
       "    </tr>\n",
       "    <tr>\n",
       "      <th>3</th>\n",
       "      <td>2</td>\n",
       "      <td>1</td>\n",
       "      <td>1</td>\n",
       "      <td>PRIVATE</td>\n",
       "      <td>M</td>\n",
       "      <td>SALTPOND B</td>\n",
       "      <td>16.0</td>\n",
       "      <td>1</td>\n",
       "      <td>2</td>\n",
       "      <td>2</td>\n",
       "      <td>2</td>\n",
       "    </tr>\n",
       "    <tr>\n",
       "      <th>4</th>\n",
       "      <td>5</td>\n",
       "      <td>4</td>\n",
       "      <td>4</td>\n",
       "      <td>PUBLIC</td>\n",
       "      <td>M</td>\n",
       "      <td>MDOMINASE</td>\n",
       "      <td>17.0</td>\n",
       "      <td>1</td>\n",
       "      <td>3</td>\n",
       "      <td>2</td>\n",
       "      <td>4</td>\n",
       "    </tr>\n",
       "  </tbody>\n",
       "</table>\n",
       "</div>"
      ],
      "text/plain": [
       "   mathematics  integrated_science  english_language  schtype gender  \\\n",
       "0            1                   1                 2  PRIVATE      M   \n",
       "1            5                   2                 3  PRIVATE      F   \n",
       "2            4                   3                 5   PUBLIC      M   \n",
       "3            2                   1                 1  PRIVATE      M   \n",
       "4            5                   4                 4   PUBLIC      M   \n",
       "\n",
       "       circuit   age  social_studies  r_m_e  fante  b_d_t  \n",
       "0   SALTPOND B  15.0               1      2      2      2  \n",
       "1   SALTPOND B  15.0               1      4      4      3  \n",
       "2  MANKESSIM A  19.0               1      2      3      5  \n",
       "3   SALTPOND B  16.0               1      2      2      2  \n",
       "4    MDOMINASE  17.0               1      3      2      4  "
      ]
     },
     "execution_count": 7,
     "metadata": {},
     "output_type": "execute_result"
    }
   ],
   "source": [
    "X.head()"
   ]
  },
  {
   "cell_type": "code",
   "execution_count": 8,
   "metadata": {},
   "outputs": [
    {
     "data": {
      "text/plain": [
       "MANKESSIM A    645\n",
       "MANKESSIM B    501\n",
       "SALTPOND A     462\n",
       "ANOMABO A      375\n",
       "MDOMINASE      333\n",
       "SALTPOND B     328\n",
       "ANOMABO B      251\n",
       "YAMORANSA      248\n",
       "Name: circuit, dtype: int64"
      ]
     },
     "execution_count": 8,
     "metadata": {},
     "output_type": "execute_result"
    }
   ],
   "source": [
    "X['circuit'].value_counts()"
   ]
  },
  {
   "cell_type": "code",
   "execution_count": 9,
   "metadata": {},
   "outputs": [
    {
     "data": {
      "text/plain": [
       "0    1\n",
       "1    4\n",
       "2    5\n",
       "3    2\n",
       "4    6\n",
       "Name: i_c_t, dtype: int64"
      ]
     },
     "execution_count": 9,
     "metadata": {},
     "output_type": "execute_result"
    }
   ],
   "source": [
    "y[:5]"
   ]
  },
  {
   "cell_type": "code",
   "execution_count": 10,
   "metadata": {},
   "outputs": [
    {
     "name": "stdout",
     "output_type": "stream",
     "text": [
      "<class 'pandas.core.frame.DataFrame'>\n",
      "RangeIndex: 3143 entries, 0 to 3142\n",
      "Data columns (total 14 columns):\n",
      " #   Column              Non-Null Count  Dtype  \n",
      "---  ------              --------------  -----  \n",
      " 0   cid                 3143 non-null   int64  \n",
      " 1   social_studies      3143 non-null   int64  \n",
      " 2   integrated_science  3143 non-null   int64  \n",
      " 3   i_c_t               3143 non-null   int64  \n",
      " 4   r_m_e               3143 non-null   int64  \n",
      " 5   fante               3143 non-null   int64  \n",
      " 6   mathematics         3143 non-null   int64  \n",
      " 7   english_language    3143 non-null   int64  \n",
      " 8   b_d_t               3143 non-null   int64  \n",
      " 9   schtype             3143 non-null   object \n",
      " 10  age                 3143 non-null   float64\n",
      " 11  gender              3143 non-null   object \n",
      " 12  circuit             3143 non-null   object \n",
      " 13  aggregate           3143 non-null   float64\n",
      "dtypes: float64(2), int64(9), object(3)\n",
      "memory usage: 343.9+ KB\n"
     ]
    }
   ],
   "source": [
    "df.info()"
   ]
  },
  {
   "cell_type": "code",
   "execution_count": 11,
   "metadata": {},
   "outputs": [],
   "source": [
    "X_train, X_test, y_train, y_test = train_test_split(X,y,test_size= 0.3,stratify=y,random_state = 111)"
   ]
  },
  {
   "cell_type": "code",
   "execution_count": 12,
   "metadata": {},
   "outputs": [
    {
     "data": {
      "text/plain": [
       "0.3000318167356029"
      ]
     },
     "execution_count": 12,
     "metadata": {},
     "output_type": "execute_result"
    }
   ],
   "source": [
    "X_test.size/X.size"
   ]
  },
  {
   "cell_type": "code",
   "execution_count": 13,
   "metadata": {},
   "outputs": [
    {
     "name": "stdout",
     "output_type": "stream",
     "text": [
      "size of traininig features : 70.0%\n",
      "size of testing features   : 30.0%\n"
     ]
    }
   ],
   "source": [
    "print(\"size of traininig features : {}{}\".format( round( (X_train.size/X.size)*100, 2), \"%\") )\n",
    "print(\"size of testing features   : {}{}\".format( round( (X_test.size/X.size)*100, 2), \"%\" ) )"
   ]
  },
  {
   "cell_type": "code",
   "execution_count": 14,
   "metadata": {},
   "outputs": [],
   "source": [
    "circuit_order  =list(df.circuit.value_counts().index)"
   ]
  },
  {
   "cell_type": "code",
   "execution_count": null,
   "metadata": {},
   "outputs": [],
   "source": []
  },
  {
   "cell_type": "code",
   "execution_count": 15,
   "metadata": {},
   "outputs": [],
   "source": [
    "ct = ColumnTransformer([(\"encoder1\",\n",
    "                         OneHotEncoder(categories = [[\"M\",\"F\"],],drop = np.array([\"F\",]),sparse = False),\n",
    "                         ['gender']),\n",
    "                        \n",
    "                        (\"encoder2\",\n",
    "                         OrdinalEncoder(categories=[['PRIVATE','PUBLIC'],circuit_order],handle_unknown='error'),\n",
    "                         [\"schtype\",\"circuit\"])],\n",
    "                       remainder = 'passthrough')\n",
    "\n",
    "\n",
    "\n",
    "# One Hot Encoding\n",
    "ohe = OneHotEncoder(categories = [['PRIVATE','PUBLIC'],[\"M\",\"F\"],circuit_order],\n",
    "                   drop = np.array([\"PRIVATE\",\"F\",\"YAMORANSA\"]),sparse = False)\n",
    "\n",
    "\n",
    "# Ordinal Encodinga\n",
    "oe = OrdinalEncoder(categories=[['PRIVATE','PUBLIC'],[\"M\",\"F\"],circuit_order],handle_unknown='error')\n",
    "\n",
    "\n",
    "ct2 = ColumnTransformer([(\"encoder\",ohe,make_column_selector(dtype_include = \"O\"))],remainder = 'passthrough')\n",
    "\n",
    "ct3 = ColumnTransformer([(\"encoder\",oe,make_column_selector(dtype_include = \"O\"))],remainder = 'passthrough')"
   ]
  },
  {
   "cell_type": "markdown",
   "metadata": {},
   "source": [
    "### Random  Forest Classifier"
   ]
  },
  {
   "cell_type": "code",
   "execution_count": 16,
   "metadata": {},
   "outputs": [],
   "source": [
    "# ct = ColumnTransformer([(\"encoder\",ohe,make_column_selector(dtype_include = \"O\"))],remainder = 'passthrough')\n",
    "# ct"
   ]
  },
  {
   "cell_type": "code",
   "execution_count": 17,
   "metadata": {},
   "outputs": [],
   "source": [
    "rf = RandomForestClassifier(400,criterion = 'entropy',random_state = 111)"
   ]
  },
  {
   "cell_type": "code",
   "execution_count": 18,
   "metadata": {},
   "outputs": [],
   "source": [
    "pipe = Pipeline([(\"transformer\",ct),(\"scaler\",StandardScaler()),(\"model\",rf)])\n",
    "pipe2 = Pipeline([(\"transformer\",ct),(\"model\",rf)])"
   ]
  },
  {
   "cell_type": "code",
   "execution_count": 19,
   "metadata": {},
   "outputs": [
    {
     "data": {
      "text/plain": [
       "{'bootstrap': True,\n",
       " 'ccp_alpha': 0.0,\n",
       " 'class_weight': None,\n",
       " 'criterion': 'entropy',\n",
       " 'max_depth': None,\n",
       " 'max_features': 'auto',\n",
       " 'max_leaf_nodes': None,\n",
       " 'max_samples': None,\n",
       " 'min_impurity_decrease': 0.0,\n",
       " 'min_samples_leaf': 1,\n",
       " 'min_samples_split': 2,\n",
       " 'min_weight_fraction_leaf': 0.0,\n",
       " 'n_estimators': 400,\n",
       " 'n_jobs': None,\n",
       " 'oob_score': False,\n",
       " 'random_state': 111,\n",
       " 'verbose': 0,\n",
       " 'warm_start': False}"
      ]
     },
     "execution_count": 19,
     "metadata": {},
     "output_type": "execute_result"
    }
   ],
   "source": [
    "pipe2[\"model\"].get_params()"
   ]
  },
  {
   "cell_type": "code",
   "execution_count": 20,
   "metadata": {},
   "outputs": [],
   "source": [
    "grid_param = [{\"transformer\":[ct,ct2,ct3],\n",
    "               \"model__n_estimators\":[range(100,500,50)],\n",
    "               \"model__entropy\":[\"entropy\",\"gini\"],\n",
    "               \"model__min_samples_split\":[range(3)],\n",
    "               \"model__'min_samples_leaf\": [range(3)]}\n",
    "              ]\n",
    "\n",
    "\n",
    "gscv_rf = GridSearchCV(pipe, grid_param, cv=5, verbose=0,n_jobs=-1)"
   ]
  },
  {
   "cell_type": "code",
   "execution_count": null,
   "metadata": {},
   "outputs": [],
   "source": [
    "gscv_rf"
   ]
  },
  {
   "cell_type": "code",
   "execution_count": 21,
   "metadata": {},
   "outputs": [],
   "source": [
    "gscv_rf.fit(X_train,y_train)"
   ]
  },
  {
   "cell_type": "code",
   "execution_count": null,
   "metadata": {},
   "outputs": [],
   "source": [
    "print(\"Best Search Score : \",gscv_rf.best_score_)\n",
    "gscv_rf.best_model_"
   ]
  },
  {
   "cell_type": "code",
   "execution_count": null,
   "metadata": {},
   "outputs": [],
   "source": []
  },
  {
   "cell_type": "code",
   "execution_count": 500,
   "metadata": {},
   "outputs": [
    {
     "data": {
      "text/html": [
       "<style>#sk-229a38c7-9255-46ea-9ced-5275a591592c {color: black;background-color: white;}#sk-229a38c7-9255-46ea-9ced-5275a591592c pre{padding: 0;}#sk-229a38c7-9255-46ea-9ced-5275a591592c div.sk-toggleable {background-color: white;}#sk-229a38c7-9255-46ea-9ced-5275a591592c label.sk-toggleable__label {cursor: pointer;display: block;width: 100%;margin-bottom: 0;padding: 0.3em;box-sizing: border-box;text-align: center;}#sk-229a38c7-9255-46ea-9ced-5275a591592c label.sk-toggleable__label-arrow:before {content: \"▸\";float: left;margin-right: 0.25em;color: #696969;}#sk-229a38c7-9255-46ea-9ced-5275a591592c label.sk-toggleable__label-arrow:hover:before {color: black;}#sk-229a38c7-9255-46ea-9ced-5275a591592c div.sk-estimator:hover label.sk-toggleable__label-arrow:before {color: black;}#sk-229a38c7-9255-46ea-9ced-5275a591592c div.sk-toggleable__content {max-height: 0;max-width: 0;overflow: hidden;text-align: left;background-color: #f0f8ff;}#sk-229a38c7-9255-46ea-9ced-5275a591592c div.sk-toggleable__content pre {margin: 0.2em;color: black;border-radius: 0.25em;background-color: #f0f8ff;}#sk-229a38c7-9255-46ea-9ced-5275a591592c input.sk-toggleable__control:checked~div.sk-toggleable__content {max-height: 200px;max-width: 100%;overflow: auto;}#sk-229a38c7-9255-46ea-9ced-5275a591592c input.sk-toggleable__control:checked~label.sk-toggleable__label-arrow:before {content: \"▾\";}#sk-229a38c7-9255-46ea-9ced-5275a591592c div.sk-estimator input.sk-toggleable__control:checked~label.sk-toggleable__label {background-color: #d4ebff;}#sk-229a38c7-9255-46ea-9ced-5275a591592c div.sk-label input.sk-toggleable__control:checked~label.sk-toggleable__label {background-color: #d4ebff;}#sk-229a38c7-9255-46ea-9ced-5275a591592c input.sk-hidden--visually {border: 0;clip: rect(1px 1px 1px 1px);clip: rect(1px, 1px, 1px, 1px);height: 1px;margin: -1px;overflow: hidden;padding: 0;position: absolute;width: 1px;}#sk-229a38c7-9255-46ea-9ced-5275a591592c div.sk-estimator {font-family: monospace;background-color: #f0f8ff;border: 1px dotted black;border-radius: 0.25em;box-sizing: border-box;margin-bottom: 0.5em;}#sk-229a38c7-9255-46ea-9ced-5275a591592c div.sk-estimator:hover {background-color: #d4ebff;}#sk-229a38c7-9255-46ea-9ced-5275a591592c div.sk-parallel-item::after {content: \"\";width: 100%;border-bottom: 1px solid gray;flex-grow: 1;}#sk-229a38c7-9255-46ea-9ced-5275a591592c div.sk-label:hover label.sk-toggleable__label {background-color: #d4ebff;}#sk-229a38c7-9255-46ea-9ced-5275a591592c div.sk-serial::before {content: \"\";position: absolute;border-left: 1px solid gray;box-sizing: border-box;top: 2em;bottom: 0;left: 50%;}#sk-229a38c7-9255-46ea-9ced-5275a591592c div.sk-serial {display: flex;flex-direction: column;align-items: center;background-color: white;padding-right: 0.2em;padding-left: 0.2em;}#sk-229a38c7-9255-46ea-9ced-5275a591592c div.sk-item {z-index: 1;}#sk-229a38c7-9255-46ea-9ced-5275a591592c div.sk-parallel {display: flex;align-items: stretch;justify-content: center;background-color: white;}#sk-229a38c7-9255-46ea-9ced-5275a591592c div.sk-parallel::before {content: \"\";position: absolute;border-left: 1px solid gray;box-sizing: border-box;top: 2em;bottom: 0;left: 50%;}#sk-229a38c7-9255-46ea-9ced-5275a591592c div.sk-parallel-item {display: flex;flex-direction: column;position: relative;background-color: white;}#sk-229a38c7-9255-46ea-9ced-5275a591592c div.sk-parallel-item:first-child::after {align-self: flex-end;width: 50%;}#sk-229a38c7-9255-46ea-9ced-5275a591592c div.sk-parallel-item:last-child::after {align-self: flex-start;width: 50%;}#sk-229a38c7-9255-46ea-9ced-5275a591592c div.sk-parallel-item:only-child::after {width: 0;}#sk-229a38c7-9255-46ea-9ced-5275a591592c div.sk-dashed-wrapped {border: 1px dashed gray;margin: 0 0.4em 0.5em 0.4em;box-sizing: border-box;padding-bottom: 0.4em;background-color: white;position: relative;}#sk-229a38c7-9255-46ea-9ced-5275a591592c div.sk-label label {font-family: monospace;font-weight: bold;background-color: white;display: inline-block;line-height: 1.2em;}#sk-229a38c7-9255-46ea-9ced-5275a591592c div.sk-label-container {position: relative;z-index: 2;text-align: center;}#sk-229a38c7-9255-46ea-9ced-5275a591592c div.sk-container {/* jupyter's `normalize.less` sets `[hidden] { display: none; }` but bootstrap.min.css set `[hidden] { display: none !important; }` so we also need the `!important` here to be able to override the default hidden behavior on the sphinx rendered scikit-learn.org. See: https://github.com/scikit-learn/scikit-learn/issues/21755 */display: inline-block !important;position: relative;}#sk-229a38c7-9255-46ea-9ced-5275a591592c div.sk-text-repr-fallback {display: none;}</style><div id=\"sk-229a38c7-9255-46ea-9ced-5275a591592c\" class=\"sk-top-container\"><div class=\"sk-text-repr-fallback\"><pre>Pipeline(steps=[(&#x27;transformer&#x27;,\n",
       "                 ColumnTransformer(remainder=&#x27;passthrough&#x27;,\n",
       "                                   transformers=[(&#x27;encoder1&#x27;,\n",
       "                                                  OneHotEncoder(categories=[[&#x27;M&#x27;,\n",
       "                                                                             &#x27;F&#x27;]],\n",
       "                                                                drop=array([&#x27;F&#x27;], dtype=&#x27;&lt;U1&#x27;),\n",
       "                                                                sparse=False),\n",
       "                                                  [&#x27;gender&#x27;]),\n",
       "                                                 (&#x27;encoder2&#x27;,\n",
       "                                                  OrdinalEncoder(categories=[[&#x27;PRIVATE&#x27;,\n",
       "                                                                              &#x27;PUBLIC&#x27;],\n",
       "                                                                             [&#x27;MANKESSIM &#x27;\n",
       "                                                                              &#x27;A&#x27;,\n",
       "                                                                              &#x27;MANKESSIM &#x27;\n",
       "                                                                              &#x27;B&#x27;,\n",
       "                                                                              &#x27;SALTPOND &#x27;\n",
       "                                                                              &#x27;A&#x27;,\n",
       "                                                                              &#x27;ANOMABO &#x27;\n",
       "                                                                              &#x27;A&#x27;,\n",
       "                                                                              &#x27;MDOMINASE&#x27;,\n",
       "                                                                              &#x27;SALTPOND &#x27;\n",
       "                                                                              &#x27;B&#x27;,\n",
       "                                                                              &#x27;ANOMABO &#x27;\n",
       "                                                                              &#x27;B&#x27;,\n",
       "                                                                              &#x27;YAMORANSA&#x27;]]),\n",
       "                                                  [&#x27;schtype&#x27;, &#x27;circuit&#x27;])])),\n",
       "                (&#x27;model&#x27;,\n",
       "                 RandomForestClassifier(criterion=&#x27;entropy&#x27;, n_estimators=400,\n",
       "                                        random_state=111))])</pre><b>Please rerun this cell to show the HTML repr or trust the notebook.</b></div><div class=\"sk-container\" hidden><div class=\"sk-item sk-dashed-wrapped\"><div class=\"sk-label-container\"><div class=\"sk-label sk-toggleable\"><input class=\"sk-toggleable__control sk-hidden--visually\" id=\"72d32e25-e178-414f-a17a-61a866ebab01\" type=\"checkbox\" ><label for=\"72d32e25-e178-414f-a17a-61a866ebab01\" class=\"sk-toggleable__label sk-toggleable__label-arrow\">Pipeline</label><div class=\"sk-toggleable__content\"><pre>Pipeline(steps=[(&#x27;transformer&#x27;,\n",
       "                 ColumnTransformer(remainder=&#x27;passthrough&#x27;,\n",
       "                                   transformers=[(&#x27;encoder1&#x27;,\n",
       "                                                  OneHotEncoder(categories=[[&#x27;M&#x27;,\n",
       "                                                                             &#x27;F&#x27;]],\n",
       "                                                                drop=array([&#x27;F&#x27;], dtype=&#x27;&lt;U1&#x27;),\n",
       "                                                                sparse=False),\n",
       "                                                  [&#x27;gender&#x27;]),\n",
       "                                                 (&#x27;encoder2&#x27;,\n",
       "                                                  OrdinalEncoder(categories=[[&#x27;PRIVATE&#x27;,\n",
       "                                                                              &#x27;PUBLIC&#x27;],\n",
       "                                                                             [&#x27;MANKESSIM &#x27;\n",
       "                                                                              &#x27;A&#x27;,\n",
       "                                                                              &#x27;MANKESSIM &#x27;\n",
       "                                                                              &#x27;B&#x27;,\n",
       "                                                                              &#x27;SALTPOND &#x27;\n",
       "                                                                              &#x27;A&#x27;,\n",
       "                                                                              &#x27;ANOMABO &#x27;\n",
       "                                                                              &#x27;A&#x27;,\n",
       "                                                                              &#x27;MDOMINASE&#x27;,\n",
       "                                                                              &#x27;SALTPOND &#x27;\n",
       "                                                                              &#x27;B&#x27;,\n",
       "                                                                              &#x27;ANOMABO &#x27;\n",
       "                                                                              &#x27;B&#x27;,\n",
       "                                                                              &#x27;YAMORANSA&#x27;]]),\n",
       "                                                  [&#x27;schtype&#x27;, &#x27;circuit&#x27;])])),\n",
       "                (&#x27;model&#x27;,\n",
       "                 RandomForestClassifier(criterion=&#x27;entropy&#x27;, n_estimators=400,\n",
       "                                        random_state=111))])</pre></div></div></div><div class=\"sk-serial\"><div class=\"sk-item sk-dashed-wrapped\"><div class=\"sk-label-container\"><div class=\"sk-label sk-toggleable\"><input class=\"sk-toggleable__control sk-hidden--visually\" id=\"89bcaf1a-defa-4781-9788-3aef1be2fcca\" type=\"checkbox\" ><label for=\"89bcaf1a-defa-4781-9788-3aef1be2fcca\" class=\"sk-toggleable__label sk-toggleable__label-arrow\">transformer: ColumnTransformer</label><div class=\"sk-toggleable__content\"><pre>ColumnTransformer(remainder=&#x27;passthrough&#x27;,\n",
       "                  transformers=[(&#x27;encoder1&#x27;,\n",
       "                                 OneHotEncoder(categories=[[&#x27;M&#x27;, &#x27;F&#x27;]],\n",
       "                                               drop=array([&#x27;F&#x27;], dtype=&#x27;&lt;U1&#x27;),\n",
       "                                               sparse=False),\n",
       "                                 [&#x27;gender&#x27;]),\n",
       "                                (&#x27;encoder2&#x27;,\n",
       "                                 OrdinalEncoder(categories=[[&#x27;PRIVATE&#x27;,\n",
       "                                                             &#x27;PUBLIC&#x27;],\n",
       "                                                            [&#x27;MANKESSIM A&#x27;,\n",
       "                                                             &#x27;MANKESSIM B&#x27;,\n",
       "                                                             &#x27;SALTPOND A&#x27;,\n",
       "                                                             &#x27;ANOMABO A&#x27;,\n",
       "                                                             &#x27;MDOMINASE&#x27;,\n",
       "                                                             &#x27;SALTPOND B&#x27;,\n",
       "                                                             &#x27;ANOMABO B&#x27;,\n",
       "                                                             &#x27;YAMORANSA&#x27;]]),\n",
       "                                 [&#x27;schtype&#x27;, &#x27;circuit&#x27;])])</pre></div></div></div><div class=\"sk-parallel\"><div class=\"sk-parallel-item\"><div class=\"sk-item\"><div class=\"sk-label-container\"><div class=\"sk-label sk-toggleable\"><input class=\"sk-toggleable__control sk-hidden--visually\" id=\"93adc89d-4b6d-4ef7-9c8d-73d2b7176448\" type=\"checkbox\" ><label for=\"93adc89d-4b6d-4ef7-9c8d-73d2b7176448\" class=\"sk-toggleable__label sk-toggleable__label-arrow\">encoder1</label><div class=\"sk-toggleable__content\"><pre>[&#x27;gender&#x27;]</pre></div></div></div><div class=\"sk-serial\"><div class=\"sk-item\"><div class=\"sk-estimator sk-toggleable\"><input class=\"sk-toggleable__control sk-hidden--visually\" id=\"3998e55a-5d89-48da-81ee-f73333d8afa1\" type=\"checkbox\" ><label for=\"3998e55a-5d89-48da-81ee-f73333d8afa1\" class=\"sk-toggleable__label sk-toggleable__label-arrow\">OneHotEncoder</label><div class=\"sk-toggleable__content\"><pre>OneHotEncoder(categories=[[&#x27;M&#x27;, &#x27;F&#x27;]], drop=array([&#x27;F&#x27;], dtype=&#x27;&lt;U1&#x27;),\n",
       "              sparse=False)</pre></div></div></div></div></div></div><div class=\"sk-parallel-item\"><div class=\"sk-item\"><div class=\"sk-label-container\"><div class=\"sk-label sk-toggleable\"><input class=\"sk-toggleable__control sk-hidden--visually\" id=\"474d5aa5-e944-4bbb-a468-517ec4fa7d15\" type=\"checkbox\" ><label for=\"474d5aa5-e944-4bbb-a468-517ec4fa7d15\" class=\"sk-toggleable__label sk-toggleable__label-arrow\">encoder2</label><div class=\"sk-toggleable__content\"><pre>[&#x27;schtype&#x27;, &#x27;circuit&#x27;]</pre></div></div></div><div class=\"sk-serial\"><div class=\"sk-item\"><div class=\"sk-estimator sk-toggleable\"><input class=\"sk-toggleable__control sk-hidden--visually\" id=\"6141d39a-8da3-440f-9b58-0cf91dcd7f3b\" type=\"checkbox\" ><label for=\"6141d39a-8da3-440f-9b58-0cf91dcd7f3b\" class=\"sk-toggleable__label sk-toggleable__label-arrow\">OrdinalEncoder</label><div class=\"sk-toggleable__content\"><pre>OrdinalEncoder(categories=[[&#x27;PRIVATE&#x27;, &#x27;PUBLIC&#x27;],\n",
       "                           [&#x27;MANKESSIM A&#x27;, &#x27;MANKESSIM B&#x27;, &#x27;SALTPOND A&#x27;,\n",
       "                            &#x27;ANOMABO A&#x27;, &#x27;MDOMINASE&#x27;, &#x27;SALTPOND B&#x27;, &#x27;ANOMABO B&#x27;,\n",
       "                            &#x27;YAMORANSA&#x27;]])</pre></div></div></div></div></div></div><div class=\"sk-parallel-item\"><div class=\"sk-item\"><div class=\"sk-label-container\"><div class=\"sk-label sk-toggleable\"><input class=\"sk-toggleable__control sk-hidden--visually\" id=\"8d83243e-9dba-4969-922c-cf06bced6bb8\" type=\"checkbox\" ><label for=\"8d83243e-9dba-4969-922c-cf06bced6bb8\" class=\"sk-toggleable__label sk-toggleable__label-arrow\">remainder</label><div class=\"sk-toggleable__content\"><pre>[&#x27;mathematics&#x27;, &#x27;integrated_science&#x27;, &#x27;english_language&#x27;, &#x27;age&#x27;, &#x27;social_studies&#x27;, &#x27;r_m_e&#x27;, &#x27;fante&#x27;, &#x27;b_d_t&#x27;]</pre></div></div></div><div class=\"sk-serial\"><div class=\"sk-item\"><div class=\"sk-estimator sk-toggleable\"><input class=\"sk-toggleable__control sk-hidden--visually\" id=\"5484ea26-87f9-47da-85c8-12028a0277d5\" type=\"checkbox\" ><label for=\"5484ea26-87f9-47da-85c8-12028a0277d5\" class=\"sk-toggleable__label sk-toggleable__label-arrow\">passthrough</label><div class=\"sk-toggleable__content\"><pre>passthrough</pre></div></div></div></div></div></div></div></div><div class=\"sk-item\"><div class=\"sk-estimator sk-toggleable\"><input class=\"sk-toggleable__control sk-hidden--visually\" id=\"d38c0962-15d9-4216-b2e7-e2ab7dc218ba\" type=\"checkbox\" ><label for=\"d38c0962-15d9-4216-b2e7-e2ab7dc218ba\" class=\"sk-toggleable__label sk-toggleable__label-arrow\">RandomForestClassifier</label><div class=\"sk-toggleable__content\"><pre>RandomForestClassifier(criterion=&#x27;entropy&#x27;, n_estimators=400, random_state=111)</pre></div></div></div></div></div></div></div>"
      ],
      "text/plain": [
       "Pipeline(steps=[('transformer',\n",
       "                 ColumnTransformer(remainder='passthrough',\n",
       "                                   transformers=[('encoder1',\n",
       "                                                  OneHotEncoder(categories=[['M',\n",
       "                                                                             'F']],\n",
       "                                                                drop=array(['F'], dtype='<U1'),\n",
       "                                                                sparse=False),\n",
       "                                                  ['gender']),\n",
       "                                                 ('encoder2',\n",
       "                                                  OrdinalEncoder(categories=[['PRIVATE',\n",
       "                                                                              'PUBLIC'],\n",
       "                                                                             ['MANKESSIM '\n",
       "                                                                              'A',\n",
       "                                                                              'MANKESSIM '\n",
       "                                                                              'B',\n",
       "                                                                              'SALTPOND '\n",
       "                                                                              'A',\n",
       "                                                                              'ANOMABO '\n",
       "                                                                              'A',\n",
       "                                                                              'MDOMINASE',\n",
       "                                                                              'SALTPOND '\n",
       "                                                                              'B',\n",
       "                                                                              'ANOMABO '\n",
       "                                                                              'B',\n",
       "                                                                              'YAMORANSA']]),\n",
       "                                                  ['schtype', 'circuit'])])),\n",
       "                ('model',\n",
       "                 RandomForestClassifier(criterion='entropy', n_estimators=400,\n",
       "                                        random_state=111))])"
      ]
     },
     "execution_count": 500,
     "metadata": {},
     "output_type": "execute_result"
    }
   ],
   "source": [
    "pipe2.fit(X_train,y_train)"
   ]
  },
  {
   "cell_type": "code",
   "execution_count": 501,
   "metadata": {},
   "outputs": [
    {
     "data": {
      "text/plain": [
       "0.46447507953340406"
      ]
     },
     "execution_count": 501,
     "metadata": {},
     "output_type": "execute_result"
    }
   ],
   "source": [
    "pipe2.score(X_test,y_test)"
   ]
  },
  {
   "cell_type": "markdown",
   "metadata": {},
   "source": [
    "Decision"
   ]
  },
  {
   "cell_type": "code",
   "execution_count": 493,
   "metadata": {},
   "outputs": [],
   "source": [
    "# X_train = ct.fit_transform(X_train)\n",
    "# X_test = ct.transform(X_test)"
   ]
  },
  {
   "cell_type": "code",
   "execution_count": 458,
   "metadata": {},
   "outputs": [
    {
     "data": {
      "text/html": [
       "<style>#sk-50084491-141c-445e-ba19-9ec815e37a8a {color: black;background-color: white;}#sk-50084491-141c-445e-ba19-9ec815e37a8a pre{padding: 0;}#sk-50084491-141c-445e-ba19-9ec815e37a8a div.sk-toggleable {background-color: white;}#sk-50084491-141c-445e-ba19-9ec815e37a8a label.sk-toggleable__label {cursor: pointer;display: block;width: 100%;margin-bottom: 0;padding: 0.3em;box-sizing: border-box;text-align: center;}#sk-50084491-141c-445e-ba19-9ec815e37a8a label.sk-toggleable__label-arrow:before {content: \"▸\";float: left;margin-right: 0.25em;color: #696969;}#sk-50084491-141c-445e-ba19-9ec815e37a8a label.sk-toggleable__label-arrow:hover:before {color: black;}#sk-50084491-141c-445e-ba19-9ec815e37a8a div.sk-estimator:hover label.sk-toggleable__label-arrow:before {color: black;}#sk-50084491-141c-445e-ba19-9ec815e37a8a div.sk-toggleable__content {max-height: 0;max-width: 0;overflow: hidden;text-align: left;background-color: #f0f8ff;}#sk-50084491-141c-445e-ba19-9ec815e37a8a div.sk-toggleable__content pre {margin: 0.2em;color: black;border-radius: 0.25em;background-color: #f0f8ff;}#sk-50084491-141c-445e-ba19-9ec815e37a8a input.sk-toggleable__control:checked~div.sk-toggleable__content {max-height: 200px;max-width: 100%;overflow: auto;}#sk-50084491-141c-445e-ba19-9ec815e37a8a input.sk-toggleable__control:checked~label.sk-toggleable__label-arrow:before {content: \"▾\";}#sk-50084491-141c-445e-ba19-9ec815e37a8a div.sk-estimator input.sk-toggleable__control:checked~label.sk-toggleable__label {background-color: #d4ebff;}#sk-50084491-141c-445e-ba19-9ec815e37a8a div.sk-label input.sk-toggleable__control:checked~label.sk-toggleable__label {background-color: #d4ebff;}#sk-50084491-141c-445e-ba19-9ec815e37a8a input.sk-hidden--visually {border: 0;clip: rect(1px 1px 1px 1px);clip: rect(1px, 1px, 1px, 1px);height: 1px;margin: -1px;overflow: hidden;padding: 0;position: absolute;width: 1px;}#sk-50084491-141c-445e-ba19-9ec815e37a8a div.sk-estimator {font-family: monospace;background-color: #f0f8ff;border: 1px dotted black;border-radius: 0.25em;box-sizing: border-box;margin-bottom: 0.5em;}#sk-50084491-141c-445e-ba19-9ec815e37a8a div.sk-estimator:hover {background-color: #d4ebff;}#sk-50084491-141c-445e-ba19-9ec815e37a8a div.sk-parallel-item::after {content: \"\";width: 100%;border-bottom: 1px solid gray;flex-grow: 1;}#sk-50084491-141c-445e-ba19-9ec815e37a8a div.sk-label:hover label.sk-toggleable__label {background-color: #d4ebff;}#sk-50084491-141c-445e-ba19-9ec815e37a8a div.sk-serial::before {content: \"\";position: absolute;border-left: 1px solid gray;box-sizing: border-box;top: 2em;bottom: 0;left: 50%;}#sk-50084491-141c-445e-ba19-9ec815e37a8a div.sk-serial {display: flex;flex-direction: column;align-items: center;background-color: white;padding-right: 0.2em;padding-left: 0.2em;}#sk-50084491-141c-445e-ba19-9ec815e37a8a div.sk-item {z-index: 1;}#sk-50084491-141c-445e-ba19-9ec815e37a8a div.sk-parallel {display: flex;align-items: stretch;justify-content: center;background-color: white;}#sk-50084491-141c-445e-ba19-9ec815e37a8a div.sk-parallel::before {content: \"\";position: absolute;border-left: 1px solid gray;box-sizing: border-box;top: 2em;bottom: 0;left: 50%;}#sk-50084491-141c-445e-ba19-9ec815e37a8a div.sk-parallel-item {display: flex;flex-direction: column;position: relative;background-color: white;}#sk-50084491-141c-445e-ba19-9ec815e37a8a div.sk-parallel-item:first-child::after {align-self: flex-end;width: 50%;}#sk-50084491-141c-445e-ba19-9ec815e37a8a div.sk-parallel-item:last-child::after {align-self: flex-start;width: 50%;}#sk-50084491-141c-445e-ba19-9ec815e37a8a div.sk-parallel-item:only-child::after {width: 0;}#sk-50084491-141c-445e-ba19-9ec815e37a8a div.sk-dashed-wrapped {border: 1px dashed gray;margin: 0 0.4em 0.5em 0.4em;box-sizing: border-box;padding-bottom: 0.4em;background-color: white;position: relative;}#sk-50084491-141c-445e-ba19-9ec815e37a8a div.sk-label label {font-family: monospace;font-weight: bold;background-color: white;display: inline-block;line-height: 1.2em;}#sk-50084491-141c-445e-ba19-9ec815e37a8a div.sk-label-container {position: relative;z-index: 2;text-align: center;}#sk-50084491-141c-445e-ba19-9ec815e37a8a div.sk-container {/* jupyter's `normalize.less` sets `[hidden] { display: none; }` but bootstrap.min.css set `[hidden] { display: none !important; }` so we also need the `!important` here to be able to override the default hidden behavior on the sphinx rendered scikit-learn.org. See: https://github.com/scikit-learn/scikit-learn/issues/21755 */display: inline-block !important;position: relative;}#sk-50084491-141c-445e-ba19-9ec815e37a8a div.sk-text-repr-fallback {display: none;}</style><div id=\"sk-50084491-141c-445e-ba19-9ec815e37a8a\" class=\"sk-top-container\"><div class=\"sk-text-repr-fallback\"><pre>RandomForestClassifier(criterion=&#x27;entropy&#x27;, n_estimators=400, random_state=111)</pre><b>Please rerun this cell to show the HTML repr or trust the notebook.</b></div><div class=\"sk-container\" hidden><div class=\"sk-item\"><div class=\"sk-estimator sk-toggleable\"><input class=\"sk-toggleable__control sk-hidden--visually\" id=\"ee4cad5f-e0c4-4017-91ea-5d173df7f430\" type=\"checkbox\" checked><label for=\"ee4cad5f-e0c4-4017-91ea-5d173df7f430\" class=\"sk-toggleable__label sk-toggleable__label-arrow\">RandomForestClassifier</label><div class=\"sk-toggleable__content\"><pre>RandomForestClassifier(criterion=&#x27;entropy&#x27;, n_estimators=400, random_state=111)</pre></div></div></div></div></div>"
      ],
      "text/plain": [
       "RandomForestClassifier(criterion='entropy', n_estimators=400, random_state=111)"
      ]
     },
     "execution_count": 458,
     "metadata": {},
     "output_type": "execute_result"
    }
   ],
   "source": [
    "rf.fit(X_train,y_train)"
   ]
  },
  {
   "cell_type": "code",
   "execution_count": 459,
   "metadata": {},
   "outputs": [
    {
     "data": {
      "text/plain": [
       "0.46447507953340406"
      ]
     },
     "execution_count": 459,
     "metadata": {},
     "output_type": "execute_result"
    }
   ],
   "source": [
    "rf.score(X_test,y_test)"
   ]
  },
  {
   "cell_type": "code",
   "execution_count": 460,
   "metadata": {},
   "outputs": [
    {
     "data": {
      "text/plain": [
       "array([0.03733515, 0.03089639, 0.10583078, 0.08302958, 0.12897679,\n",
       "       0.09562571, 0.09068329, 0.1232948 , 0.08891036, 0.09117247,\n",
       "       0.12424467])"
      ]
     },
     "execution_count": 460,
     "metadata": {},
     "output_type": "execute_result"
    }
   ],
   "source": [
    "rf.feature_importances_"
   ]
  },
  {
   "cell_type": "code",
   "execution_count": null,
   "metadata": {},
   "outputs": [],
   "source": []
  },
  {
   "cell_type": "markdown",
   "metadata": {},
   "source": [
    "### Decion Tree Classifier"
   ]
  },
  {
   "cell_type": "code",
   "execution_count": 461,
   "metadata": {},
   "outputs": [],
   "source": [
    "dt = DecisionTreeClassifier(max_depth= 10,criterion = 'gini',random_state = 42)"
   ]
  },
  {
   "cell_type": "code",
   "execution_count": 462,
   "metadata": {},
   "outputs": [
    {
     "data": {
      "text/html": [
       "<style>#sk-d066791c-f129-4713-a09a-3b96b8f8309f {color: black;background-color: white;}#sk-d066791c-f129-4713-a09a-3b96b8f8309f pre{padding: 0;}#sk-d066791c-f129-4713-a09a-3b96b8f8309f div.sk-toggleable {background-color: white;}#sk-d066791c-f129-4713-a09a-3b96b8f8309f label.sk-toggleable__label {cursor: pointer;display: block;width: 100%;margin-bottom: 0;padding: 0.3em;box-sizing: border-box;text-align: center;}#sk-d066791c-f129-4713-a09a-3b96b8f8309f label.sk-toggleable__label-arrow:before {content: \"▸\";float: left;margin-right: 0.25em;color: #696969;}#sk-d066791c-f129-4713-a09a-3b96b8f8309f label.sk-toggleable__label-arrow:hover:before {color: black;}#sk-d066791c-f129-4713-a09a-3b96b8f8309f div.sk-estimator:hover label.sk-toggleable__label-arrow:before {color: black;}#sk-d066791c-f129-4713-a09a-3b96b8f8309f div.sk-toggleable__content {max-height: 0;max-width: 0;overflow: hidden;text-align: left;background-color: #f0f8ff;}#sk-d066791c-f129-4713-a09a-3b96b8f8309f div.sk-toggleable__content pre {margin: 0.2em;color: black;border-radius: 0.25em;background-color: #f0f8ff;}#sk-d066791c-f129-4713-a09a-3b96b8f8309f input.sk-toggleable__control:checked~div.sk-toggleable__content {max-height: 200px;max-width: 100%;overflow: auto;}#sk-d066791c-f129-4713-a09a-3b96b8f8309f input.sk-toggleable__control:checked~label.sk-toggleable__label-arrow:before {content: \"▾\";}#sk-d066791c-f129-4713-a09a-3b96b8f8309f div.sk-estimator input.sk-toggleable__control:checked~label.sk-toggleable__label {background-color: #d4ebff;}#sk-d066791c-f129-4713-a09a-3b96b8f8309f div.sk-label input.sk-toggleable__control:checked~label.sk-toggleable__label {background-color: #d4ebff;}#sk-d066791c-f129-4713-a09a-3b96b8f8309f input.sk-hidden--visually {border: 0;clip: rect(1px 1px 1px 1px);clip: rect(1px, 1px, 1px, 1px);height: 1px;margin: -1px;overflow: hidden;padding: 0;position: absolute;width: 1px;}#sk-d066791c-f129-4713-a09a-3b96b8f8309f div.sk-estimator {font-family: monospace;background-color: #f0f8ff;border: 1px dotted black;border-radius: 0.25em;box-sizing: border-box;margin-bottom: 0.5em;}#sk-d066791c-f129-4713-a09a-3b96b8f8309f div.sk-estimator:hover {background-color: #d4ebff;}#sk-d066791c-f129-4713-a09a-3b96b8f8309f div.sk-parallel-item::after {content: \"\";width: 100%;border-bottom: 1px solid gray;flex-grow: 1;}#sk-d066791c-f129-4713-a09a-3b96b8f8309f div.sk-label:hover label.sk-toggleable__label {background-color: #d4ebff;}#sk-d066791c-f129-4713-a09a-3b96b8f8309f div.sk-serial::before {content: \"\";position: absolute;border-left: 1px solid gray;box-sizing: border-box;top: 2em;bottom: 0;left: 50%;}#sk-d066791c-f129-4713-a09a-3b96b8f8309f div.sk-serial {display: flex;flex-direction: column;align-items: center;background-color: white;padding-right: 0.2em;padding-left: 0.2em;}#sk-d066791c-f129-4713-a09a-3b96b8f8309f div.sk-item {z-index: 1;}#sk-d066791c-f129-4713-a09a-3b96b8f8309f div.sk-parallel {display: flex;align-items: stretch;justify-content: center;background-color: white;}#sk-d066791c-f129-4713-a09a-3b96b8f8309f div.sk-parallel::before {content: \"\";position: absolute;border-left: 1px solid gray;box-sizing: border-box;top: 2em;bottom: 0;left: 50%;}#sk-d066791c-f129-4713-a09a-3b96b8f8309f div.sk-parallel-item {display: flex;flex-direction: column;position: relative;background-color: white;}#sk-d066791c-f129-4713-a09a-3b96b8f8309f div.sk-parallel-item:first-child::after {align-self: flex-end;width: 50%;}#sk-d066791c-f129-4713-a09a-3b96b8f8309f div.sk-parallel-item:last-child::after {align-self: flex-start;width: 50%;}#sk-d066791c-f129-4713-a09a-3b96b8f8309f div.sk-parallel-item:only-child::after {width: 0;}#sk-d066791c-f129-4713-a09a-3b96b8f8309f div.sk-dashed-wrapped {border: 1px dashed gray;margin: 0 0.4em 0.5em 0.4em;box-sizing: border-box;padding-bottom: 0.4em;background-color: white;position: relative;}#sk-d066791c-f129-4713-a09a-3b96b8f8309f div.sk-label label {font-family: monospace;font-weight: bold;background-color: white;display: inline-block;line-height: 1.2em;}#sk-d066791c-f129-4713-a09a-3b96b8f8309f div.sk-label-container {position: relative;z-index: 2;text-align: center;}#sk-d066791c-f129-4713-a09a-3b96b8f8309f div.sk-container {/* jupyter's `normalize.less` sets `[hidden] { display: none; }` but bootstrap.min.css set `[hidden] { display: none !important; }` so we also need the `!important` here to be able to override the default hidden behavior on the sphinx rendered scikit-learn.org. See: https://github.com/scikit-learn/scikit-learn/issues/21755 */display: inline-block !important;position: relative;}#sk-d066791c-f129-4713-a09a-3b96b8f8309f div.sk-text-repr-fallback {display: none;}</style><div id=\"sk-d066791c-f129-4713-a09a-3b96b8f8309f\" class=\"sk-top-container\"><div class=\"sk-text-repr-fallback\"><pre>DecisionTreeClassifier(max_depth=10, random_state=42)</pre><b>Please rerun this cell to show the HTML repr or trust the notebook.</b></div><div class=\"sk-container\" hidden><div class=\"sk-item\"><div class=\"sk-estimator sk-toggleable\"><input class=\"sk-toggleable__control sk-hidden--visually\" id=\"f819eacf-54d9-4d55-9988-091fb16fc0f7\" type=\"checkbox\" checked><label for=\"f819eacf-54d9-4d55-9988-091fb16fc0f7\" class=\"sk-toggleable__label sk-toggleable__label-arrow\">DecisionTreeClassifier</label><div class=\"sk-toggleable__content\"><pre>DecisionTreeClassifier(max_depth=10, random_state=42)</pre></div></div></div></div></div>"
      ],
      "text/plain": [
       "DecisionTreeClassifier(max_depth=10, random_state=42)"
      ]
     },
     "execution_count": 462,
     "metadata": {},
     "output_type": "execute_result"
    }
   ],
   "source": [
    "dt.fit(X_train,y_train)"
   ]
  },
  {
   "cell_type": "code",
   "execution_count": 463,
   "metadata": {},
   "outputs": [
    {
     "data": {
      "text/plain": [
       "0.38918345705196183"
      ]
     },
     "execution_count": 463,
     "metadata": {},
     "output_type": "execute_result"
    }
   ],
   "source": [
    "dt.score(X_test,y_test)"
   ]
  },
  {
   "cell_type": "code",
   "execution_count": 464,
   "metadata": {},
   "outputs": [
    {
     "data": {
      "text/plain": [
       "array([0.038516  , 0.03034529, 0.1024196 , 0.09105228, 0.13522727,\n",
       "       0.0786513 , 0.08876355, 0.17685082, 0.09797248, 0.07979422,\n",
       "       0.08040719])"
      ]
     },
     "execution_count": 464,
     "metadata": {},
     "output_type": "execute_result"
    }
   ],
   "source": [
    "dt.feature_importances_"
   ]
  },
  {
   "cell_type": "code",
   "execution_count": 472,
   "metadata": {},
   "outputs": [
    {
     "data": {
      "image/png": "[encoded data removed]",
      "text/plain": [
       "<Figure size 1008x720 with 1 Axes>"
      ]
     },
     "metadata": {
      "needs_background": "light"
     },
     "output_type": "display_data"
    }
   ],
   "source": [
    "plt.figure(figsize=(14,10))\n"
   ]
  },
  {
   "cell_type": "code",
   "execution_count": null,
   "metadata": {},
   "outputs": [],
   "source": []
  }
 ],
 "metadata": {
  "interpreter": {
   "hash": "8fac594bfae6525c0c41b4041d2d72effa188cc8ead05f81b1fab2bb098927fb"
  },
  "kernelspec": {
   "display_name": "Python 3.8.8 ('base')",
   "language": "python",
   "name": "python3"
  },
  "language_info": {
   "codemirror_mode": {
    "name": "ipython",
    "version": 3
   },
   "file_extension": ".py",
   "mimetype": "text/x-python",
   "name": "python",
   "nbconvert_exporter": "python",
   "pygments_lexer": "ipython3",
   "version": "3.8.8"
  },
  "orig_nbformat": 4
 },
 "nbformat": 4,
 "nbformat_minor": 2
}
