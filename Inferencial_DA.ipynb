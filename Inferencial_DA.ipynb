{
 "cells": [
  {
   "cell_type": "code",
   "execution_count": 472,
   "metadata": {},
   "outputs": [],
   "source": [
    "import pandas as pd\n",
    "import numpy as np\n",
    "import seaborn as sns\n",
    "import matplotlib.pyplot as plt\n",
    "\n",
    "#statsmodels modules for anova\n",
    "from statsmodels.formula.api import ols\n",
    "from statsmodels.graphics.api import interaction_plot, abline_plot\n",
    "from statsmodels.stats.anova import anova_lm\n",
    "\n",
    "#scikit-learn preprocessing libraries\n",
    "from sklearn.linear_model import LinearRegression\n",
    "from sklearn.preprocessing import StandardScaler,MinMaxScaler\n",
    "from sklearn.metrics import precision_score,plot_precision_recall_curve,accuracy_score,confusion_matrix,plot_confusion_matrix\n",
    "from sklearn.tree import DecisionTreeClassifier\n",
    "from sklearn.ensemble import RandomForestClassifier\n",
    "from sklearn.linear_model import LogisticRegression\n",
    "from sklearn.model_selection import train_test_split\n",
    "from sklearn.preprocessing import OneHotEncoder,OrdinalEncoder,LabelEncoder\n",
    "from sklearn.compose import ColumnTransformer,make_column_selector,make_column_transformer\n",
    "from sklearn import set_config\n",
    "from sklearn.preprocessing import FunctionTransformer\n",
    "import sklearn\n",
    "\n",
    "\n",
    "#ols libraries\n",
    "import statsmodels.api as sm\n",
    "from sklearn.model_selection import train_test_split\n",
    "import statsmodels.formula.api as smf"
   ]
  },
  {
   "cell_type": "markdown",
   "metadata": {},
   "source": [
    "# Inferencial Stats"
   ]
  },
  {
   "cell_type": "code",
   "execution_count": 473,
   "metadata": {},
   "outputs": [],
   "source": [
    "df = pd.read_csv(\"cleaned_data.xlsx\")"
   ]
  },
  {
   "cell_type": "code",
   "execution_count": 474,
   "metadata": {},
   "outputs": [],
   "source": [
    "anova_ie = ols(\"i_c_t ~ C(schtype) * C(gender)\", data=df).fit()\n",
    "\n",
    "anova__ie_table = anova_lm(anova_ie,typ = 2)"
   ]
  },
  {
   "cell_type": "code",
   "execution_count": 36,
   "metadata": {},
   "outputs": [
    {
     "data": {
      "text/html": [
       "<div>\n",
       "<style scoped>\n",
       "    .dataframe tbody tr th:only-of-type {\n",
       "        vertical-align: middle;\n",
       "    }\n",
       "\n",
       "    .dataframe tbody tr th {\n",
       "        vertical-align: top;\n",
       "    }\n",
       "\n",
       "    .dataframe thead th {\n",
       "        text-align: right;\n",
       "    }\n",
       "</style>\n",
       "<table border=\"1\" class=\"dataframe\">\n",
       "  <thead>\n",
       "    <tr style=\"text-align: right;\">\n",
       "      <th></th>\n",
       "      <th>sum_sq</th>\n",
       "      <th>df</th>\n",
       "      <th>F</th>\n",
       "      <th>PR(&gt;F)</th>\n",
       "    </tr>\n",
       "  </thead>\n",
       "  <tbody>\n",
       "    <tr>\n",
       "      <th>C(schtype)</th>\n",
       "      <td>1461.338846</td>\n",
       "      <td>1.0</td>\n",
       "      <td>578.174522</td>\n",
       "      <td>2.096918e-117</td>\n",
       "    </tr>\n",
       "    <tr>\n",
       "      <th>C(gender)</th>\n",
       "      <td>70.268891</td>\n",
       "      <td>1.0</td>\n",
       "      <td>27.801685</td>\n",
       "      <td>1.435140e-07</td>\n",
       "    </tr>\n",
       "    <tr>\n",
       "      <th>C(schtype):C(gender)</th>\n",
       "      <td>3.868186</td>\n",
       "      <td>1.0</td>\n",
       "      <td>1.530437</td>\n",
       "      <td>2.161395e-01</td>\n",
       "    </tr>\n",
       "    <tr>\n",
       "      <th>Residual</th>\n",
       "      <td>7933.837386</td>\n",
       "      <td>3139.0</td>\n",
       "      <td>NaN</td>\n",
       "      <td>NaN</td>\n",
       "    </tr>\n",
       "  </tbody>\n",
       "</table>\n",
       "</div>"
      ],
      "text/plain": [
       "                           sum_sq      df           F         PR(>F)\n",
       "C(schtype)            1461.338846     1.0  578.174522  2.096918e-117\n",
       "C(gender)               70.268891     1.0   27.801685   1.435140e-07\n",
       "C(schtype):C(gender)     3.868186     1.0    1.530437   2.161395e-01\n",
       "Residual              7933.837386  3139.0         NaN            NaN"
      ]
     },
     "execution_count": 36,
     "metadata": {},
     "output_type": "execute_result"
    }
   ],
   "source": [
    "anova__ie_table"
   ]
  },
  {
   "cell_type": "code",
   "execution_count": 37,
   "metadata": {},
   "outputs": [
    {
     "ename": "NameError",
     "evalue": "name 'anova_table' is not defined",
     "output_type": "error",
     "traceback": [
      "\u001b[1;31m---------------------------------------------------------------------------\u001b[0m",
      "\u001b[1;31mNameError\u001b[0m                                 Traceback (most recent call last)",
      "\u001b[1;32mc:\\Users\\User\\Desktop\\VS-CODE\\PYTHON\\BECE-Grade-Analysis\\Inferencial_DA.ipynb Cell 6'\u001b[0m in \u001b[0;36m<cell line: 4>\u001b[1;34m()\u001b[0m\n\u001b[0;32m      <a href='vscode-notebook-cell:/c%3A/Users/User/Desktop/VS-CODE/PYTHON/BECE-Grade-Analysis/Inferencial_DA.ipynb#ch0000005?line=0'>1</a>\u001b[0m anova \u001b[39m=\u001b[39m ols(\u001b[39m\"\u001b[39m\u001b[39mi_c_t ~ C(schtype) + C(gender)\u001b[39m\u001b[39m\"\u001b[39m, data\u001b[39m=\u001b[39mdf)\u001b[39m.\u001b[39mfit()\n\u001b[0;32m      <a href='vscode-notebook-cell:/c%3A/Users/User/Desktop/VS-CODE/PYTHON/BECE-Grade-Analysis/Inferencial_DA.ipynb#ch0000005?line=2'>3</a>\u001b[0m anovatable \u001b[39m=\u001b[39m anova_lm(anova,typ \u001b[39m=\u001b[39m \u001b[39m2\u001b[39m)\n\u001b[1;32m----> <a href='vscode-notebook-cell:/c%3A/Users/User/Desktop/VS-CODE/PYTHON/BECE-Grade-Analysis/Inferencial_DA.ipynb#ch0000005?line=3'>4</a>\u001b[0m anova_table\n",
      "\u001b[1;31mNameError\u001b[0m: name 'anova_table' is not defined"
     ]
    }
   ],
   "source": [
    "anova = ols(\"i_c_t ~ C(schtype) + C(gender)\", data=df).fit()\n",
    "\n",
    "anovatable = anova_lm(anova,typ = 2)\n",
    "anova_table"
   ]
  },
  {
   "cell_type": "code",
   "execution_count": null,
   "metadata": {},
   "outputs": [],
   "source": [
    "spector_data = sm.datasets.spector.load_pandas()"
   ]
  },
  {
   "cell_type": "code",
   "execution_count": null,
   "metadata": {},
   "outputs": [
    {
     "data": {
      "text/html": [
       "<div>\n",
       "<style scoped>\n",
       "    .dataframe tbody tr th:only-of-type {\n",
       "        vertical-align: middle;\n",
       "    }\n",
       "\n",
       "    .dataframe tbody tr th {\n",
       "        vertical-align: top;\n",
       "    }\n",
       "\n",
       "    .dataframe thead th {\n",
       "        text-align: right;\n",
       "    }\n",
       "</style>\n",
       "<table border=\"1\" class=\"dataframe\">\n",
       "  <thead>\n",
       "    <tr style=\"text-align: right;\">\n",
       "      <th></th>\n",
       "      <th>GPA</th>\n",
       "      <th>TUCE</th>\n",
       "      <th>PSI</th>\n",
       "    </tr>\n",
       "  </thead>\n",
       "  <tbody>\n",
       "    <tr>\n",
       "      <th>0</th>\n",
       "      <td>2.66</td>\n",
       "      <td>20.0</td>\n",
       "      <td>0.0</td>\n",
       "    </tr>\n",
       "    <tr>\n",
       "      <th>1</th>\n",
       "      <td>2.89</td>\n",
       "      <td>22.0</td>\n",
       "      <td>0.0</td>\n",
       "    </tr>\n",
       "    <tr>\n",
       "      <th>2</th>\n",
       "      <td>3.28</td>\n",
       "      <td>24.0</td>\n",
       "      <td>0.0</td>\n",
       "    </tr>\n",
       "    <tr>\n",
       "      <th>3</th>\n",
       "      <td>2.92</td>\n",
       "      <td>12.0</td>\n",
       "      <td>0.0</td>\n",
       "    </tr>\n",
       "    <tr>\n",
       "      <th>4</th>\n",
       "      <td>4.00</td>\n",
       "      <td>21.0</td>\n",
       "      <td>0.0</td>\n",
       "    </tr>\n",
       "  </tbody>\n",
       "</table>\n",
       "</div>"
      ],
      "text/plain": [
       "    GPA  TUCE  PSI\n",
       "0  2.66  20.0  0.0\n",
       "1  2.89  22.0  0.0\n",
       "2  3.28  24.0  0.0\n",
       "3  2.92  12.0  0.0\n",
       "4  4.00  21.0  0.0"
      ]
     },
     "execution_count": 11,
     "metadata": {},
     "output_type": "execute_result"
    }
   ],
   "source": [
    "spector_data.exog.head()"
   ]
  },
  {
   "cell_type": "code",
   "execution_count": null,
   "metadata": {},
   "outputs": [],
   "source": [
    "dep = df[['mathematics',\"integrated_science\"]]"
   ]
  },
  {
   "cell_type": "code",
   "execution_count": null,
   "metadata": {},
   "outputs": [
    {
     "name": "stderr",
     "output_type": "stream",
     "text": [
      "C:\\Users\\User\\anaconda3\\lib\\site-packages\\statsmodels\\tsa\\tsatools.py:142: FutureWarning: In a future version of pandas all arguments of concat except for the argument 'objs' will be keyword-only.\n",
      "  x = pd.concat(x[::order], 1)\n"
     ]
    },
    {
     "ename": "ValueError",
     "evalue": "endog must be in the unit interval.",
     "output_type": "error",
     "traceback": [
      "\u001b[1;31m---------------------------------------------------------------------------\u001b[0m",
      "\u001b[1;31mValueError\u001b[0m                                Traceback (most recent call last)",
      "\u001b[1;32mc:\\Users\\User\\Desktop\\VS-CODE\\PYTHON\\BECE-Grade-Analysis\\inferencial_DA.ipynb Cell 9'\u001b[0m in \u001b[0;36m<cell line: 6>\u001b[1;34m()\u001b[0m\n\u001b[0;32m      <a href='vscode-notebook-cell:/c%3A/Users/User/Desktop/VS-CODE/PYTHON/BECE-Grade-Analysis/inferencial_DA.ipynb#ch0000017?line=2'>3</a>\u001b[0m dep_plus_constant \u001b[39m=\u001b[39m sm\u001b[39m.\u001b[39madd_constant(dep)\n\u001b[0;32m      <a href='vscode-notebook-cell:/c%3A/Users/User/Desktop/VS-CODE/PYTHON/BECE-Grade-Analysis/inferencial_DA.ipynb#ch0000017?line=4'>5</a>\u001b[0m \u001b[39m# Logit Model\u001b[39;00m\n\u001b[1;32m----> <a href='vscode-notebook-cell:/c%3A/Users/User/Desktop/VS-CODE/PYTHON/BECE-Grade-Analysis/inferencial_DA.ipynb#ch0000017?line=5'>6</a>\u001b[0m logit_mod \u001b[39m=\u001b[39m sm\u001b[39m.\u001b[39;49mLogit(df[\u001b[39m\"\u001b[39;49m\u001b[39mi_c_t\u001b[39;49m\u001b[39m\"\u001b[39;49m], dep_plus_constant,)\n\u001b[0;32m      <a href='vscode-notebook-cell:/c%3A/Users/User/Desktop/VS-CODE/PYTHON/BECE-Grade-Analysis/inferencial_DA.ipynb#ch0000017?line=7'>8</a>\u001b[0m logit_res \u001b[39m=\u001b[39m statsmodels\u001b[39m.\u001b[39mdiscrete\u001b[39m.\u001b[39mdiscrete_model\u001b[39m.\u001b[39mMNLogit\u001b[39m.\u001b[39mfit()\n\u001b[0;32m      <a href='vscode-notebook-cell:/c%3A/Users/User/Desktop/VS-CODE/PYTHON/BECE-Grade-Analysis/inferencial_DA.ipynb#ch0000017?line=8'>9</a>\u001b[0m \u001b[39m# Optimization terminated successfully.\u001b[39;00m\n\u001b[0;32m     <a href='vscode-notebook-cell:/c%3A/Users/User/Desktop/VS-CODE/PYTHON/BECE-Grade-Analysis/inferencial_DA.ipynb#ch0000017?line=9'>10</a>\u001b[0m \u001b[39m#          Current function value: 0.402801\u001b[39;00m\n\u001b[0;32m     <a href='vscode-notebook-cell:/c%3A/Users/User/Desktop/VS-CODE/PYTHON/BECE-Grade-Analysis/inferencial_DA.ipynb#ch0000017?line=10'>11</a>\u001b[0m \u001b[39m#          Iterations 7\u001b[39;00m\n",
      "File \u001b[1;32m~\\anaconda3\\lib\\site-packages\\statsmodels\\discrete\\discrete_model.py:461\u001b[0m, in \u001b[0;36mBinaryModel.__init__\u001b[1;34m(self, endog, exog, check_rank, **kwargs)\u001b[0m\n\u001b[0;32m    <a href='file:///c%3A/Users/User/anaconda3/lib/site-packages/statsmodels/discrete/discrete_model.py?line=458'>459</a>\u001b[0m \u001b[39mif\u001b[39;00m \u001b[39mnot\u001b[39;00m \u001b[39missubclass\u001b[39m(\u001b[39mself\u001b[39m\u001b[39m.\u001b[39m\u001b[39m__class__\u001b[39m, MultinomialModel):\n\u001b[0;32m    <a href='file:///c%3A/Users/User/anaconda3/lib/site-packages/statsmodels/discrete/discrete_model.py?line=459'>460</a>\u001b[0m     \u001b[39mif\u001b[39;00m \u001b[39mnot\u001b[39;00m np\u001b[39m.\u001b[39mall((\u001b[39mself\u001b[39m\u001b[39m.\u001b[39mendog \u001b[39m>\u001b[39m\u001b[39m=\u001b[39m \u001b[39m0\u001b[39m) \u001b[39m&\u001b[39m (\u001b[39mself\u001b[39m\u001b[39m.\u001b[39mendog \u001b[39m<\u001b[39m\u001b[39m=\u001b[39m \u001b[39m1\u001b[39m)):\n\u001b[1;32m--> <a href='file:///c%3A/Users/User/anaconda3/lib/site-packages/statsmodels/discrete/discrete_model.py?line=460'>461</a>\u001b[0m         \u001b[39mraise\u001b[39;00m \u001b[39mValueError\u001b[39;00m(\u001b[39m\"\u001b[39m\u001b[39mendog must be in the unit interval.\u001b[39m\u001b[39m\"\u001b[39m)\n\u001b[0;32m    <a href='file:///c%3A/Users/User/anaconda3/lib/site-packages/statsmodels/discrete/discrete_model.py?line=462'>463</a>\u001b[0m     \u001b[39mif\u001b[39;00m (\u001b[39mnot\u001b[39;00m \u001b[39mself\u001b[39m\u001b[39m.\u001b[39m_continuous_ok \u001b[39mand\u001b[39;00m\n\u001b[0;32m    <a href='file:///c%3A/Users/User/anaconda3/lib/site-packages/statsmodels/discrete/discrete_model.py?line=463'>464</a>\u001b[0m             np\u001b[39m.\u001b[39many(\u001b[39mself\u001b[39m\u001b[39m.\u001b[39mendog \u001b[39m!=\u001b[39m np\u001b[39m.\u001b[39mround(\u001b[39mself\u001b[39m\u001b[39m.\u001b[39mendog))):\n\u001b[0;32m    <a href='file:///c%3A/Users/User/anaconda3/lib/site-packages/statsmodels/discrete/discrete_model.py?line=464'>465</a>\u001b[0m         \u001b[39mraise\u001b[39;00m \u001b[39mValueError\u001b[39;00m(\u001b[39m\"\u001b[39m\u001b[39mendog must be binary, either 0 or 1\u001b[39m\u001b[39m\"\u001b[39m)\n",
      "\u001b[1;31mValueError\u001b[0m: endog must be in the unit interval."
     ]
    }
   ],
   "source": [
    "import statsmodels.api as sm\n",
    "\n",
    "dep_plus_constant = sm.add_constant(dep)\n",
    "\n",
    "# Logit Model\n",
    "logit_mod = sm.Logit(df[\"i_c_t\"], dep_plus_constant,)\n",
    "\n",
    "logit_res = statsmodels.discrete.discrete_model.MNLogit.fit()\n",
    "# Optimization terminated successfully.\n",
    "#          Current function value: 0.402801\n",
    "#          Iterations 7\n",
    "\n",
    "print(logit_res.summary())"
   ]
  },
  {
   "cell_type": "code",
   "execution_count": null,
   "metadata": {},
   "outputs": [
    {
     "data": {
      "text/plain": [
       "3"
      ]
     },
     "execution_count": 19,
     "metadata": {},
     "output_type": "execute_result"
    }
   ],
   "source": [
    "sns.load_dataset(\"iris\")['species'].nunique()"
   ]
  },
  {
   "cell_type": "code",
   "execution_count": null,
   "metadata": {},
   "outputs": [
    {
     "name": "stderr",
     "output_type": "stream",
     "text": [
      "C:\\Users\\User\\anaconda3\\lib\\site-packages\\statsmodels\\tsa\\tsatools.py:142: FutureWarning: In a future version of pandas all arguments of concat except for the argument 'objs' will be keyword-only.\n",
      "  x = pd.concat(x[::order], 1)\n"
     ]
    },
    {
     "name": "stdout",
     "output_type": "stream",
     "text": [
      "Optimization terminated successfully.\n",
      "         Current function value: 1.438243\n",
      "         Iterations 11\n"
     ]
    },
    {
     "data": {
      "text/html": [
       "<table class=\"simpletable\">\n",
       "<caption>MNLogit Regression Results</caption>\n",
       "<tr>\n",
       "  <th>Dep. Variable:</th>         <td>i_c_t</td>      <th>  No. Observations:  </th>  <td>  3143</td> \n",
       "</tr>\n",
       "<tr>\n",
       "  <th>Model:</th>                <td>MNLogit</td>     <th>  Df Residuals:      </th>  <td>  3119</td> \n",
       "</tr>\n",
       "<tr>\n",
       "  <th>Method:</th>                 <td>MLE</td>       <th>  Df Model:          </th>  <td>    16</td> \n",
       "</tr>\n",
       "<tr>\n",
       "  <th>Date:</th>            <td>Mon, 28 Mar 2022</td> <th>  Pseudo R-squ.:     </th>  <td>0.2463</td> \n",
       "</tr>\n",
       "<tr>\n",
       "  <th>Time:</th>                <td>16:29:57</td>     <th>  Log-Likelihood:    </th> <td> -4520.4</td>\n",
       "</tr>\n",
       "<tr>\n",
       "  <th>converged:</th>             <td>True</td>       <th>  LL-Null:           </th> <td> -5997.3</td>\n",
       "</tr>\n",
       "<tr>\n",
       "  <th>Covariance Type:</th>     <td>nonrobust</td>    <th>  LLR p-value:       </th>  <td> 0.000</td> \n",
       "</tr>\n",
       "</table>\n",
       "<table class=\"simpletable\">\n",
       "<tr>\n",
       "        <th>i_c_t=2</th>         <th>coef</th>     <th>std err</th>      <th>z</th>      <th>P>|z|</th>  <th>[0.025</th>    <th>0.975]</th>  \n",
       "</tr>\n",
       "<tr>\n",
       "  <th>const</th>              <td>   -1.4441</td> <td>    0.672</td> <td>   -2.148</td> <td> 0.032</td> <td>   -2.762</td> <td>   -0.126</td>\n",
       "</tr>\n",
       "<tr>\n",
       "  <th>mathematics</th>        <td>    0.5285</td> <td>    0.215</td> <td>    2.453</td> <td> 0.014</td> <td>    0.106</td> <td>    0.951</td>\n",
       "</tr>\n",
       "<tr>\n",
       "  <th>integrated_science</th> <td>    0.2851</td> <td>    0.319</td> <td>    0.895</td> <td> 0.371</td> <td>   -0.339</td> <td>    0.909</td>\n",
       "</tr>\n",
       "<tr>\n",
       "        <th>i_c_t=3</th>         <th>coef</th>     <th>std err</th>      <th>z</th>      <th>P>|z|</th>  <th>[0.025</th>    <th>0.975]</th>  \n",
       "</tr>\n",
       "<tr>\n",
       "  <th>const</th>              <td>   -2.3854</td> <td>    0.670</td> <td>   -3.562</td> <td> 0.000</td> <td>   -3.698</td> <td>   -1.073</td>\n",
       "</tr>\n",
       "<tr>\n",
       "  <th>mathematics</th>        <td>    0.5670</td> <td>    0.209</td> <td>    2.718</td> <td> 0.007</td> <td>    0.158</td> <td>    0.976</td>\n",
       "</tr>\n",
       "<tr>\n",
       "  <th>integrated_science</th> <td>    0.7954</td> <td>    0.306</td> <td>    2.603</td> <td> 0.009</td> <td>    0.197</td> <td>    1.394</td>\n",
       "</tr>\n",
       "<tr>\n",
       "        <th>i_c_t=4</th>         <th>coef</th>     <th>std err</th>      <th>z</th>      <th>P>|z|</th>  <th>[0.025</th>    <th>0.975]</th>  \n",
       "</tr>\n",
       "<tr>\n",
       "  <th>const</th>              <td>   -3.5972</td> <td>    0.687</td> <td>   -5.236</td> <td> 0.000</td> <td>   -4.944</td> <td>   -2.251</td>\n",
       "</tr>\n",
       "<tr>\n",
       "  <th>mathematics</th>        <td>    0.6970</td> <td>    0.207</td> <td>    3.363</td> <td> 0.001</td> <td>    0.291</td> <td>    1.103</td>\n",
       "</tr>\n",
       "<tr>\n",
       "  <th>integrated_science</th> <td>    1.1402</td> <td>    0.303</td> <td>    3.760</td> <td> 0.000</td> <td>    0.546</td> <td>    1.735</td>\n",
       "</tr>\n",
       "<tr>\n",
       "        <th>i_c_t=5</th>         <th>coef</th>     <th>std err</th>      <th>z</th>      <th>P>|z|</th>  <th>[0.025</th>    <th>0.975]</th>  \n",
       "</tr>\n",
       "<tr>\n",
       "  <th>const</th>              <td>   -5.1947</td> <td>    0.704</td> <td>   -7.374</td> <td> 0.000</td> <td>   -6.575</td> <td>   -3.814</td>\n",
       "</tr>\n",
       "<tr>\n",
       "  <th>mathematics</th>        <td>    0.9043</td> <td>    0.207</td> <td>    4.367</td> <td> 0.000</td> <td>    0.498</td> <td>    1.310</td>\n",
       "</tr>\n",
       "<tr>\n",
       "  <th>integrated_science</th> <td>    1.4494</td> <td>    0.303</td> <td>    4.786</td> <td> 0.000</td> <td>    0.856</td> <td>    2.043</td>\n",
       "</tr>\n",
       "<tr>\n",
       "        <th>i_c_t=6</th>         <th>coef</th>     <th>std err</th>      <th>z</th>      <th>P>|z|</th>  <th>[0.025</th>    <th>0.975]</th>  \n",
       "</tr>\n",
       "<tr>\n",
       "  <th>const</th>              <td>   -8.4078</td> <td>    0.748</td> <td>  -11.246</td> <td> 0.000</td> <td>   -9.873</td> <td>   -6.942</td>\n",
       "</tr>\n",
       "<tr>\n",
       "  <th>mathematics</th>        <td>    1.1439</td> <td>    0.210</td> <td>    5.455</td> <td> 0.000</td> <td>    0.733</td> <td>    1.555</td>\n",
       "</tr>\n",
       "<tr>\n",
       "  <th>integrated_science</th> <td>    1.8374</td> <td>    0.304</td> <td>    6.035</td> <td> 0.000</td> <td>    1.241</td> <td>    2.434</td>\n",
       "</tr>\n",
       "<tr>\n",
       "        <th>i_c_t=7</th>         <th>coef</th>     <th>std err</th>      <th>z</th>      <th>P>|z|</th>  <th>[0.025</th>    <th>0.975]</th>  \n",
       "</tr>\n",
       "<tr>\n",
       "  <th>const</th>              <td>  -12.1411</td> <td>    0.790</td> <td>  -15.376</td> <td> 0.000</td> <td>  -13.689</td> <td>  -10.593</td>\n",
       "</tr>\n",
       "<tr>\n",
       "  <th>mathematics</th>        <td>    1.3102</td> <td>    0.212</td> <td>    6.195</td> <td> 0.000</td> <td>    0.896</td> <td>    1.725</td>\n",
       "</tr>\n",
       "<tr>\n",
       "  <th>integrated_science</th> <td>    2.2828</td> <td>    0.306</td> <td>    7.462</td> <td> 0.000</td> <td>    1.683</td> <td>    2.882</td>\n",
       "</tr>\n",
       "<tr>\n",
       "        <th>i_c_t=8</th>         <th>coef</th>     <th>std err</th>      <th>z</th>      <th>P>|z|</th>  <th>[0.025</th>    <th>0.975]</th>  \n",
       "</tr>\n",
       "<tr>\n",
       "  <th>const</th>              <td>  -18.2296</td> <td>    0.883</td> <td>  -20.655</td> <td> 0.000</td> <td>  -19.959</td> <td>  -16.500</td>\n",
       "</tr>\n",
       "<tr>\n",
       "  <th>mathematics</th>        <td>    1.5052</td> <td>    0.215</td> <td>    6.992</td> <td> 0.000</td> <td>    1.083</td> <td>    1.927</td>\n",
       "</tr>\n",
       "<tr>\n",
       "  <th>integrated_science</th> <td>    2.9109</td> <td>    0.309</td> <td>    9.413</td> <td> 0.000</td> <td>    2.305</td> <td>    3.517</td>\n",
       "</tr>\n",
       "<tr>\n",
       "        <th>i_c_t=9</th>         <th>coef</th>     <th>std err</th>      <th>z</th>      <th>P>|z|</th>  <th>[0.025</th>    <th>0.975]</th>  \n",
       "</tr>\n",
       "<tr>\n",
       "  <th>const</th>              <td>  -26.4009</td> <td>    1.088</td> <td>  -24.269</td> <td> 0.000</td> <td>  -28.533</td> <td>  -24.269</td>\n",
       "</tr>\n",
       "<tr>\n",
       "  <th>mathematics</th>        <td>    1.7291</td> <td>    0.222</td> <td>    7.779</td> <td> 0.000</td> <td>    1.293</td> <td>    2.165</td>\n",
       "</tr>\n",
       "<tr>\n",
       "  <th>integrated_science</th> <td>    3.6778</td> <td>    0.317</td> <td>   11.612</td> <td> 0.000</td> <td>    3.057</td> <td>    4.299</td>\n",
       "</tr>\n",
       "</table>"
      ],
      "text/plain": [
       "<class 'statsmodels.iolib.summary.Summary'>\n",
       "\"\"\"\n",
       "                          MNLogit Regression Results                          \n",
       "==============================================================================\n",
       "Dep. Variable:                  i_c_t   No. Observations:                 3143\n",
       "Model:                        MNLogit   Df Residuals:                     3119\n",
       "Method:                           MLE   Df Model:                           16\n",
       "Date:                Mon, 28 Mar 2022   Pseudo R-squ.:                  0.2463\n",
       "Time:                        16:29:57   Log-Likelihood:                -4520.4\n",
       "converged:                       True   LL-Null:                       -5997.3\n",
       "Covariance Type:            nonrobust   LLR p-value:                     0.000\n",
       "======================================================================================\n",
       "           i_c_t=2       coef    std err          z      P>|z|      [0.025      0.975]\n",
       "--------------------------------------------------------------------------------------\n",
       "const                 -1.4441      0.672     -2.148      0.032      -2.762      -0.126\n",
       "mathematics            0.5285      0.215      2.453      0.014       0.106       0.951\n",
       "integrated_science     0.2851      0.319      0.895      0.371      -0.339       0.909\n",
       "--------------------------------------------------------------------------------------\n",
       "           i_c_t=3       coef    std err          z      P>|z|      [0.025      0.975]\n",
       "--------------------------------------------------------------------------------------\n",
       "const                 -2.3854      0.670     -3.562      0.000      -3.698      -1.073\n",
       "mathematics            0.5670      0.209      2.718      0.007       0.158       0.976\n",
       "integrated_science     0.7954      0.306      2.603      0.009       0.197       1.394\n",
       "--------------------------------------------------------------------------------------\n",
       "           i_c_t=4       coef    std err          z      P>|z|      [0.025      0.975]\n",
       "--------------------------------------------------------------------------------------\n",
       "const                 -3.5972      0.687     -5.236      0.000      -4.944      -2.251\n",
       "mathematics            0.6970      0.207      3.363      0.001       0.291       1.103\n",
       "integrated_science     1.1402      0.303      3.760      0.000       0.546       1.735\n",
       "--------------------------------------------------------------------------------------\n",
       "           i_c_t=5       coef    std err          z      P>|z|      [0.025      0.975]\n",
       "--------------------------------------------------------------------------------------\n",
       "const                 -5.1947      0.704     -7.374      0.000      -6.575      -3.814\n",
       "mathematics            0.9043      0.207      4.367      0.000       0.498       1.310\n",
       "integrated_science     1.4494      0.303      4.786      0.000       0.856       2.043\n",
       "--------------------------------------------------------------------------------------\n",
       "           i_c_t=6       coef    std err          z      P>|z|      [0.025      0.975]\n",
       "--------------------------------------------------------------------------------------\n",
       "const                 -8.4078      0.748    -11.246      0.000      -9.873      -6.942\n",
       "mathematics            1.1439      0.210      5.455      0.000       0.733       1.555\n",
       "integrated_science     1.8374      0.304      6.035      0.000       1.241       2.434\n",
       "--------------------------------------------------------------------------------------\n",
       "           i_c_t=7       coef    std err          z      P>|z|      [0.025      0.975]\n",
       "--------------------------------------------------------------------------------------\n",
       "const                -12.1411      0.790    -15.376      0.000     -13.689     -10.593\n",
       "mathematics            1.3102      0.212      6.195      0.000       0.896       1.725\n",
       "integrated_science     2.2828      0.306      7.462      0.000       1.683       2.882\n",
       "--------------------------------------------------------------------------------------\n",
       "           i_c_t=8       coef    std err          z      P>|z|      [0.025      0.975]\n",
       "--------------------------------------------------------------------------------------\n",
       "const                -18.2296      0.883    -20.655      0.000     -19.959     -16.500\n",
       "mathematics            1.5052      0.215      6.992      0.000       1.083       1.927\n",
       "integrated_science     2.9109      0.309      9.413      0.000       2.305       3.517\n",
       "--------------------------------------------------------------------------------------\n",
       "           i_c_t=9       coef    std err          z      P>|z|      [0.025      0.975]\n",
       "--------------------------------------------------------------------------------------\n",
       "const                -26.4009      1.088    -24.269      0.000     -28.533     -24.269\n",
       "mathematics            1.7291      0.222      7.779      0.000       1.293       2.165\n",
       "integrated_science     3.6778      0.317     11.612      0.000       3.057       4.299\n",
       "======================================================================================\n",
       "\"\"\""
      ]
     },
     "execution_count": 21,
     "metadata": {},
     "output_type": "execute_result"
    }
   ],
   "source": [
    "import statsmodels.api as st\n",
    "\n",
    "dep_plus_constant = sm.add_constant(dep)\n",
    "mdl = st.MNLogit(df['i_c_t'], dep_plus_constant)\n",
    " \n",
    "mdl_fit = mdl.fit()\n",
    "mdl_fit.summary()"
   ]
  },
  {
   "cell_type": "code",
   "execution_count": null,
   "metadata": {},
   "outputs": [],
   "source": []
  },
  {
   "cell_type": "code",
   "execution_count": null,
   "metadata": {},
   "outputs": [],
   "source": []
  },
  {
   "cell_type": "code",
   "execution_count": null,
   "metadata": {},
   "outputs": [],
   "source": [
    "dummies = pd.get_dummies(df.loc[:,df.columns!='circuit'],drop_first=True)\n",
    "dummies.head()"
   ]
  },
  {
   "cell_type": "code",
   "execution_count": null,
   "metadata": {},
   "outputs": [],
   "source": [
    "circuit = pd.get_dummies(df[\"circuit\"],drop_first=False)\n",
    "circuit = circuit.drop(columns=[\"YAMORANSA\"],axis =1) #drop YAMORANSA from the encoded columns"
   ]
  },
  {
   "cell_type": "code",
   "execution_count": null,
   "metadata": {},
   "outputs": [],
   "source": [
    "#concatenate circuit and the other encoded columns (dummies)\n",
    "\n",
    "df_ols = pd.concat([circuit,dummies],axis = 1)\n",
    "\n",
    "df_ols.columns = [x.lower() for x in df_ols.columns] #change all upper case column names to lower case\n",
    "df_ols.columns = [column.replace(\" \",\"_\") for column in df_ols.columns]    #get rid of all whitespaces in column names\n",
    "\n",
    "df_ols.head()"
   ]
  },
  {
   "cell_type": "code",
   "execution_count": null,
   "metadata": {},
   "outputs": [],
   "source": [
    "scaler = StandardScaler()"
   ]
  },
  {
   "cell_type": "code",
   "execution_count": null,
   "metadata": {},
   "outputs": [],
   "source": [
    "new_df = scaler.fit_transform(df_ols)"
   ]
  },
  {
   "cell_type": "code",
   "execution_count": null,
   "metadata": {},
   "outputs": [],
   "source": [
    "df_ols = pd.DataFrame(new_df,columns=df_ols.columns)"
   ]
  },
  {
   "cell_type": "code",
   "execution_count": null,
   "metadata": {},
   "outputs": [],
   "source": [
    "df_ols.columns"
   ]
  },
  {
   "cell_type": "code",
   "execution_count": null,
   "metadata": {},
   "outputs": [],
   "source": [
    "model = smf.ols(formula=\"i_c_t~age+anomabo_a+anomabo_b+mankessim_a+mankessim_b+mdominase+saltpond_a+saltpond_b+schtype_public+gender_m+mathematics+english_language\",data = df_ols).fit()"
   ]
  },
  {
   "cell_type": "code",
   "execution_count": null,
   "metadata": {},
   "outputs": [],
   "source": [
    "model.summary()"
   ]
  },
  {
   "cell_type": "code",
   "execution_count": null,
   "metadata": {},
   "outputs": [],
   "source": [
    "model2 = smf.ols(formula=\"i_c_t~schtype_public+gender_m+mathematics+english_language\",data = df_ols).fit()"
   ]
  },
  {
   "cell_type": "code",
   "execution_count": null,
   "metadata": {},
   "outputs": [],
   "source": [
    "model2.summary()"
   ]
  },
  {
   "cell_type": "markdown",
   "metadata": {},
   "source": [
    "# Machine Learning Inference"
   ]
  },
  {
   "cell_type": "code",
   "execution_count": null,
   "metadata": {},
   "outputs": [],
   "source": []
  },
  {
   "cell_type": "markdown",
   "metadata": {},
   "source": [
    "## Data Preprocessing"
   ]
  },
  {
   "cell_type": "markdown",
   "metadata": {},
   "source": []
  },
  {
   "cell_type": "code",
   "execution_count": 475,
   "metadata": {},
   "outputs": [
    {
     "data": {
      "text/html": [
       "<div>\n",
       "<style scoped>\n",
       "    .dataframe tbody tr th:only-of-type {\n",
       "        vertical-align: middle;\n",
       "    }\n",
       "\n",
       "    .dataframe tbody tr th {\n",
       "        vertical-align: top;\n",
       "    }\n",
       "\n",
       "    .dataframe thead th {\n",
       "        text-align: right;\n",
       "    }\n",
       "</style>\n",
       "<table border=\"1\" class=\"dataframe\">\n",
       "  <thead>\n",
       "    <tr style=\"text-align: right;\">\n",
       "      <th></th>\n",
       "      <th>cid</th>\n",
       "      <th>social_studies</th>\n",
       "      <th>integrated_science</th>\n",
       "      <th>i_c_t</th>\n",
       "      <th>r_m_e</th>\n",
       "      <th>fante</th>\n",
       "      <th>mathematics</th>\n",
       "      <th>english_language</th>\n",
       "      <th>b_d_t</th>\n",
       "      <th>schtype</th>\n",
       "      <th>age</th>\n",
       "      <th>gender</th>\n",
       "      <th>circuit</th>\n",
       "      <th>aggregate</th>\n",
       "    </tr>\n",
       "  </thead>\n",
       "  <tbody>\n",
       "    <tr>\n",
       "      <th>0</th>\n",
       "      <td>302063052</td>\n",
       "      <td>1</td>\n",
       "      <td>1</td>\n",
       "      <td>1</td>\n",
       "      <td>2</td>\n",
       "      <td>2</td>\n",
       "      <td>1</td>\n",
       "      <td>2</td>\n",
       "      <td>2</td>\n",
       "      <td>PRIVATE</td>\n",
       "      <td>15.0</td>\n",
       "      <td>M</td>\n",
       "      <td>SALTPOND B</td>\n",
       "      <td>8.0</td>\n",
       "    </tr>\n",
       "    <tr>\n",
       "      <th>1</th>\n",
       "      <td>302063055</td>\n",
       "      <td>1</td>\n",
       "      <td>2</td>\n",
       "      <td>4</td>\n",
       "      <td>4</td>\n",
       "      <td>4</td>\n",
       "      <td>5</td>\n",
       "      <td>3</td>\n",
       "      <td>3</td>\n",
       "      <td>PRIVATE</td>\n",
       "      <td>15.0</td>\n",
       "      <td>F</td>\n",
       "      <td>SALTPOND B</td>\n",
       "      <td>18.0</td>\n",
       "    </tr>\n",
       "    <tr>\n",
       "      <th>2</th>\n",
       "      <td>302156005</td>\n",
       "      <td>1</td>\n",
       "      <td>3</td>\n",
       "      <td>5</td>\n",
       "      <td>2</td>\n",
       "      <td>3</td>\n",
       "      <td>4</td>\n",
       "      <td>5</td>\n",
       "      <td>5</td>\n",
       "      <td>PUBLIC</td>\n",
       "      <td>19.0</td>\n",
       "      <td>M</td>\n",
       "      <td>MANKESSIM A</td>\n",
       "      <td>18.0</td>\n",
       "    </tr>\n",
       "    <tr>\n",
       "      <th>3</th>\n",
       "      <td>302063042</td>\n",
       "      <td>1</td>\n",
       "      <td>1</td>\n",
       "      <td>2</td>\n",
       "      <td>2</td>\n",
       "      <td>2</td>\n",
       "      <td>2</td>\n",
       "      <td>1</td>\n",
       "      <td>2</td>\n",
       "      <td>PRIVATE</td>\n",
       "      <td>16.0</td>\n",
       "      <td>M</td>\n",
       "      <td>SALTPOND B</td>\n",
       "      <td>9.0</td>\n",
       "    </tr>\n",
       "    <tr>\n",
       "      <th>4</th>\n",
       "      <td>302148014</td>\n",
       "      <td>1</td>\n",
       "      <td>4</td>\n",
       "      <td>6</td>\n",
       "      <td>3</td>\n",
       "      <td>2</td>\n",
       "      <td>5</td>\n",
       "      <td>4</td>\n",
       "      <td>4</td>\n",
       "      <td>PUBLIC</td>\n",
       "      <td>17.0</td>\n",
       "      <td>M</td>\n",
       "      <td>MDOMINASE</td>\n",
       "      <td>19.0</td>\n",
       "    </tr>\n",
       "  </tbody>\n",
       "</table>\n",
       "</div>"
      ],
      "text/plain": [
       "         cid  social_studies  integrated_science  i_c_t  r_m_e  fante  \\\n",
       "0  302063052               1                   1      1      2      2   \n",
       "1  302063055               1                   2      4      4      4   \n",
       "2  302156005               1                   3      5      2      3   \n",
       "3  302063042               1                   1      2      2      2   \n",
       "4  302148014               1                   4      6      3      2   \n",
       "\n",
       "   mathematics  english_language  b_d_t  schtype   age gender      circuit  \\\n",
       "0            1                 2      2  PRIVATE  15.0      M   SALTPOND B   \n",
       "1            5                 3      3  PRIVATE  15.0      F   SALTPOND B   \n",
       "2            4                 5      5   PUBLIC  19.0      M  MANKESSIM A   \n",
       "3            2                 1      2  PRIVATE  16.0      M   SALTPOND B   \n",
       "4            5                 4      4   PUBLIC  17.0      M    MDOMINASE   \n",
       "\n",
       "   aggregate  \n",
       "0        8.0  \n",
       "1       18.0  \n",
       "2       18.0  \n",
       "3        9.0  \n",
       "4       19.0  "
      ]
     },
     "execution_count": 475,
     "metadata": {},
     "output_type": "execute_result"
    }
   ],
   "source": [
    "df = df.drop(columns = df.iloc[:,[0]].columns)\n",
    "df.head()"
   ]
  },
  {
   "cell_type": "code",
   "execution_count": 500,
   "metadata": {},
   "outputs": [],
   "source": [
    "y = df['i_c_t']\n",
    "X = df.iloc[:,df.columns!='i_c_t'].drop(columns ='cid')"
   ]
  },
  {
   "cell_type": "code",
   "execution_count": 501,
   "metadata": {},
   "outputs": [
    {
     "data": {
      "text/html": [
       "<div>\n",
       "<style scoped>\n",
       "    .dataframe tbody tr th:only-of-type {\n",
       "        vertical-align: middle;\n",
       "    }\n",
       "\n",
       "    .dataframe tbody tr th {\n",
       "        vertical-align: top;\n",
       "    }\n",
       "\n",
       "    .dataframe thead th {\n",
       "        text-align: right;\n",
       "    }\n",
       "</style>\n",
       "<table border=\"1\" class=\"dataframe\">\n",
       "  <thead>\n",
       "    <tr style=\"text-align: right;\">\n",
       "      <th></th>\n",
       "      <th>social_studies</th>\n",
       "      <th>integrated_science</th>\n",
       "      <th>r_m_e</th>\n",
       "      <th>fante</th>\n",
       "      <th>mathematics</th>\n",
       "      <th>english_language</th>\n",
       "      <th>b_d_t</th>\n",
       "      <th>schtype</th>\n",
       "      <th>age</th>\n",
       "      <th>gender</th>\n",
       "      <th>circuit</th>\n",
       "      <th>aggregate</th>\n",
       "    </tr>\n",
       "  </thead>\n",
       "  <tbody>\n",
       "    <tr>\n",
       "      <th>0</th>\n",
       "      <td>1</td>\n",
       "      <td>1</td>\n",
       "      <td>2</td>\n",
       "      <td>2</td>\n",
       "      <td>1</td>\n",
       "      <td>2</td>\n",
       "      <td>2</td>\n",
       "      <td>PRIVATE</td>\n",
       "      <td>15.0</td>\n",
       "      <td>M</td>\n",
       "      <td>SALTPOND B</td>\n",
       "      <td>8.0</td>\n",
       "    </tr>\n",
       "    <tr>\n",
       "      <th>1</th>\n",
       "      <td>1</td>\n",
       "      <td>2</td>\n",
       "      <td>4</td>\n",
       "      <td>4</td>\n",
       "      <td>5</td>\n",
       "      <td>3</td>\n",
       "      <td>3</td>\n",
       "      <td>PRIVATE</td>\n",
       "      <td>15.0</td>\n",
       "      <td>F</td>\n",
       "      <td>SALTPOND B</td>\n",
       "      <td>18.0</td>\n",
       "    </tr>\n",
       "    <tr>\n",
       "      <th>2</th>\n",
       "      <td>1</td>\n",
       "      <td>3</td>\n",
       "      <td>2</td>\n",
       "      <td>3</td>\n",
       "      <td>4</td>\n",
       "      <td>5</td>\n",
       "      <td>5</td>\n",
       "      <td>PUBLIC</td>\n",
       "      <td>19.0</td>\n",
       "      <td>M</td>\n",
       "      <td>MANKESSIM A</td>\n",
       "      <td>18.0</td>\n",
       "    </tr>\n",
       "    <tr>\n",
       "      <th>3</th>\n",
       "      <td>1</td>\n",
       "      <td>1</td>\n",
       "      <td>2</td>\n",
       "      <td>2</td>\n",
       "      <td>2</td>\n",
       "      <td>1</td>\n",
       "      <td>2</td>\n",
       "      <td>PRIVATE</td>\n",
       "      <td>16.0</td>\n",
       "      <td>M</td>\n",
       "      <td>SALTPOND B</td>\n",
       "      <td>9.0</td>\n",
       "    </tr>\n",
       "    <tr>\n",
       "      <th>4</th>\n",
       "      <td>1</td>\n",
       "      <td>4</td>\n",
       "      <td>3</td>\n",
       "      <td>2</td>\n",
       "      <td>5</td>\n",
       "      <td>4</td>\n",
       "      <td>4</td>\n",
       "      <td>PUBLIC</td>\n",
       "      <td>17.0</td>\n",
       "      <td>M</td>\n",
       "      <td>MDOMINASE</td>\n",
       "      <td>19.0</td>\n",
       "    </tr>\n",
       "  </tbody>\n",
       "</table>\n",
       "</div>"
      ],
      "text/plain": [
       "   social_studies  integrated_science  r_m_e  fante  mathematics  \\\n",
       "0               1                   1      2      2            1   \n",
       "1               1                   2      4      4            5   \n",
       "2               1                   3      2      3            4   \n",
       "3               1                   1      2      2            2   \n",
       "4               1                   4      3      2            5   \n",
       "\n",
       "   english_language  b_d_t  schtype   age gender      circuit  aggregate  \n",
       "0                 2      2  PRIVATE  15.0      M   SALTPOND B        8.0  \n",
       "1                 3      3  PRIVATE  15.0      F   SALTPOND B       18.0  \n",
       "2                 5      5   PUBLIC  19.0      M  MANKESSIM A       18.0  \n",
       "3                 1      2  PRIVATE  16.0      M   SALTPOND B        9.0  \n",
       "4                 4      4   PUBLIC  17.0      M    MDOMINASE       19.0  "
      ]
     },
     "execution_count": 501,
     "metadata": {},
     "output_type": "execute_result"
    }
   ],
   "source": [
    "X.head()"
   ]
  },
  {
   "cell_type": "code",
   "execution_count": 478,
   "metadata": {},
   "outputs": [
    {
     "data": {
      "text/plain": [
       "0    1\n",
       "1    4\n",
       "2    5\n",
       "3    2\n",
       "4    6\n",
       "Name: i_c_t, dtype: int64"
      ]
     },
     "execution_count": 478,
     "metadata": {},
     "output_type": "execute_result"
    }
   ],
   "source": [
    "y[:5]"
   ]
  },
  {
   "cell_type": "code",
   "execution_count": 479,
   "metadata": {},
   "outputs": [
    {
     "name": "stdout",
     "output_type": "stream",
     "text": [
      "<class 'pandas.core.frame.DataFrame'>\n",
      "RangeIndex: 3143 entries, 0 to 3142\n",
      "Data columns (total 14 columns):\n",
      " #   Column              Non-Null Count  Dtype  \n",
      "---  ------              --------------  -----  \n",
      " 0   cid                 3143 non-null   int64  \n",
      " 1   social_studies      3143 non-null   int64  \n",
      " 2   integrated_science  3143 non-null   int64  \n",
      " 3   i_c_t               3143 non-null   int64  \n",
      " 4   r_m_e               3143 non-null   int64  \n",
      " 5   fante               3143 non-null   int64  \n",
      " 6   mathematics         3143 non-null   int64  \n",
      " 7   english_language    3143 non-null   int64  \n",
      " 8   b_d_t               3143 non-null   int64  \n",
      " 9   schtype             3143 non-null   object \n",
      " 10  age                 3143 non-null   float64\n",
      " 11  gender              3143 non-null   object \n",
      " 12  circuit             3143 non-null   object \n",
      " 13  aggregate           3143 non-null   float64\n",
      "dtypes: float64(2), int64(9), object(3)\n",
      "memory usage: 343.9+ KB\n"
     ]
    }
   ],
   "source": [
    "df.info()"
   ]
  },
  {
   "cell_type": "code",
   "execution_count": 502,
   "metadata": {},
   "outputs": [],
   "source": [
    "X_train, X_test, y_train, y_test = train_test_split(X,y,test_size= 0.3,stratify=y,random_state = 111)"
   ]
  },
  {
   "cell_type": "code",
   "execution_count": 503,
   "metadata": {},
   "outputs": [
    {
     "data": {
      "text/plain": [
       "0.3000318167356029"
      ]
     },
     "execution_count": 503,
     "metadata": {},
     "output_type": "execute_result"
    }
   ],
   "source": [
    "X_test.size/X.size"
   ]
  },
  {
   "cell_type": "code",
   "execution_count": 504,
   "metadata": {},
   "outputs": [
    {
     "name": "stdout",
     "output_type": "stream",
     "text": [
      "size of traininig features : 70.0%\n",
      "size of testing features   : 30.0%\n"
     ]
    }
   ],
   "source": [
    "print(\"size of traininig features : {}{}\".format( round( (X_train.size/X.size)*100, 2), \"%\") )\n",
    "print(\"size of testing features   : {}{}\".format( round( (X_test.size/X.size)*100, 2), \"%\" ) )"
   ]
  },
  {
   "cell_type": "code",
   "execution_count": null,
   "metadata": {},
   "outputs": [],
   "source": []
  },
  {
   "cell_type": "code",
   "execution_count": 598,
   "metadata": {},
   "outputs": [],
   "source": [
    "def transformer(column,encoder,train:bool = True):\n",
    "    \"\"\"preprocess input data and return a dataframe with the corresponding labels\"\"\"\n",
    "    \"\"\"function returns an a dataframe and an encoder used in preprocessing if train given\"\"\"\n",
    "    \n",
    "    if train == True:\n",
    "         x = encoder.fit_transform(column)\n",
    "    else:\n",
    "        try:\n",
    "         x = encoder.transform(column)  \n",
    "        except NotFittedError:\n",
    "             print(\"Data Has Not Been Fitted Yet\")\n",
    "             return None\n",
    "    \n",
    "    if isinstance(encoder,sklearn.preprocessing.OneHotEncoder):\n",
    "        x = pd.DataFrame(x,columns = list(encoder.get_feature_names_out(encoder.feature_names_in_))) \n",
    "    else:\n",
    "        x = pd.DataFrame(x,columns = column.columns)\n",
    "        \n",
    "    x = x.astype(\"int\")\n",
    "    \n",
    "    return (x,encoder) if train else x"
   ]
  },
  {
   "cell_type": "code",
   "execution_count": 599,
   "metadata": {},
   "outputs": [],
   "source": [
    "circuit_order = list(df['circuit'].value_counts().index)"
   ]
  },
  {
   "cell_type": "code",
   "execution_count": 600,
   "metadata": {},
   "outputs": [],
   "source": [
    "#One Hot Encoding\n",
    "ohe = OneHotEncoder(categories = [['PRIVATE','PUBLIC'],[\"M\",\"F\"],circuit_order],\n",
    "                   drop = np.array([\"PRIVATE\",\"F\",\"YAMORANSA\"]),sparse = False)\n",
    "\n",
    "#Ordinal Encoding\n",
    "oe = OrdinalEncoder(categories=[['PRIVATE','PUBLIC'],[\"M\",\"F\"],circuit_order],handle_unknown='error')"
   ]
  },
  {
   "cell_type": "code",
   "execution_count": 601,
   "metadata": {},
   "outputs": [
    {
     "ename": "ValueError",
     "evalue": "Shape mismatch: if categories is an array, it has to be of shape (n_features,).",
     "output_type": "error",
     "traceback": [
      "\u001b[1;31m---------------------------------------------------------------------------\u001b[0m",
      "\u001b[1;31mValueError\u001b[0m                                Traceback (most recent call last)",
      "Input \u001b[1;32mIn [601]\u001b[0m, in \u001b[0;36m<cell line: 1>\u001b[1;34m()\u001b[0m\n\u001b[1;32m----> 1\u001b[0m train,oe \u001b[39m=\u001b[39m transformer(X_train\u001b[39m.\u001b[39;49mselect_dtypes(\u001b[39m\"\u001b[39;49m\u001b[39mO\u001b[39;49m\u001b[39m\"\u001b[39;49m),encoder \u001b[39m=\u001b[39;49m oe,train \u001b[39m=\u001b[39;49m \u001b[39mTrue\u001b[39;49;00m)\n",
      "\u001b[1;32mc:\\Users\\User\\Desktop\\VS-CODE\\PYTHON\\BECE-Grade-Analysis\\Inferencial_DA.ipynb Cell 40'\u001b[0m in \u001b[0;36mtransformer\u001b[1;34m(column, encoder, train)\u001b[0m\n\u001b[0;32m      <a href='vscode-notebook-cell:/c%3A/Users/User/Desktop/VS-CODE/PYTHON/BECE-Grade-Analysis/Inferencial_DA.ipynb#ch0000049?line=2'>3</a>\u001b[0m \u001b[39m\"\"\"function returns an a dataframe and an encoder used in preprocessing if train given\"\"\"\u001b[39;00m\n\u001b[0;32m      <a href='vscode-notebook-cell:/c%3A/Users/User/Desktop/VS-CODE/PYTHON/BECE-Grade-Analysis/Inferencial_DA.ipynb#ch0000049?line=4'>5</a>\u001b[0m \u001b[39mif\u001b[39;00m train \u001b[39m==\u001b[39m \u001b[39mTrue\u001b[39;00m:\n\u001b[1;32m----> <a href='vscode-notebook-cell:/c%3A/Users/User/Desktop/VS-CODE/PYTHON/BECE-Grade-Analysis/Inferencial_DA.ipynb#ch0000049?line=5'>6</a>\u001b[0m      x \u001b[39m=\u001b[39m encoder\u001b[39m.\u001b[39;49mfit_transform(column)\n\u001b[0;32m      <a href='vscode-notebook-cell:/c%3A/Users/User/Desktop/VS-CODE/PYTHON/BECE-Grade-Analysis/Inferencial_DA.ipynb#ch0000049?line=6'>7</a>\u001b[0m \u001b[39melse\u001b[39;00m:\n\u001b[0;32m      <a href='vscode-notebook-cell:/c%3A/Users/User/Desktop/VS-CODE/PYTHON/BECE-Grade-Analysis/Inferencial_DA.ipynb#ch0000049?line=7'>8</a>\u001b[0m     \u001b[39mtry\u001b[39;00m:\n",
      "File \u001b[1;32m~\\anaconda3\\lib\\site-packages\\sklearn\\base.py:852\u001b[0m, in \u001b[0;36mTransformerMixin.fit_transform\u001b[1;34m(self, X, y, **fit_params)\u001b[0m\n\u001b[0;32m    <a href='file:///c%3A/Users/User/anaconda3/lib/site-packages/sklearn/base.py?line=847'>848</a>\u001b[0m \u001b[39m# non-optimized default implementation; override when a better\u001b[39;00m\n\u001b[0;32m    <a href='file:///c%3A/Users/User/anaconda3/lib/site-packages/sklearn/base.py?line=848'>849</a>\u001b[0m \u001b[39m# method is possible for a given clustering algorithm\u001b[39;00m\n\u001b[0;32m    <a href='file:///c%3A/Users/User/anaconda3/lib/site-packages/sklearn/base.py?line=849'>850</a>\u001b[0m \u001b[39mif\u001b[39;00m y \u001b[39mis\u001b[39;00m \u001b[39mNone\u001b[39;00m:\n\u001b[0;32m    <a href='file:///c%3A/Users/User/anaconda3/lib/site-packages/sklearn/base.py?line=850'>851</a>\u001b[0m     \u001b[39m# fit method of arity 1 (unsupervised transformation)\u001b[39;00m\n\u001b[1;32m--> <a href='file:///c%3A/Users/User/anaconda3/lib/site-packages/sklearn/base.py?line=851'>852</a>\u001b[0m     \u001b[39mreturn\u001b[39;00m \u001b[39mself\u001b[39;49m\u001b[39m.\u001b[39;49mfit(X, \u001b[39m*\u001b[39;49m\u001b[39m*\u001b[39;49mfit_params)\u001b[39m.\u001b[39mtransform(X)\n\u001b[0;32m    <a href='file:///c%3A/Users/User/anaconda3/lib/site-packages/sklearn/base.py?line=852'>853</a>\u001b[0m \u001b[39melse\u001b[39;00m:\n\u001b[0;32m    <a href='file:///c%3A/Users/User/anaconda3/lib/site-packages/sklearn/base.py?line=853'>854</a>\u001b[0m     \u001b[39m# fit method of arity 2 (supervised transformation)\u001b[39;00m\n\u001b[0;32m    <a href='file:///c%3A/Users/User/anaconda3/lib/site-packages/sklearn/base.py?line=854'>855</a>\u001b[0m     \u001b[39mreturn\u001b[39;00m \u001b[39mself\u001b[39m\u001b[39m.\u001b[39mfit(X, y, \u001b[39m*\u001b[39m\u001b[39m*\u001b[39mfit_params)\u001b[39m.\u001b[39mtransform(X)\n",
      "File \u001b[1;32m~\\anaconda3\\lib\\site-packages\\sklearn\\preprocessing\\_encoders.py:886\u001b[0m, in \u001b[0;36mOrdinalEncoder.fit\u001b[1;34m(self, X, y)\u001b[0m\n\u001b[0;32m    <a href='file:///c%3A/Users/User/anaconda3/lib/site-packages/sklearn/preprocessing/_encoders.py?line=878'>879</a>\u001b[0m     \u001b[39mraise\u001b[39;00m \u001b[39mTypeError\u001b[39;00m(\n\u001b[0;32m    <a href='file:///c%3A/Users/User/anaconda3/lib/site-packages/sklearn/preprocessing/_encoders.py?line=879'>880</a>\u001b[0m         \u001b[39m\"\u001b[39m\u001b[39munknown_value should only be set when \u001b[39m\u001b[39m\"\u001b[39m\n\u001b[0;32m    <a href='file:///c%3A/Users/User/anaconda3/lib/site-packages/sklearn/preprocessing/_encoders.py?line=880'>881</a>\u001b[0m         \u001b[39m\"\u001b[39m\u001b[39mhandle_unknown is \u001b[39m\u001b[39m'\u001b[39m\u001b[39muse_encoded_value\u001b[39m\u001b[39m'\u001b[39m\u001b[39m, \u001b[39m\u001b[39m\"\u001b[39m\n\u001b[0;32m    <a href='file:///c%3A/Users/User/anaconda3/lib/site-packages/sklearn/preprocessing/_encoders.py?line=881'>882</a>\u001b[0m         \u001b[39mf\u001b[39m\u001b[39m\"\u001b[39m\u001b[39mgot \u001b[39m\u001b[39m{\u001b[39;00m\u001b[39mself\u001b[39m\u001b[39m.\u001b[39munknown_value\u001b[39m}\u001b[39;00m\u001b[39m.\u001b[39m\u001b[39m\"\u001b[39m\n\u001b[0;32m    <a href='file:///c%3A/Users/User/anaconda3/lib/site-packages/sklearn/preprocessing/_encoders.py?line=882'>883</a>\u001b[0m     )\n\u001b[0;32m    <a href='file:///c%3A/Users/User/anaconda3/lib/site-packages/sklearn/preprocessing/_encoders.py?line=884'>885</a>\u001b[0m \u001b[39m# `_fit` will only raise an error when `self.handle_unknown=\"error\"`\u001b[39;00m\n\u001b[1;32m--> <a href='file:///c%3A/Users/User/anaconda3/lib/site-packages/sklearn/preprocessing/_encoders.py?line=885'>886</a>\u001b[0m \u001b[39mself\u001b[39;49m\u001b[39m.\u001b[39;49m_fit(X, handle_unknown\u001b[39m=\u001b[39;49m\u001b[39mself\u001b[39;49m\u001b[39m.\u001b[39;49mhandle_unknown, force_all_finite\u001b[39m=\u001b[39;49m\u001b[39m\"\u001b[39;49m\u001b[39mallow-nan\u001b[39;49m\u001b[39m\"\u001b[39;49m)\n\u001b[0;32m    <a href='file:///c%3A/Users/User/anaconda3/lib/site-packages/sklearn/preprocessing/_encoders.py?line=887'>888</a>\u001b[0m \u001b[39mif\u001b[39;00m \u001b[39mself\u001b[39m\u001b[39m.\u001b[39mhandle_unknown \u001b[39m==\u001b[39m \u001b[39m\"\u001b[39m\u001b[39muse_encoded_value\u001b[39m\u001b[39m\"\u001b[39m:\n\u001b[0;32m    <a href='file:///c%3A/Users/User/anaconda3/lib/site-packages/sklearn/preprocessing/_encoders.py?line=888'>889</a>\u001b[0m     \u001b[39mfor\u001b[39;00m feature_cats \u001b[39min\u001b[39;00m \u001b[39mself\u001b[39m\u001b[39m.\u001b[39mcategories_:\n",
      "File \u001b[1;32m~\\anaconda3\\lib\\site-packages\\sklearn\\preprocessing\\_encoders.py:84\u001b[0m, in \u001b[0;36m_BaseEncoder._fit\u001b[1;34m(self, X, handle_unknown, force_all_finite)\u001b[0m\n\u001b[0;32m     <a href='file:///c%3A/Users/User/anaconda3/lib/site-packages/sklearn/preprocessing/_encoders.py?line=81'>82</a>\u001b[0m \u001b[39mif\u001b[39;00m \u001b[39mself\u001b[39m\u001b[39m.\u001b[39mcategories \u001b[39m!=\u001b[39m \u001b[39m\"\u001b[39m\u001b[39mauto\u001b[39m\u001b[39m\"\u001b[39m:\n\u001b[0;32m     <a href='file:///c%3A/Users/User/anaconda3/lib/site-packages/sklearn/preprocessing/_encoders.py?line=82'>83</a>\u001b[0m     \u001b[39mif\u001b[39;00m \u001b[39mlen\u001b[39m(\u001b[39mself\u001b[39m\u001b[39m.\u001b[39mcategories) \u001b[39m!=\u001b[39m n_features:\n\u001b[1;32m---> <a href='file:///c%3A/Users/User/anaconda3/lib/site-packages/sklearn/preprocessing/_encoders.py?line=83'>84</a>\u001b[0m         \u001b[39mraise\u001b[39;00m \u001b[39mValueError\u001b[39;00m(\n\u001b[0;32m     <a href='file:///c%3A/Users/User/anaconda3/lib/site-packages/sklearn/preprocessing/_encoders.py?line=84'>85</a>\u001b[0m             \u001b[39m\"\u001b[39m\u001b[39mShape mismatch: if categories is an array,\u001b[39m\u001b[39m\"\u001b[39m\n\u001b[0;32m     <a href='file:///c%3A/Users/User/anaconda3/lib/site-packages/sklearn/preprocessing/_encoders.py?line=85'>86</a>\u001b[0m             \u001b[39m\"\u001b[39m\u001b[39m it has to be of shape (n_features,).\u001b[39m\u001b[39m\"\u001b[39m\n\u001b[0;32m     <a href='file:///c%3A/Users/User/anaconda3/lib/site-packages/sklearn/preprocessing/_encoders.py?line=86'>87</a>\u001b[0m         )\n\u001b[0;32m     <a href='file:///c%3A/Users/User/anaconda3/lib/site-packages/sklearn/preprocessing/_encoders.py?line=88'>89</a>\u001b[0m \u001b[39mself\u001b[39m\u001b[39m.\u001b[39mcategories_ \u001b[39m=\u001b[39m []\n\u001b[0;32m     <a href='file:///c%3A/Users/User/anaconda3/lib/site-packages/sklearn/preprocessing/_encoders.py?line=90'>91</a>\u001b[0m \u001b[39mfor\u001b[39;00m i \u001b[39min\u001b[39;00m \u001b[39mrange\u001b[39m(n_features):\n",
      "\u001b[1;31mValueError\u001b[0m: Shape mismatch: if categories is an array, it has to be of shape (n_features,)."
     ]
    }
   ],
   "source": [
    "train,oe = transformer(X_train.select_dtypes(\"O\"),encoder = oe,train = True)\n",
    "test = transformer(X_test.select_dtypes(\"O\"),encoder = enc,train = False)"
   ]
  },
  {
   "cell_type": "code",
   "execution_count": 594,
   "metadata": {},
   "outputs": [
    {
     "data": {
      "text/html": [
       "<div>\n",
       "<style scoped>\n",
       "    .dataframe tbody tr th:only-of-type {\n",
       "        vertical-align: middle;\n",
       "    }\n",
       "\n",
       "    .dataframe tbody tr th {\n",
       "        vertical-align: top;\n",
       "    }\n",
       "\n",
       "    .dataframe thead th {\n",
       "        text-align: right;\n",
       "    }\n",
       "</style>\n",
       "<table border=\"1\" class=\"dataframe\">\n",
       "  <thead>\n",
       "    <tr style=\"text-align: right;\">\n",
       "      <th></th>\n",
       "      <th>schtype</th>\n",
       "      <th>gender</th>\n",
       "      <th>circuit</th>\n",
       "    </tr>\n",
       "  </thead>\n",
       "  <tbody>\n",
       "    <tr>\n",
       "      <th>0</th>\n",
       "      <td>1</td>\n",
       "      <td>1</td>\n",
       "      <td>3</td>\n",
       "    </tr>\n",
       "    <tr>\n",
       "      <th>1</th>\n",
       "      <td>1</td>\n",
       "      <td>1</td>\n",
       "      <td>4</td>\n",
       "    </tr>\n",
       "    <tr>\n",
       "      <th>2</th>\n",
       "      <td>1</td>\n",
       "      <td>1</td>\n",
       "      <td>4</td>\n",
       "    </tr>\n",
       "    <tr>\n",
       "      <th>3</th>\n",
       "      <td>1</td>\n",
       "      <td>1</td>\n",
       "      <td>3</td>\n",
       "    </tr>\n",
       "    <tr>\n",
       "      <th>4</th>\n",
       "      <td>0</td>\n",
       "      <td>1</td>\n",
       "      <td>2</td>\n",
       "    </tr>\n",
       "    <tr>\n",
       "      <th>...</th>\n",
       "      <td>...</td>\n",
       "      <td>...</td>\n",
       "      <td>...</td>\n",
       "    </tr>\n",
       "    <tr>\n",
       "      <th>2195</th>\n",
       "      <td>1</td>\n",
       "      <td>0</td>\n",
       "      <td>2</td>\n",
       "    </tr>\n",
       "    <tr>\n",
       "      <th>2196</th>\n",
       "      <td>0</td>\n",
       "      <td>0</td>\n",
       "      <td>1</td>\n",
       "    </tr>\n",
       "    <tr>\n",
       "      <th>2197</th>\n",
       "      <td>1</td>\n",
       "      <td>1</td>\n",
       "      <td>1</td>\n",
       "    </tr>\n",
       "    <tr>\n",
       "      <th>2198</th>\n",
       "      <td>1</td>\n",
       "      <td>0</td>\n",
       "      <td>6</td>\n",
       "    </tr>\n",
       "    <tr>\n",
       "      <th>2199</th>\n",
       "      <td>0</td>\n",
       "      <td>0</td>\n",
       "      <td>4</td>\n",
       "    </tr>\n",
       "  </tbody>\n",
       "</table>\n",
       "<p>2200 rows × 3 columns</p>\n",
       "</div>"
      ],
      "text/plain": [
       "      schtype  gender  circuit\n",
       "0           1       1        3\n",
       "1           1       1        4\n",
       "2           1       1        4\n",
       "3           1       1        3\n",
       "4           0       1        2\n",
       "...       ...     ...      ...\n",
       "2195        1       0        2\n",
       "2196        0       0        1\n",
       "2197        1       1        1\n",
       "2198        1       0        6\n",
       "2199        0       0        4\n",
       "\n",
       "[2200 rows x 3 columns]"
      ]
     },
     "execution_count": 594,
     "metadata": {},
     "output_type": "execute_result"
    }
   ],
   "source": [
    "train"
   ]
  },
  {
   "cell_type": "code",
   "execution_count": 595,
   "metadata": {},
   "outputs": [
    {
     "data": {
      "text/html": [
       "<div>\n",
       "<style scoped>\n",
       "    .dataframe tbody tr th:only-of-type {\n",
       "        vertical-align: middle;\n",
       "    }\n",
       "\n",
       "    .dataframe tbody tr th {\n",
       "        vertical-align: top;\n",
       "    }\n",
       "\n",
       "    .dataframe thead th {\n",
       "        text-align: right;\n",
       "    }\n",
       "</style>\n",
       "<table border=\"1\" class=\"dataframe\">\n",
       "  <thead>\n",
       "    <tr style=\"text-align: right;\">\n",
       "      <th></th>\n",
       "      <th>schtype</th>\n",
       "      <th>gender</th>\n",
       "      <th>circuit</th>\n",
       "    </tr>\n",
       "  </thead>\n",
       "  <tbody>\n",
       "    <tr>\n",
       "      <th>0</th>\n",
       "      <td>1</td>\n",
       "      <td>1</td>\n",
       "      <td>3</td>\n",
       "    </tr>\n",
       "    <tr>\n",
       "      <th>1</th>\n",
       "      <td>1</td>\n",
       "      <td>1</td>\n",
       "      <td>4</td>\n",
       "    </tr>\n",
       "    <tr>\n",
       "      <th>2</th>\n",
       "      <td>1</td>\n",
       "      <td>1</td>\n",
       "      <td>4</td>\n",
       "    </tr>\n",
       "    <tr>\n",
       "      <th>3</th>\n",
       "      <td>1</td>\n",
       "      <td>1</td>\n",
       "      <td>3</td>\n",
       "    </tr>\n",
       "    <tr>\n",
       "      <th>4</th>\n",
       "      <td>0</td>\n",
       "      <td>1</td>\n",
       "      <td>2</td>\n",
       "    </tr>\n",
       "    <tr>\n",
       "      <th>...</th>\n",
       "      <td>...</td>\n",
       "      <td>...</td>\n",
       "      <td>...</td>\n",
       "    </tr>\n",
       "    <tr>\n",
       "      <th>2195</th>\n",
       "      <td>1</td>\n",
       "      <td>0</td>\n",
       "      <td>2</td>\n",
       "    </tr>\n",
       "    <tr>\n",
       "      <th>2196</th>\n",
       "      <td>0</td>\n",
       "      <td>0</td>\n",
       "      <td>1</td>\n",
       "    </tr>\n",
       "    <tr>\n",
       "      <th>2197</th>\n",
       "      <td>1</td>\n",
       "      <td>1</td>\n",
       "      <td>1</td>\n",
       "    </tr>\n",
       "    <tr>\n",
       "      <th>2198</th>\n",
       "      <td>1</td>\n",
       "      <td>0</td>\n",
       "      <td>6</td>\n",
       "    </tr>\n",
       "    <tr>\n",
       "      <th>2199</th>\n",
       "      <td>0</td>\n",
       "      <td>0</td>\n",
       "      <td>4</td>\n",
       "    </tr>\n",
       "  </tbody>\n",
       "</table>\n",
       "<p>2200 rows × 3 columns</p>\n",
       "</div>"
      ],
      "text/plain": [
       "      schtype  gender  circuit\n",
       "0           1       1        3\n",
       "1           1       1        4\n",
       "2           1       1        4\n",
       "3           1       1        3\n",
       "4           0       1        2\n",
       "...       ...     ...      ...\n",
       "2195        1       0        2\n",
       "2196        0       0        1\n",
       "2197        1       1        1\n",
       "2198        1       0        6\n",
       "2199        0       0        4\n",
       "\n",
       "[2200 rows x 3 columns]"
      ]
     },
     "execution_count": 595,
     "metadata": {},
     "output_type": "execute_result"
    }
   ],
   "source": [
    "test"
   ]
  },
  {
   "cell_type": "code",
   "execution_count": 487,
   "metadata": {},
   "outputs": [
    {
     "data": {
      "text/plain": [
       "array(['PRIVATE', 'PUBLIC'], dtype=object)"
      ]
     },
     "execution_count": 487,
     "metadata": {},
     "output_type": "execute_result"
    }
   ],
   "source": [
    "df['schtype'].unique()"
   ]
  },
  {
   "cell_type": "markdown",
   "metadata": {},
   "source": [
    "## Feature Importance"
   ]
  },
  {
   "cell_type": "code",
   "execution_count": 520,
   "metadata": {},
   "outputs": [
    {
     "data": {
      "text/plain": [
       "RandomForestClassifier(criterion='entropy', n_estimators=400)"
      ]
     },
     "execution_count": 520,
     "metadata": {},
     "output_type": "execute_result"
    }
   ],
   "source": [
    "model = RandomForestClassifier(n_estimators = 400,criterion = 'entropy')\n",
    "model.fit(X_train_oe,y_train)"
   ]
  },
  {
   "cell_type": "code",
   "execution_count": 521,
   "metadata": {},
   "outputs": [
    {
     "data": {
      "text/plain": [
       "array([0.0909287 , 0.09822686, 0.07185445, 0.07381299, 0.06609019,\n",
       "       0.07697045, 0.09655512, 0.02743173, 0.07908346, 0.03215203,\n",
       "       0.09296123, 0.1939328 ])"
      ]
     },
     "execution_count": 521,
     "metadata": {},
     "output_type": "execute_result"
    }
   ],
   "source": [
    "model.feature_importances_"
   ]
  },
  {
   "cell_type": "code",
   "execution_count": 531,
   "metadata": {},
   "outputs": [
    {
     "data": {
      "image/png": "[encoded data removed]",
      "text/plain": [
       "<Figure size 864x720 with 1 Axes>"
      ]
     },
     "metadata": {
      "needs_background": "dark"
     },
     "output_type": "display_data"
    }
   ],
   "source": [
    "plt.figure(figsize = (12,10))\n",
    "plt.bar(X_train_oe.columns,model.feature_importances_)\n",
    "plt.xticks(rotation = 45,color ='white');\n",
    "plt.yticks(color = 'white')\n",
    "plt.title(\"Feature Importance\",color = 'white');"
   ]
  },
  {
   "cell_type": "code",
   "execution_count": null,
   "metadata": {},
   "outputs": [],
   "source": [
    "model.score()"
   ]
  },
  {
   "cell_type": "code",
   "execution_count": null,
   "metadata": {},
   "outputs": [],
   "source": []
  }
 ],
 "metadata": {
  "interpreter": {
   "hash": "8fac594bfae6525c0c41b4041d2d72effa188cc8ead05f81b1fab2bb098927fb"
  },
  "kernelspec": {
   "display_name": "Python 3.8.8 ('base')",
   "language": "python",
   "name": "python3"
  },
  "language_info": {
   "codemirror_mode": {
    "name": "ipython",
    "version": 3
   },
   "file_extension": ".py",
   "mimetype": "text/x-python",
   "name": "python",
   "nbconvert_exporter": "python",
   "pygments_lexer": "ipython3",
   "version": "3.8.8"
  },
  "orig_nbformat": 4
 },
 "nbformat": 4,
 "nbformat_minor": 2
}
