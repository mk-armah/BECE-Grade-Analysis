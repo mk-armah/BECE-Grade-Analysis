{
  "nbformat": 4,
  "nbformat_minor": 0,
  "metadata": {
    "colab": {
      "name": "NeuralNet.ipynb",
      "provenance": [],
      "authorship_tag": "ABX9TyMTzU2OahSGF1dNxRnlFbj9",
      "include_colab_link": true
    },
    "kernelspec": {
      "name": "python3",
      "display_name": "Python 3"
    },
    "language_info": {
      "name": "python"
    }
  },
  "cells": [
    {
      "cell_type": "markdown",
      "metadata": {
        "id": "view-in-github",
        "colab_type": "text"
      },
      "source": [
        "<a href=\"https://colab.research.google.com/github/mk-armah/BECE-Grade-Analysis/blob/master/NeuralNet.ipynb\" target=\"_parent\"><img src=\"https://colab.research.google.com/assets/colab-badge.svg\" alt=\"Open In Colab\"/></a>"
      ]
    },
    {
      "cell_type": "code",
      "execution_count": 234,
      "metadata": {
        "id": "Izp9dzh3cTEc"
      },
      "outputs": [],
      "source": [
        "import tensorflow as tf\n",
        "import numpy as np\n",
        "import pandas as pd\n",
        "\n",
        "import matplotlib.pyplot as plt\n",
        "import seaborn as sns\n",
        "import os\n",
        "from sklearn.preprocessing import StandardScaler\n",
        "\n",
        "\n",
        "from sklearn.model_selection import train_test_split\n",
        "\n",
        "tf.random.set_seed(111)"
      ]
    },
    {
      "cell_type": "code",
      "source": [
        "! git clone https://github.com/mk-armah/BECE-Grade-Analysis"
      ],
      "metadata": {
        "id": "XNZA9QxVdBiK",
        "colab": {
          "base_uri": "https://localhost:8080/"
        },
        "outputId": "f1bc27b5-4422-45b5-c11f-54e9dfb43961"
      },
      "execution_count": 235,
      "outputs": [
        {
          "output_type": "stream",
          "name": "stdout",
          "text": [
            "fatal: destination path 'BECE-Grade-Analysis' already exists and is not an empty directory.\n"
          ]
        }
      ]
    },
    {
      "cell_type": "code",
      "source": [
        "os.chdir(\"/content/BECE-Grade-Analysis\") \n",
        "os.getcwd()"
      ],
      "metadata": {
        "colab": {
          "base_uri": "https://localhost:8080/",
          "height": 36
        },
        "id": "71QplI-ygWgU",
        "outputId": "29acd636-037c-4407-c975-4bc734843f1a"
      },
      "execution_count": 236,
      "outputs": [
        {
          "output_type": "execute_result",
          "data": {
            "text/plain": [
              "'/content/BECE-Grade-Analysis'"
            ],
            "application/vnd.google.colaboratory.intrinsic+json": {
              "type": "string"
            }
          },
          "metadata": {},
          "execution_count": 236
        }
      ]
    },
    {
      "cell_type": "code",
      "source": [
        "df = pd.read_csv(\"cleaned_data_v2.xlsx\")\n",
        "df.head()"
      ],
      "metadata": {
        "id": "KFdYNxk1dJ9z",
        "colab": {
          "base_uri": "https://localhost:8080/",
          "height": 206
        },
        "outputId": "30a4de8a-2c88-4fdb-8f5c-014e0588c80b"
      },
      "execution_count": 237,
      "outputs": [
        {
          "output_type": "execute_result",
          "data": {
            "text/plain": [
              "   Unnamed: 0  i_c_t  schtype   age gender      circuit  c_record  mock  \\\n",
              "0           0      1  PRIVATE  15.0      M   SALTPOND B        38  85.0   \n",
              "1           1      4  PRIVATE  15.0      F   SALTPOND B        36  67.0   \n",
              "2           2      5   PUBLIC  19.0      M  MANKESSIM A        38  67.0   \n",
              "3           3      2  PRIVATE  16.0      M   SALTPOND B        38  83.0   \n",
              "4           4      6   PUBLIC  17.0      M    MDOMINASE        37  65.0   \n",
              "\n",
              "  age_category  \n",
              "0      regular  \n",
              "1      regular  \n",
              "2  high school  \n",
              "3      regular  \n",
              "4     tertiary  "
            ],
            "text/html": [
              "\n",
              "  <div id=\"df-a9d8dd8a-3311-490c-b8e1-bfeca0d620ed\">\n",
              "    <div class=\"colab-df-container\">\n",
              "      <div>\n",
              "<style scoped>\n",
              "    .dataframe tbody tr th:only-of-type {\n",
              "        vertical-align: middle;\n",
              "    }\n",
              "\n",
              "    .dataframe tbody tr th {\n",
              "        vertical-align: top;\n",
              "    }\n",
              "\n",
              "    .dataframe thead th {\n",
              "        text-align: right;\n",
              "    }\n",
              "</style>\n",
              "<table border=\"1\" class=\"dataframe\">\n",
              "  <thead>\n",
              "    <tr style=\"text-align: right;\">\n",
              "      <th></th>\n",
              "      <th>Unnamed: 0</th>\n",
              "      <th>i_c_t</th>\n",
              "      <th>schtype</th>\n",
              "      <th>age</th>\n",
              "      <th>gender</th>\n",
              "      <th>circuit</th>\n",
              "      <th>c_record</th>\n",
              "      <th>mock</th>\n",
              "      <th>age_category</th>\n",
              "    </tr>\n",
              "  </thead>\n",
              "  <tbody>\n",
              "    <tr>\n",
              "      <th>0</th>\n",
              "      <td>0</td>\n",
              "      <td>1</td>\n",
              "      <td>PRIVATE</td>\n",
              "      <td>15.0</td>\n",
              "      <td>M</td>\n",
              "      <td>SALTPOND B</td>\n",
              "      <td>38</td>\n",
              "      <td>85.0</td>\n",
              "      <td>regular</td>\n",
              "    </tr>\n",
              "    <tr>\n",
              "      <th>1</th>\n",
              "      <td>1</td>\n",
              "      <td>4</td>\n",
              "      <td>PRIVATE</td>\n",
              "      <td>15.0</td>\n",
              "      <td>F</td>\n",
              "      <td>SALTPOND B</td>\n",
              "      <td>36</td>\n",
              "      <td>67.0</td>\n",
              "      <td>regular</td>\n",
              "    </tr>\n",
              "    <tr>\n",
              "      <th>2</th>\n",
              "      <td>2</td>\n",
              "      <td>5</td>\n",
              "      <td>PUBLIC</td>\n",
              "      <td>19.0</td>\n",
              "      <td>M</td>\n",
              "      <td>MANKESSIM A</td>\n",
              "      <td>38</td>\n",
              "      <td>67.0</td>\n",
              "      <td>high school</td>\n",
              "    </tr>\n",
              "    <tr>\n",
              "      <th>3</th>\n",
              "      <td>3</td>\n",
              "      <td>2</td>\n",
              "      <td>PRIVATE</td>\n",
              "      <td>16.0</td>\n",
              "      <td>M</td>\n",
              "      <td>SALTPOND B</td>\n",
              "      <td>38</td>\n",
              "      <td>83.0</td>\n",
              "      <td>regular</td>\n",
              "    </tr>\n",
              "    <tr>\n",
              "      <th>4</th>\n",
              "      <td>4</td>\n",
              "      <td>6</td>\n",
              "      <td>PUBLIC</td>\n",
              "      <td>17.0</td>\n",
              "      <td>M</td>\n",
              "      <td>MDOMINASE</td>\n",
              "      <td>37</td>\n",
              "      <td>65.0</td>\n",
              "      <td>tertiary</td>\n",
              "    </tr>\n",
              "  </tbody>\n",
              "</table>\n",
              "</div>\n",
              "      <button class=\"colab-df-convert\" onclick=\"convertToInteractive('df-a9d8dd8a-3311-490c-b8e1-bfeca0d620ed')\"\n",
              "              title=\"Convert this dataframe to an interactive table.\"\n",
              "              style=\"display:none;\">\n",
              "        \n",
              "  <svg xmlns=\"http://www.w3.org/2000/svg\" height=\"24px\"viewBox=\"0 0 24 24\"\n",
              "       width=\"24px\">\n",
              "    <path d=\"M0 0h24v24H0V0z\" fill=\"none\"/>\n",
              "    <path d=\"M18.56 5.44l.94 2.06.94-2.06 2.06-.94-2.06-.94-.94-2.06-.94 2.06-2.06.94zm-11 1L8.5 8.5l.94-2.06 2.06-.94-2.06-.94L8.5 2.5l-.94 2.06-2.06.94zm10 10l.94 2.06.94-2.06 2.06-.94-2.06-.94-.94-2.06-.94 2.06-2.06.94z\"/><path d=\"M17.41 7.96l-1.37-1.37c-.4-.4-.92-.59-1.43-.59-.52 0-1.04.2-1.43.59L10.3 9.45l-7.72 7.72c-.78.78-.78 2.05 0 2.83L4 21.41c.39.39.9.59 1.41.59.51 0 1.02-.2 1.41-.59l7.78-7.78 2.81-2.81c.8-.78.8-2.07 0-2.86zM5.41 20L4 18.59l7.72-7.72 1.47 1.35L5.41 20z\"/>\n",
              "  </svg>\n",
              "      </button>\n",
              "      \n",
              "  <style>\n",
              "    .colab-df-container {\n",
              "      display:flex;\n",
              "      flex-wrap:wrap;\n",
              "      gap: 12px;\n",
              "    }\n",
              "\n",
              "    .colab-df-convert {\n",
              "      background-color: #E8F0FE;\n",
              "      border: none;\n",
              "      border-radius: 50%;\n",
              "      cursor: pointer;\n",
              "      display: none;\n",
              "      fill: #1967D2;\n",
              "      height: 32px;\n",
              "      padding: 0 0 0 0;\n",
              "      width: 32px;\n",
              "    }\n",
              "\n",
              "    .colab-df-convert:hover {\n",
              "      background-color: #E2EBFA;\n",
              "      box-shadow: 0px 1px 2px rgba(60, 64, 67, 0.3), 0px 1px 3px 1px rgba(60, 64, 67, 0.15);\n",
              "      fill: #174EA6;\n",
              "    }\n",
              "\n",
              "    [theme=dark] .colab-df-convert {\n",
              "      background-color: #3B4455;\n",
              "      fill: #D2E3FC;\n",
              "    }\n",
              "\n",
              "    [theme=dark] .colab-df-convert:hover {\n",
              "      background-color: #434B5C;\n",
              "      box-shadow: 0px 1px 3px 1px rgba(0, 0, 0, 0.15);\n",
              "      filter: drop-shadow(0px 1px 2px rgba(0, 0, 0, 0.3));\n",
              "      fill: #FFFFFF;\n",
              "    }\n",
              "  </style>\n",
              "\n",
              "      <script>\n",
              "        const buttonEl =\n",
              "          document.querySelector('#df-a9d8dd8a-3311-490c-b8e1-bfeca0d620ed button.colab-df-convert');\n",
              "        buttonEl.style.display =\n",
              "          google.colab.kernel.accessAllowed ? 'block' : 'none';\n",
              "\n",
              "        async function convertToInteractive(key) {\n",
              "          const element = document.querySelector('#df-a9d8dd8a-3311-490c-b8e1-bfeca0d620ed');\n",
              "          const dataTable =\n",
              "            await google.colab.kernel.invokeFunction('convertToInteractive',\n",
              "                                                     [key], {});\n",
              "          if (!dataTable) return;\n",
              "\n",
              "          const docLinkHtml = 'Like what you see? Visit the ' +\n",
              "            '<a target=\"_blank\" href=https://colab.research.google.com/notebooks/data_table.ipynb>data table notebook</a>'\n",
              "            + ' to learn more about interactive tables.';\n",
              "          element.innerHTML = '';\n",
              "          dataTable['output_type'] = 'display_data';\n",
              "          await google.colab.output.renderOutput(dataTable, element);\n",
              "          const docLink = document.createElement('div');\n",
              "          docLink.innerHTML = docLinkHtml;\n",
              "          element.appendChild(docLink);\n",
              "        }\n",
              "      </script>\n",
              "    </div>\n",
              "  </div>\n",
              "  "
            ]
          },
          "metadata": {},
          "execution_count": 237
        }
      ]
    },
    {
      "cell_type": "code",
      "source": [
        "df = df.drop(df.iloc[:,[0]].columns,axis = 1) #drop unnamed: 0 column"
      ],
      "metadata": {
        "id": "b8dMHW1agK0F"
      },
      "execution_count": 238,
      "outputs": []
    },
    {
      "cell_type": "code",
      "source": [
        "df.isna().sum()"
      ],
      "metadata": {
        "colab": {
          "base_uri": "https://localhost:8080/"
        },
        "id": "oOl4ZhpN7MDS",
        "outputId": "ce55f9f6-86f7-4671-fab7-20c97fe28c0f"
      },
      "execution_count": 239,
      "outputs": [
        {
          "output_type": "execute_result",
          "data": {
            "text/plain": [
              "i_c_t           0\n",
              "schtype         0\n",
              "age             0\n",
              "gender          0\n",
              "circuit         0\n",
              "c_record        0\n",
              "mock            0\n",
              "age_category    0\n",
              "dtype: int64"
            ]
          },
          "metadata": {},
          "execution_count": 239
        }
      ]
    },
    {
      "cell_type": "code",
      "source": [
        "df.select_dtypes(['object']).columns"
      ],
      "metadata": {
        "id": "yReYYkK0KD9-",
        "outputId": "4e1abb30-0ee0-4d09-ce23-6bd1942da73a",
        "colab": {
          "base_uri": "https://localhost:8080/"
        }
      },
      "execution_count": 240,
      "outputs": [
        {
          "output_type": "execute_result",
          "data": {
            "text/plain": [
              "Index(['schtype', 'gender', 'circuit', 'age_category'], dtype='object')"
            ]
          },
          "metadata": {},
          "execution_count": 240
        }
      ]
    },
    {
      "cell_type": "code",
      "source": [
        "categories = df.select_dtypes(['object']).columns\n",
        "plt.figure(figsize=(14,10))\n",
        "for i in range(1,len(categories)+1):\n",
        "  plt.subplot(2,2,i)\n",
        "  df[categories[i-1]].value_counts().plot(kind = 'bar')\n",
        "  plt.title(categories[i-1]);"
      ],
      "metadata": {
        "colab": {
          "base_uri": "https://localhost:8080/",
          "height": 667
        },
        "id": "2S-g17qN7Zxw",
        "outputId": "2b0ec031-d63c-4f41-e839-df26a74ea9ec"
      },
      "execution_count": 241,
      "outputs": [
        {
          "output_type": "display_data",
          "data": {
            "text/plain": [
              "<Figure size 1008x720 with 4 Axes>"
            ],
            "image/png": "[encoded data removed]"
          },
          "metadata": {
            "needs_background": "light"
          }
        }
      ]
    },
    {
      "cell_type": "code",
      "source": [
        "sns.catplot(x = 'i_c_t',data = df,kind = 'count') #class imbalance"
      ],
      "metadata": {
        "id": "6uP-UCFHJZg1",
        "outputId": "51e9524e-2036-4cab-8579-7e9f7c5a0110",
        "colab": {
          "base_uri": "https://localhost:8080/",
          "height": 386
        }
      },
      "execution_count": 242,
      "outputs": [
        {
          "output_type": "execute_result",
          "data": {
            "text/plain": [
              "<seaborn.axisgrid.FacetGrid at 0x7f616cea9f90>"
            ]
          },
          "metadata": {},
          "execution_count": 242
        },
        {
          "output_type": "display_data",
          "data": {
            "text/plain": [
              "<Figure size 360x360 with 1 Axes>"
            ],
            "image/png": "[encoded data removed]"
          },
          "metadata": {
            "needs_background": "light"
          }
        }
      ]
    },
    {
      "cell_type": "code",
      "source": [
        "def encoder(column):\n",
        "  \"\"\"convert categories to encodings\"\"\"\n",
        "  data={}\n",
        "  for enum,i in enumerate(list(df[column].value_counts().index)):\n",
        "    data[i] = enum\n",
        "  return data"
      ],
      "metadata": {
        "id": "VCPmE1md9Gfs"
      },
      "execution_count": 243,
      "outputs": []
    },
    {
      "cell_type": "code",
      "source": [
        "for i in list(df.select_dtypes(\"O\").columns):\n",
        "  df[i] = df[i].map(encoder(i))"
      ],
      "metadata": {
        "id": "gmGlynRT7JyR"
      },
      "execution_count": 244,
      "outputs": []
    },
    {
      "cell_type": "code",
      "source": [
        "df.head()"
      ],
      "metadata": {
        "colab": {
          "base_uri": "https://localhost:8080/",
          "height": 206
        },
        "id": "kdplHVaH8-O6",
        "outputId": "11a75741-c13c-4f6d-f088-d65de671b8a6"
      },
      "execution_count": 245,
      "outputs": [
        {
          "output_type": "execute_result",
          "data": {
            "text/plain": [
              "   i_c_t  schtype   age  gender  circuit  c_record  mock  age_category\n",
              "0      1        1  15.0       1        5        38  85.0             0\n",
              "1      4        1  15.0       0        5        36  67.0             0\n",
              "2      5        0  19.0       1        0        38  67.0             2\n",
              "3      2        1  16.0       1        5        38  83.0             0\n",
              "4      6        0  17.0       1        4        37  65.0             1"
            ],
            "text/html": [
              "\n",
              "  <div id=\"df-6bdac975-431c-4adf-b2d7-e70dd78b9d7b\">\n",
              "    <div class=\"colab-df-container\">\n",
              "      <div>\n",
              "<style scoped>\n",
              "    .dataframe tbody tr th:only-of-type {\n",
              "        vertical-align: middle;\n",
              "    }\n",
              "\n",
              "    .dataframe tbody tr th {\n",
              "        vertical-align: top;\n",
              "    }\n",
              "\n",
              "    .dataframe thead th {\n",
              "        text-align: right;\n",
              "    }\n",
              "</style>\n",
              "<table border=\"1\" class=\"dataframe\">\n",
              "  <thead>\n",
              "    <tr style=\"text-align: right;\">\n",
              "      <th></th>\n",
              "      <th>i_c_t</th>\n",
              "      <th>schtype</th>\n",
              "      <th>age</th>\n",
              "      <th>gender</th>\n",
              "      <th>circuit</th>\n",
              "      <th>c_record</th>\n",
              "      <th>mock</th>\n",
              "      <th>age_category</th>\n",
              "    </tr>\n",
              "  </thead>\n",
              "  <tbody>\n",
              "    <tr>\n",
              "      <th>0</th>\n",
              "      <td>1</td>\n",
              "      <td>1</td>\n",
              "      <td>15.0</td>\n",
              "      <td>1</td>\n",
              "      <td>5</td>\n",
              "      <td>38</td>\n",
              "      <td>85.0</td>\n",
              "      <td>0</td>\n",
              "    </tr>\n",
              "    <tr>\n",
              "      <th>1</th>\n",
              "      <td>4</td>\n",
              "      <td>1</td>\n",
              "      <td>15.0</td>\n",
              "      <td>0</td>\n",
              "      <td>5</td>\n",
              "      <td>36</td>\n",
              "      <td>67.0</td>\n",
              "      <td>0</td>\n",
              "    </tr>\n",
              "    <tr>\n",
              "      <th>2</th>\n",
              "      <td>5</td>\n",
              "      <td>0</td>\n",
              "      <td>19.0</td>\n",
              "      <td>1</td>\n",
              "      <td>0</td>\n",
              "      <td>38</td>\n",
              "      <td>67.0</td>\n",
              "      <td>2</td>\n",
              "    </tr>\n",
              "    <tr>\n",
              "      <th>3</th>\n",
              "      <td>2</td>\n",
              "      <td>1</td>\n",
              "      <td>16.0</td>\n",
              "      <td>1</td>\n",
              "      <td>5</td>\n",
              "      <td>38</td>\n",
              "      <td>83.0</td>\n",
              "      <td>0</td>\n",
              "    </tr>\n",
              "    <tr>\n",
              "      <th>4</th>\n",
              "      <td>6</td>\n",
              "      <td>0</td>\n",
              "      <td>17.0</td>\n",
              "      <td>1</td>\n",
              "      <td>4</td>\n",
              "      <td>37</td>\n",
              "      <td>65.0</td>\n",
              "      <td>1</td>\n",
              "    </tr>\n",
              "  </tbody>\n",
              "</table>\n",
              "</div>\n",
              "      <button class=\"colab-df-convert\" onclick=\"convertToInteractive('df-6bdac975-431c-4adf-b2d7-e70dd78b9d7b')\"\n",
              "              title=\"Convert this dataframe to an interactive table.\"\n",
              "              style=\"display:none;\">\n",
              "        \n",
              "  <svg xmlns=\"http://www.w3.org/2000/svg\" height=\"24px\"viewBox=\"0 0 24 24\"\n",
              "       width=\"24px\">\n",
              "    <path d=\"M0 0h24v24H0V0z\" fill=\"none\"/>\n",
              "    <path d=\"M18.56 5.44l.94 2.06.94-2.06 2.06-.94-2.06-.94-.94-2.06-.94 2.06-2.06.94zm-11 1L8.5 8.5l.94-2.06 2.06-.94-2.06-.94L8.5 2.5l-.94 2.06-2.06.94zm10 10l.94 2.06.94-2.06 2.06-.94-2.06-.94-.94-2.06-.94 2.06-2.06.94z\"/><path d=\"M17.41 7.96l-1.37-1.37c-.4-.4-.92-.59-1.43-.59-.52 0-1.04.2-1.43.59L10.3 9.45l-7.72 7.72c-.78.78-.78 2.05 0 2.83L4 21.41c.39.39.9.59 1.41.59.51 0 1.02-.2 1.41-.59l7.78-7.78 2.81-2.81c.8-.78.8-2.07 0-2.86zM5.41 20L4 18.59l7.72-7.72 1.47 1.35L5.41 20z\"/>\n",
              "  </svg>\n",
              "      </button>\n",
              "      \n",
              "  <style>\n",
              "    .colab-df-container {\n",
              "      display:flex;\n",
              "      flex-wrap:wrap;\n",
              "      gap: 12px;\n",
              "    }\n",
              "\n",
              "    .colab-df-convert {\n",
              "      background-color: #E8F0FE;\n",
              "      border: none;\n",
              "      border-radius: 50%;\n",
              "      cursor: pointer;\n",
              "      display: none;\n",
              "      fill: #1967D2;\n",
              "      height: 32px;\n",
              "      padding: 0 0 0 0;\n",
              "      width: 32px;\n",
              "    }\n",
              "\n",
              "    .colab-df-convert:hover {\n",
              "      background-color: #E2EBFA;\n",
              "      box-shadow: 0px 1px 2px rgba(60, 64, 67, 0.3), 0px 1px 3px 1px rgba(60, 64, 67, 0.15);\n",
              "      fill: #174EA6;\n",
              "    }\n",
              "\n",
              "    [theme=dark] .colab-df-convert {\n",
              "      background-color: #3B4455;\n",
              "      fill: #D2E3FC;\n",
              "    }\n",
              "\n",
              "    [theme=dark] .colab-df-convert:hover {\n",
              "      background-color: #434B5C;\n",
              "      box-shadow: 0px 1px 3px 1px rgba(0, 0, 0, 0.15);\n",
              "      filter: drop-shadow(0px 1px 2px rgba(0, 0, 0, 0.3));\n",
              "      fill: #FFFFFF;\n",
              "    }\n",
              "  </style>\n",
              "\n",
              "      <script>\n",
              "        const buttonEl =\n",
              "          document.querySelector('#df-6bdac975-431c-4adf-b2d7-e70dd78b9d7b button.colab-df-convert');\n",
              "        buttonEl.style.display =\n",
              "          google.colab.kernel.accessAllowed ? 'block' : 'none';\n",
              "\n",
              "        async function convertToInteractive(key) {\n",
              "          const element = document.querySelector('#df-6bdac975-431c-4adf-b2d7-e70dd78b9d7b');\n",
              "          const dataTable =\n",
              "            await google.colab.kernel.invokeFunction('convertToInteractive',\n",
              "                                                     [key], {});\n",
              "          if (!dataTable) return;\n",
              "\n",
              "          const docLinkHtml = 'Like what you see? Visit the ' +\n",
              "            '<a target=\"_blank\" href=https://colab.research.google.com/notebooks/data_table.ipynb>data table notebook</a>'\n",
              "            + ' to learn more about interactive tables.';\n",
              "          element.innerHTML = '';\n",
              "          dataTable['output_type'] = 'display_data';\n",
              "          await google.colab.output.renderOutput(dataTable, element);\n",
              "          const docLink = document.createElement('div');\n",
              "          docLink.innerHTML = docLinkHtml;\n",
              "          element.appendChild(docLink);\n",
              "        }\n",
              "      </script>\n",
              "    </div>\n",
              "  </div>\n",
              "  "
            ]
          },
          "metadata": {},
          "execution_count": 245
        }
      ]
    },
    {
      "cell_type": "code",
      "source": [
        "def data_splitter(scale = True):\n",
        "  \"\"\"split the data into training and validation split\n",
        "  scale: if True the training and testing data will be scaled using x' = (x - μ) / σ\n",
        "  where x is a datapoint of the column to be scaled, μ is the mean and σ is the standard deviation\"\"\"\n",
        "  X_train, X_test, y_train, y_test = train_test_split(X,y,test_size = 0.2,random_state = 111,stratify = y)\n",
        "\n",
        "  if scale:\n",
        "    scaler = StandardScaler()\n",
        "    X_train = scaler.fit_transform(X_train)\n",
        "    X_test = scaler.transform(X_test)\n",
        "\n",
        "  return X_train, X_test, y_train, y_test"
      ],
      "metadata": {
        "id": "eii6FYMbEbjW"
      },
      "execution_count": 246,
      "outputs": []
    },
    {
      "cell_type": "code",
      "source": [
        "bins = pd.IntervalIndex.from_tuples([(0, 6), (6,9)])\n",
        "ict = pd.cut(df['i_c_t'],bins = bins,labels = ['Pass','Fail'])\n",
        "df['ict'] = ict"
      ],
      "metadata": {
        "id": "9tZgu3BVFU5t"
      },
      "execution_count": 247,
      "outputs": []
    },
    {
      "cell_type": "code",
      "source": [
        "# \"convert the ict interval into string categorical\"\n",
        "# try:\n",
        "#         assert df['ict'].isin(['pass','average','fail']).any() == True\n",
        "#         print(\"already exists\")\n",
        "\n",
        "# except Exception as e:\n",
        "\n",
        "#         df['ict'] = df.ict.astype('str').map(\n",
        "#                 {'(0, 3]':'Pass',\n",
        "#                 '(3, 6]':'Average',\n",
        "#                 '(6, 9]':'Fail'}\n",
        "#         )\n",
        "\n",
        "\n",
        "\n",
        "# df['ict'] = df['ict'].astype(pd.CategoricalDtype())\n",
        "\n",
        "\"convert the ict interval into string categorical\"\n",
        "try:\n",
        "        assert df['ict'].isin(['Pass','Fail']).any() == True\n",
        "        print(\"already exists\")\n",
        "\n",
        "except Exception as e:\n",
        "\n",
        "        df['ict'] = df.ict.astype('str').map(\n",
        "                {'(0, 6]':'Pass',\n",
        "                '(6, 9]':'Fail'}\n",
        "        )\n",
        "\n",
        "\n",
        "\n",
        "df['ict'] = df['ict'].astype(pd.CategoricalDtype())"
      ],
      "metadata": {
        "id": "pyTH1XATFmtW"
      },
      "execution_count": 248,
      "outputs": []
    },
    {
      "cell_type": "code",
      "source": [
        "df = df.drop(columns = ['i_c_t','age'])\n",
        "df.head()"
      ],
      "metadata": {
        "id": "nqYxFdYaHtE5",
        "outputId": "b58b5305-7c28-42b5-90a4-24cac11e2955",
        "colab": {
          "base_uri": "https://localhost:8080/",
          "height": 206
        }
      },
      "execution_count": 249,
      "outputs": [
        {
          "output_type": "execute_result",
          "data": {
            "text/plain": [
              "   schtype  gender  circuit  c_record  mock  age_category   ict\n",
              "0        1       1        5        38  85.0             0  Pass\n",
              "1        1       0        5        36  67.0             0  Pass\n",
              "2        0       1        0        38  67.0             2  Pass\n",
              "3        1       1        5        38  83.0             0  Pass\n",
              "4        0       1        4        37  65.0             1  Pass"
            ],
            "text/html": [
              "\n",
              "  <div id=\"df-cea15f5f-93e9-4f3e-b293-ac0e2699c1ad\">\n",
              "    <div class=\"colab-df-container\">\n",
              "      <div>\n",
              "<style scoped>\n",
              "    .dataframe tbody tr th:only-of-type {\n",
              "        vertical-align: middle;\n",
              "    }\n",
              "\n",
              "    .dataframe tbody tr th {\n",
              "        vertical-align: top;\n",
              "    }\n",
              "\n",
              "    .dataframe thead th {\n",
              "        text-align: right;\n",
              "    }\n",
              "</style>\n",
              "<table border=\"1\" class=\"dataframe\">\n",
              "  <thead>\n",
              "    <tr style=\"text-align: right;\">\n",
              "      <th></th>\n",
              "      <th>schtype</th>\n",
              "      <th>gender</th>\n",
              "      <th>circuit</th>\n",
              "      <th>c_record</th>\n",
              "      <th>mock</th>\n",
              "      <th>age_category</th>\n",
              "      <th>ict</th>\n",
              "    </tr>\n",
              "  </thead>\n",
              "  <tbody>\n",
              "    <tr>\n",
              "      <th>0</th>\n",
              "      <td>1</td>\n",
              "      <td>1</td>\n",
              "      <td>5</td>\n",
              "      <td>38</td>\n",
              "      <td>85.0</td>\n",
              "      <td>0</td>\n",
              "      <td>Pass</td>\n",
              "    </tr>\n",
              "    <tr>\n",
              "      <th>1</th>\n",
              "      <td>1</td>\n",
              "      <td>0</td>\n",
              "      <td>5</td>\n",
              "      <td>36</td>\n",
              "      <td>67.0</td>\n",
              "      <td>0</td>\n",
              "      <td>Pass</td>\n",
              "    </tr>\n",
              "    <tr>\n",
              "      <th>2</th>\n",
              "      <td>0</td>\n",
              "      <td>1</td>\n",
              "      <td>0</td>\n",
              "      <td>38</td>\n",
              "      <td>67.0</td>\n",
              "      <td>2</td>\n",
              "      <td>Pass</td>\n",
              "    </tr>\n",
              "    <tr>\n",
              "      <th>3</th>\n",
              "      <td>1</td>\n",
              "      <td>1</td>\n",
              "      <td>5</td>\n",
              "      <td>38</td>\n",
              "      <td>83.0</td>\n",
              "      <td>0</td>\n",
              "      <td>Pass</td>\n",
              "    </tr>\n",
              "    <tr>\n",
              "      <th>4</th>\n",
              "      <td>0</td>\n",
              "      <td>1</td>\n",
              "      <td>4</td>\n",
              "      <td>37</td>\n",
              "      <td>65.0</td>\n",
              "      <td>1</td>\n",
              "      <td>Pass</td>\n",
              "    </tr>\n",
              "  </tbody>\n",
              "</table>\n",
              "</div>\n",
              "      <button class=\"colab-df-convert\" onclick=\"convertToInteractive('df-cea15f5f-93e9-4f3e-b293-ac0e2699c1ad')\"\n",
              "              title=\"Convert this dataframe to an interactive table.\"\n",
              "              style=\"display:none;\">\n",
              "        \n",
              "  <svg xmlns=\"http://www.w3.org/2000/svg\" height=\"24px\"viewBox=\"0 0 24 24\"\n",
              "       width=\"24px\">\n",
              "    <path d=\"M0 0h24v24H0V0z\" fill=\"none\"/>\n",
              "    <path d=\"M18.56 5.44l.94 2.06.94-2.06 2.06-.94-2.06-.94-.94-2.06-.94 2.06-2.06.94zm-11 1L8.5 8.5l.94-2.06 2.06-.94-2.06-.94L8.5 2.5l-.94 2.06-2.06.94zm10 10l.94 2.06.94-2.06 2.06-.94-2.06-.94-.94-2.06-.94 2.06-2.06.94z\"/><path d=\"M17.41 7.96l-1.37-1.37c-.4-.4-.92-.59-1.43-.59-.52 0-1.04.2-1.43.59L10.3 9.45l-7.72 7.72c-.78.78-.78 2.05 0 2.83L4 21.41c.39.39.9.59 1.41.59.51 0 1.02-.2 1.41-.59l7.78-7.78 2.81-2.81c.8-.78.8-2.07 0-2.86zM5.41 20L4 18.59l7.72-7.72 1.47 1.35L5.41 20z\"/>\n",
              "  </svg>\n",
              "      </button>\n",
              "      \n",
              "  <style>\n",
              "    .colab-df-container {\n",
              "      display:flex;\n",
              "      flex-wrap:wrap;\n",
              "      gap: 12px;\n",
              "    }\n",
              "\n",
              "    .colab-df-convert {\n",
              "      background-color: #E8F0FE;\n",
              "      border: none;\n",
              "      border-radius: 50%;\n",
              "      cursor: pointer;\n",
              "      display: none;\n",
              "      fill: #1967D2;\n",
              "      height: 32px;\n",
              "      padding: 0 0 0 0;\n",
              "      width: 32px;\n",
              "    }\n",
              "\n",
              "    .colab-df-convert:hover {\n",
              "      background-color: #E2EBFA;\n",
              "      box-shadow: 0px 1px 2px rgba(60, 64, 67, 0.3), 0px 1px 3px 1px rgba(60, 64, 67, 0.15);\n",
              "      fill: #174EA6;\n",
              "    }\n",
              "\n",
              "    [theme=dark] .colab-df-convert {\n",
              "      background-color: #3B4455;\n",
              "      fill: #D2E3FC;\n",
              "    }\n",
              "\n",
              "    [theme=dark] .colab-df-convert:hover {\n",
              "      background-color: #434B5C;\n",
              "      box-shadow: 0px 1px 3px 1px rgba(0, 0, 0, 0.15);\n",
              "      filter: drop-shadow(0px 1px 2px rgba(0, 0, 0, 0.3));\n",
              "      fill: #FFFFFF;\n",
              "    }\n",
              "  </style>\n",
              "\n",
              "      <script>\n",
              "        const buttonEl =\n",
              "          document.querySelector('#df-cea15f5f-93e9-4f3e-b293-ac0e2699c1ad button.colab-df-convert');\n",
              "        buttonEl.style.display =\n",
              "          google.colab.kernel.accessAllowed ? 'block' : 'none';\n",
              "\n",
              "        async function convertToInteractive(key) {\n",
              "          const element = document.querySelector('#df-cea15f5f-93e9-4f3e-b293-ac0e2699c1ad');\n",
              "          const dataTable =\n",
              "            await google.colab.kernel.invokeFunction('convertToInteractive',\n",
              "                                                     [key], {});\n",
              "          if (!dataTable) return;\n",
              "\n",
              "          const docLinkHtml = 'Like what you see? Visit the ' +\n",
              "            '<a target=\"_blank\" href=https://colab.research.google.com/notebooks/data_table.ipynb>data table notebook</a>'\n",
              "            + ' to learn more about interactive tables.';\n",
              "          element.innerHTML = '';\n",
              "          dataTable['output_type'] = 'display_data';\n",
              "          await google.colab.output.renderOutput(dataTable, element);\n",
              "          const docLink = document.createElement('div');\n",
              "          docLink.innerHTML = docLinkHtml;\n",
              "          element.appendChild(docLink);\n",
              "        }\n",
              "      </script>\n",
              "    </div>\n",
              "  </div>\n",
              "  "
            ]
          },
          "metadata": {},
          "execution_count": 249
        }
      ]
    },
    {
      "cell_type": "code",
      "source": [
        "sns.catplot(x = 'ict',data = df,kind = 'count')"
      ],
      "metadata": {
        "id": "g9NxA9B2IpTT",
        "outputId": "ef99ec3a-30ae-4b97-c534-529c5915982b",
        "colab": {
          "base_uri": "https://localhost:8080/",
          "height": 386
        }
      },
      "execution_count": 250,
      "outputs": [
        {
          "output_type": "execute_result",
          "data": {
            "text/plain": [
              "<seaborn.axisgrid.FacetGrid at 0x7f616d1c9e10>"
            ]
          },
          "metadata": {},
          "execution_count": 250
        },
        {
          "output_type": "display_data",
          "data": {
            "text/plain": [
              "<Figure size 360x360 with 1 Axes>"
            ],
            "image/png": "[encoded data removed]"
          },
          "metadata": {
            "needs_background": "light"
          }
        }
      ]
    },
    {
      "cell_type": "code",
      "source": [
        "X  = df.iloc[:,df.columns!='ict']\n",
        "y = df.iloc[:,df.columns=='ict'] #.astype(\"float32\")\n",
        "# y = y['ict'].map({'Fail':0,'Average':1,'Pass':2}).astype('flaot')\n",
        "y = y['ict'].map({'Fail':0,'Pass':1}).astype('float')\n",
        "y"
      ],
      "metadata": {
        "id": "RKGn0KoGAWq8",
        "outputId": "cb124d9e-27ec-4298-ef67-4f48d1749a72",
        "colab": {
          "base_uri": "https://localhost:8080/"
        }
      },
      "execution_count": 253,
      "outputs": [
        {
          "output_type": "execute_result",
          "data": {
            "text/plain": [
              "0       1.0\n",
              "1       1.0\n",
              "2       1.0\n",
              "3       1.0\n",
              "4       1.0\n",
              "       ... \n",
              "3138    0.0\n",
              "3139    0.0\n",
              "3140    0.0\n",
              "3141    0.0\n",
              "3142    0.0\n",
              "Name: ict, Length: 3143, dtype: float64"
            ]
          },
          "metadata": {},
          "execution_count": 253
        }
      ]
    },
    {
      "cell_type": "code",
      "source": [
        "y = tf.keras.utils.to_categorical(y) #convert y to one-hot-encodings"
      ],
      "metadata": {
        "id": "hExPsTTXTVUk"
      },
      "execution_count": 254,
      "outputs": []
    },
    {
      "cell_type": "code",
      "source": [
        "X.head()"
      ],
      "metadata": {
        "id": "vRFnYvosG7ng",
        "outputId": "c7806527-83c3-4eed-a87a-b99328b4598c",
        "colab": {
          "base_uri": "https://localhost:8080/",
          "height": 206
        }
      },
      "execution_count": 255,
      "outputs": [
        {
          "output_type": "execute_result",
          "data": {
            "text/plain": [
              "   schtype  gender  circuit  c_record  mock  age_category\n",
              "0        1       1        5        38  85.0             0\n",
              "1        1       0        5        36  67.0             0\n",
              "2        0       1        0        38  67.0             2\n",
              "3        1       1        5        38  83.0             0\n",
              "4        0       1        4        37  65.0             1"
            ],
            "text/html": [
              "\n",
              "  <div id=\"df-1f00eade-cef2-48f7-9e5c-e20f6d3f5e76\">\n",
              "    <div class=\"colab-df-container\">\n",
              "      <div>\n",
              "<style scoped>\n",
              "    .dataframe tbody tr th:only-of-type {\n",
              "        vertical-align: middle;\n",
              "    }\n",
              "\n",
              "    .dataframe tbody tr th {\n",
              "        vertical-align: top;\n",
              "    }\n",
              "\n",
              "    .dataframe thead th {\n",
              "        text-align: right;\n",
              "    }\n",
              "</style>\n",
              "<table border=\"1\" class=\"dataframe\">\n",
              "  <thead>\n",
              "    <tr style=\"text-align: right;\">\n",
              "      <th></th>\n",
              "      <th>schtype</th>\n",
              "      <th>gender</th>\n",
              "      <th>circuit</th>\n",
              "      <th>c_record</th>\n",
              "      <th>mock</th>\n",
              "      <th>age_category</th>\n",
              "    </tr>\n",
              "  </thead>\n",
              "  <tbody>\n",
              "    <tr>\n",
              "      <th>0</th>\n",
              "      <td>1</td>\n",
              "      <td>1</td>\n",
              "      <td>5</td>\n",
              "      <td>38</td>\n",
              "      <td>85.0</td>\n",
              "      <td>0</td>\n",
              "    </tr>\n",
              "    <tr>\n",
              "      <th>1</th>\n",
              "      <td>1</td>\n",
              "      <td>0</td>\n",
              "      <td>5</td>\n",
              "      <td>36</td>\n",
              "      <td>67.0</td>\n",
              "      <td>0</td>\n",
              "    </tr>\n",
              "    <tr>\n",
              "      <th>2</th>\n",
              "      <td>0</td>\n",
              "      <td>1</td>\n",
              "      <td>0</td>\n",
              "      <td>38</td>\n",
              "      <td>67.0</td>\n",
              "      <td>2</td>\n",
              "    </tr>\n",
              "    <tr>\n",
              "      <th>3</th>\n",
              "      <td>1</td>\n",
              "      <td>1</td>\n",
              "      <td>5</td>\n",
              "      <td>38</td>\n",
              "      <td>83.0</td>\n",
              "      <td>0</td>\n",
              "    </tr>\n",
              "    <tr>\n",
              "      <th>4</th>\n",
              "      <td>0</td>\n",
              "      <td>1</td>\n",
              "      <td>4</td>\n",
              "      <td>37</td>\n",
              "      <td>65.0</td>\n",
              "      <td>1</td>\n",
              "    </tr>\n",
              "  </tbody>\n",
              "</table>\n",
              "</div>\n",
              "      <button class=\"colab-df-convert\" onclick=\"convertToInteractive('df-1f00eade-cef2-48f7-9e5c-e20f6d3f5e76')\"\n",
              "              title=\"Convert this dataframe to an interactive table.\"\n",
              "              style=\"display:none;\">\n",
              "        \n",
              "  <svg xmlns=\"http://www.w3.org/2000/svg\" height=\"24px\"viewBox=\"0 0 24 24\"\n",
              "       width=\"24px\">\n",
              "    <path d=\"M0 0h24v24H0V0z\" fill=\"none\"/>\n",
              "    <path d=\"M18.56 5.44l.94 2.06.94-2.06 2.06-.94-2.06-.94-.94-2.06-.94 2.06-2.06.94zm-11 1L8.5 8.5l.94-2.06 2.06-.94-2.06-.94L8.5 2.5l-.94 2.06-2.06.94zm10 10l.94 2.06.94-2.06 2.06-.94-2.06-.94-.94-2.06-.94 2.06-2.06.94z\"/><path d=\"M17.41 7.96l-1.37-1.37c-.4-.4-.92-.59-1.43-.59-.52 0-1.04.2-1.43.59L10.3 9.45l-7.72 7.72c-.78.78-.78 2.05 0 2.83L4 21.41c.39.39.9.59 1.41.59.51 0 1.02-.2 1.41-.59l7.78-7.78 2.81-2.81c.8-.78.8-2.07 0-2.86zM5.41 20L4 18.59l7.72-7.72 1.47 1.35L5.41 20z\"/>\n",
              "  </svg>\n",
              "      </button>\n",
              "      \n",
              "  <style>\n",
              "    .colab-df-container {\n",
              "      display:flex;\n",
              "      flex-wrap:wrap;\n",
              "      gap: 12px;\n",
              "    }\n",
              "\n",
              "    .colab-df-convert {\n",
              "      background-color: #E8F0FE;\n",
              "      border: none;\n",
              "      border-radius: 50%;\n",
              "      cursor: pointer;\n",
              "      display: none;\n",
              "      fill: #1967D2;\n",
              "      height: 32px;\n",
              "      padding: 0 0 0 0;\n",
              "      width: 32px;\n",
              "    }\n",
              "\n",
              "    .colab-df-convert:hover {\n",
              "      background-color: #E2EBFA;\n",
              "      box-shadow: 0px 1px 2px rgba(60, 64, 67, 0.3), 0px 1px 3px 1px rgba(60, 64, 67, 0.15);\n",
              "      fill: #174EA6;\n",
              "    }\n",
              "\n",
              "    [theme=dark] .colab-df-convert {\n",
              "      background-color: #3B4455;\n",
              "      fill: #D2E3FC;\n",
              "    }\n",
              "\n",
              "    [theme=dark] .colab-df-convert:hover {\n",
              "      background-color: #434B5C;\n",
              "      box-shadow: 0px 1px 3px 1px rgba(0, 0, 0, 0.15);\n",
              "      filter: drop-shadow(0px 1px 2px rgba(0, 0, 0, 0.3));\n",
              "      fill: #FFFFFF;\n",
              "    }\n",
              "  </style>\n",
              "\n",
              "      <script>\n",
              "        const buttonEl =\n",
              "          document.querySelector('#df-1f00eade-cef2-48f7-9e5c-e20f6d3f5e76 button.colab-df-convert');\n",
              "        buttonEl.style.display =\n",
              "          google.colab.kernel.accessAllowed ? 'block' : 'none';\n",
              "\n",
              "        async function convertToInteractive(key) {\n",
              "          const element = document.querySelector('#df-1f00eade-cef2-48f7-9e5c-e20f6d3f5e76');\n",
              "          const dataTable =\n",
              "            await google.colab.kernel.invokeFunction('convertToInteractive',\n",
              "                                                     [key], {});\n",
              "          if (!dataTable) return;\n",
              "\n",
              "          const docLinkHtml = 'Like what you see? Visit the ' +\n",
              "            '<a target=\"_blank\" href=https://colab.research.google.com/notebooks/data_table.ipynb>data table notebook</a>'\n",
              "            + ' to learn more about interactive tables.';\n",
              "          element.innerHTML = '';\n",
              "          dataTable['output_type'] = 'display_data';\n",
              "          await google.colab.output.renderOutput(dataTable, element);\n",
              "          const docLink = document.createElement('div');\n",
              "          docLink.innerHTML = docLinkHtml;\n",
              "          element.appendChild(docLink);\n",
              "        }\n",
              "      </script>\n",
              "    </div>\n",
              "  </div>\n",
              "  "
            ]
          },
          "metadata": {},
          "execution_count": 255
        }
      ]
    },
    {
      "cell_type": "code",
      "source": [
        "X_train, X_test, y_train, y_test = data_splitter(scale = True)"
      ],
      "metadata": {
        "id": "Jn5yu8Aui87t"
      },
      "execution_count": 256,
      "outputs": []
    },
    {
      "cell_type": "code",
      "source": [
        "print(\"shape of X\",((X_train.size/X.size)*100),\"%\")\n",
        "print(\"shape of X\",((X_test.size/X.size)*100),\"%\")"
      ],
      "metadata": {
        "colab": {
          "base_uri": "https://localhost:8080/"
        },
        "id": "qH1adapDNTTQ",
        "outputId": "ce8665eb-9f68-4b2e-ca15-bb1128ce886e"
      },
      "execution_count": 257,
      "outputs": [
        {
          "output_type": "stream",
          "name": "stdout",
          "text": [
            "shape of X 79.98727330575883 %\n",
            "shape of X 20.01272669424117 %\n"
          ]
        }
      ]
    },
    {
      "cell_type": "code",
      "source": [
        "class NeuralNet(tf.keras.Model):\n",
        "  def __init__(self,out_layer,in_layers = [32,64,128]):\n",
        "    super(NeuralNet,self).__init__()\n",
        "    self.in_layers = in_layers\n",
        "    self.out_layer = out_layer\n",
        "    \n",
        "    self.first_layer = tf.keras.layers.Dense(self.in_layers[0],name = \"first_layer\",activation = 'relu',input_shape = (6,))\n",
        "   # self.dropout = tf.keras.layers.Dropout(0.2,name = 'dropout')\n",
        "    self.second_layer  = tf.keras.layers.Dense(self.in_layers[1],name = \"second_layer\",activation = 'relu')\n",
        "    self.third_layer = tf.keras.layers.Dense(self.in_layers[2],name = \"third_layer\",activation = 'relu')\n",
        "    self.last_layer = tf.keras.layers.Dense(self.out_layer,name = \"last_layer\",activation=\"softmax\")\n",
        "\n",
        "  def call(self,x):\n",
        "    x = self.first_layer(x)\n",
        "    x = self.second_layer(x)\n",
        "    #x = self.dropout = self.dropout(x)\n",
        "    x = self.third_layer(x)\n",
        "    output = self.last_layer(x)\n",
        "    return output"
      ],
      "metadata": {
        "id": "_Fujng9mNsk-"
      },
      "execution_count": 258,
      "outputs": []
    },
    {
      "cell_type": "code",
      "source": [
        "model = NeuralNet(out_layer = 2)"
      ],
      "metadata": {
        "id": "RsB3FXrOOBG-"
      },
      "execution_count": 259,
      "outputs": []
    },
    {
      "cell_type": "code",
      "source": [
        "model.compile(optimizer='adam', # use adaptive momentum\n",
        "              loss='categorical_crossentropy',\n",
        "              metrics=['accuracy'])\n",
        "              \n",
        "# Train the Model\n",
        "tf.keras.backend.clear_session()\n",
        "history = model.fit(X_train, y_train, validation_data=(X_test, y_test),epochs= 7) #training for 500 epochs"
      ],
      "metadata": {
        "colab": {
          "base_uri": "https://localhost:8080/"
        },
        "id": "MdjYzeiWSZoM",
        "outputId": "0fa104ee-06ee-4edf-993c-b784579401ae"
      },
      "execution_count": 269,
      "outputs": [
        {
          "output_type": "stream",
          "name": "stdout",
          "text": [
            "Epoch 1/7\n",
            "79/79 [==============================] - 1s 6ms/step - loss: 0.2441 - accuracy: 0.8850 - val_loss: 0.4797 - val_accuracy: 0.7981\n",
            "Epoch 2/7\n",
            "79/79 [==============================] - 0s 3ms/step - loss: 0.2406 - accuracy: 0.8898 - val_loss: 0.4602 - val_accuracy: 0.8029\n",
            "Epoch 3/7\n",
            "79/79 [==============================] - 0s 3ms/step - loss: 0.2357 - accuracy: 0.8898 - val_loss: 0.4704 - val_accuracy: 0.7997\n",
            "Epoch 4/7\n",
            "79/79 [==============================] - 0s 3ms/step - loss: 0.2342 - accuracy: 0.8819 - val_loss: 0.4739 - val_accuracy: 0.7981\n",
            "Epoch 5/7\n",
            "79/79 [==============================] - 0s 3ms/step - loss: 0.2336 - accuracy: 0.8799 - val_loss: 0.4761 - val_accuracy: 0.8045\n",
            "Epoch 6/7\n",
            "79/79 [==============================] - 0s 3ms/step - loss: 0.2310 - accuracy: 0.8918 - val_loss: 0.4717 - val_accuracy: 0.7901\n",
            "Epoch 7/7\n",
            "79/79 [==============================] - 0s 3ms/step - loss: 0.2310 - accuracy: 0.8902 - val_loss: 0.4860 - val_accuracy: 0.8076\n"
          ]
        }
      ]
    },
    {
      "cell_type": "code",
      "source": [
        "print(history.history.keys())"
      ],
      "metadata": {
        "id": "14-ikOPpQUnE",
        "colab": {
          "base_uri": "https://localhost:8080/"
        },
        "outputId": "0cbf2c18-59c7-4c88-c5ec-d6cc96553af2"
      },
      "execution_count": 264,
      "outputs": [
        {
          "output_type": "stream",
          "name": "stdout",
          "text": [
            "dict_keys(['loss', 'accuracy', 'val_loss', 'val_accuracy'])\n"
          ]
        }
      ]
    },
    {
      "cell_type": "code",
      "source": [
        "# summarize history for accuracy\n",
        "plt.figure(figsize = (12,9))\n",
        "plt.plot(history.history['accuracy'])\n",
        "plt.plot(history.history['val_accuracy'])\n",
        "plt.title('model accuracy')\n",
        "plt.ylabel('accuracy')\n",
        "plt.xlabel('epoch')\n",
        "plt.legend(['train', 'test'], loc='upper left')\n",
        "plt.show()\n",
        "# summarize history for loss\n",
        "plt.plot(history.history['loss'])\n",
        "plt.plot(history.history['val_loss'])\n",
        "plt.title('model loss')\n",
        "plt.ylabel('loss')\n",
        "plt.xlabel('epoch')\n",
        "plt.legend(['train', 'test'], loc='upper left')\n",
        "plt.show()"
      ],
      "metadata": {
        "colab": {
          "base_uri": "https://localhost:8080/",
          "height": 845
        },
        "id": "auPIiKqueO22",
        "outputId": "37b80210-c171-4b1a-951e-fe3fb301b354"
      },
      "execution_count": 270,
      "outputs": [
        {
          "output_type": "display_data",
          "data": {
            "text/plain": [
              "<Figure size 864x648 with 1 Axes>"
            ],
            "image/png": "[encoded data removed]"
          },
          "metadata": {
            "needs_background": "light"
          }
        },
        {
          "output_type": "display_data",
          "data": {
            "text/plain": [
              "<Figure size 432x288 with 1 Axes>"
            ],
            "image/png": "[encoded data removed]"
          },
          "metadata": {
            "needs_background": "light"
          }
        }
      ]
    },
    {
      "cell_type": "code",
      "source": [],
      "metadata": {
        "id": "fXJfMdWCe2CX"
      },
      "execution_count": null,
      "outputs": []
    }
  ]
}